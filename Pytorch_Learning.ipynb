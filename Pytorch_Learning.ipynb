{
  "nbformat": 4,
  "nbformat_minor": 0,
  "metadata": {
    "colab": {
      "provenance": [],
      "authorship_tag": "ABX9TyPOrCZikdRQTseblixFSIIx",
      "include_colab_link": true
    },
    "kernelspec": {
      "name": "python3",
      "display_name": "Python 3"
    },
    "language_info": {
      "name": "python"
    }
  },
  "cells": [
    {
      "cell_type": "markdown",
      "metadata": {
        "id": "view-in-github",
        "colab_type": "text"
      },
      "source": [
        "<a href=\"https://colab.research.google.com/github/DinalAdithya/Learning-PYTorch/blob/main/Pytorch_Learning.ipynb\" target=\"_parent\"><img src=\"https://colab.research.google.com/assets/colab-badge.svg\" alt=\"Open In Colab\"/></a>"
      ]
    },
    {
      "cell_type": "code",
      "source": [
        "import torch\n",
        "import pandas as pd\n",
        "import numpy as np\n",
        "import matplotlib as plt\n",
        "print (torch.__version__)"
      ],
      "metadata": {
        "colab": {
          "base_uri": "https://localhost:8080/"
        },
        "id": "qjlcVT4x9Zeh",
        "outputId": "9614867c-2904-42bd-8ffa-2ac836026313"
      },
      "execution_count": 2,
      "outputs": [
        {
          "output_type": "stream",
          "name": "stdout",
          "text": [
            "2.1.0+cu121\n"
          ]
        }
      ]
    },
    {
      "cell_type": "markdown",
      "source": [
        "Intoduction to Tensors"
      ],
      "metadata": {
        "id": "0d7Rkhsr_R7L"
      }
    },
    {
      "cell_type": "code",
      "source": [
        "#scalar\n",
        "scalar = torch.tensor(7)\n",
        "scalar"
      ],
      "metadata": {
        "colab": {
          "base_uri": "https://localhost:8080/"
        },
        "id": "0QuVksof_XgB",
        "outputId": "7f74a065-4193-48f6-a3ac-961e6d8e26c8"
      },
      "execution_count": 3,
      "outputs": [
        {
          "output_type": "execute_result",
          "data": {
            "text/plain": [
              "tensor(7)"
            ]
          },
          "metadata": {},
          "execution_count": 3
        }
      ]
    },
    {
      "cell_type": "code",
      "source": [
        "# no dimantions\n",
        "scalar.ndim"
      ],
      "metadata": {
        "colab": {
          "base_uri": "https://localhost:8080/"
        },
        "id": "8b-BqAcl_7us",
        "outputId": "dc5b4fdd-845b-4dd5-917c-f23126d7960e"
      },
      "execution_count": 4,
      "outputs": [
        {
          "output_type": "execute_result",
          "data": {
            "text/plain": [
              "0"
            ]
          },
          "metadata": {},
          "execution_count": 4
        }
      ]
    },
    {
      "cell_type": "code",
      "source": [
        "# get tensor back as Python int\n",
        "scalar.item()"
      ],
      "metadata": {
        "colab": {
          "base_uri": "https://localhost:8080/"
        },
        "id": "-b9PObsUAnB5",
        "outputId": "d260b27f-6fbb-448f-b6b3-9aa08acb7b55"
      },
      "execution_count": 5,
      "outputs": [
        {
          "output_type": "execute_result",
          "data": {
            "text/plain": [
              "7"
            ]
          },
          "metadata": {},
          "execution_count": 5
        }
      ]
    },
    {
      "cell_type": "code",
      "source": [
        "# vector\n",
        "vector = torch.tensor([7, 7])\n",
        "vector"
      ],
      "metadata": {
        "colab": {
          "base_uri": "https://localhost:8080/"
        },
        "id": "IJ2a4myMA7jA",
        "outputId": "58ff6ab1-2212-4572-c2da-c8c0c23499f5"
      },
      "execution_count": 6,
      "outputs": [
        {
          "output_type": "execute_result",
          "data": {
            "text/plain": [
              "tensor([7, 7])"
            ]
          },
          "metadata": {},
          "execution_count": 6
        }
      ]
    },
    {
      "cell_type": "code",
      "source": [
        "vector.ndim"
      ],
      "metadata": {
        "colab": {
          "base_uri": "https://localhost:8080/"
        },
        "id": "0AeUcVHpBVVy",
        "outputId": "125aff9c-208e-45a2-bd8f-eed995973aa1"
      },
      "execution_count": 7,
      "outputs": [
        {
          "output_type": "execute_result",
          "data": {
            "text/plain": [
              "1"
            ]
          },
          "metadata": {},
          "execution_count": 7
        }
      ]
    },
    {
      "cell_type": "code",
      "source": [
        "vector.shape"
      ],
      "metadata": {
        "colab": {
          "base_uri": "https://localhost:8080/"
        },
        "id": "gmrU-__zBcTQ",
        "outputId": "04c721c2-f6f9-43a8-cc58-563adb17d6b4"
      },
      "execution_count": 8,
      "outputs": [
        {
          "output_type": "execute_result",
          "data": {
            "text/plain": [
              "torch.Size([2])"
            ]
          },
          "metadata": {},
          "execution_count": 8
        }
      ]
    },
    {
      "cell_type": "code",
      "source": [
        "# MATRIX\n",
        "MATRIX =torch.tensor([[7, 8],\n",
        "                      [9, 10]])\n",
        "MATRIX"
      ],
      "metadata": {
        "colab": {
          "base_uri": "https://localhost:8080/"
        },
        "id": "0o_gZJp6BoJZ",
        "outputId": "57045cd6-91b5-4e52-806a-7f05674bbb97"
      },
      "execution_count": 9,
      "outputs": [
        {
          "output_type": "execute_result",
          "data": {
            "text/plain": [
              "tensor([[ 7,  8],\n",
              "        [ 9, 10]])"
            ]
          },
          "metadata": {},
          "execution_count": 9
        }
      ]
    },
    {
      "cell_type": "code",
      "source": [
        "MATRIX.ndim"
      ],
      "metadata": {
        "colab": {
          "base_uri": "https://localhost:8080/"
        },
        "id": "sNvOvXN8CFg6",
        "outputId": "59342dce-d0f6-45f3-99f5-d8efdd227b73"
      },
      "execution_count": 10,
      "outputs": [
        {
          "output_type": "execute_result",
          "data": {
            "text/plain": [
              "2"
            ]
          },
          "metadata": {},
          "execution_count": 10
        }
      ]
    },
    {
      "cell_type": "code",
      "source": [
        "MATRIX[0]"
      ],
      "metadata": {
        "colab": {
          "base_uri": "https://localhost:8080/"
        },
        "id": "EORvsRetDPYJ",
        "outputId": "dcf00442-1fc3-4774-9a58-ae7e153c6cd2"
      },
      "execution_count": 11,
      "outputs": [
        {
          "output_type": "execute_result",
          "data": {
            "text/plain": [
              "tensor([7, 8])"
            ]
          },
          "metadata": {},
          "execution_count": 11
        }
      ]
    },
    {
      "cell_type": "code",
      "source": [
        "MATRIX[1]"
      ],
      "metadata": {
        "colab": {
          "base_uri": "https://localhost:8080/"
        },
        "id": "LbdRKMOADWbB",
        "outputId": "f8fa8bb1-16a5-4f5b-ad5e-a56883a4c236"
      },
      "execution_count": 12,
      "outputs": [
        {
          "output_type": "execute_result",
          "data": {
            "text/plain": [
              "tensor([ 9, 10])"
            ]
          },
          "metadata": {},
          "execution_count": 12
        }
      ]
    },
    {
      "cell_type": "code",
      "source": [
        "MATRIX.shape"
      ],
      "metadata": {
        "colab": {
          "base_uri": "https://localhost:8080/"
        },
        "id": "Tfx6fyzIDgvo",
        "outputId": "be72c42e-f92e-4c06-b123-f35e215d5a64"
      },
      "execution_count": 13,
      "outputs": [
        {
          "output_type": "execute_result",
          "data": {
            "text/plain": [
              "torch.Size([2, 2])"
            ]
          },
          "metadata": {},
          "execution_count": 13
        }
      ]
    },
    {
      "cell_type": "code",
      "source": [
        "# TENSOR\n",
        "TENSOR = torch.tensor([[[1, 2, 3],\n",
        "                        [4, 5, 6],\n",
        "                        [7, 8, 9]],\n",
        "                       [[1, 2, 3],\n",
        "                        [4, 5, 6],\n",
        "                        [7, 8, 9]]])\n",
        "TENSOR"
      ],
      "metadata": {
        "colab": {
          "base_uri": "https://localhost:8080/"
        },
        "id": "nDyqqXr4Dldw",
        "outputId": "ee577ff2-4c5c-455b-bfd3-b88e35a68358"
      },
      "execution_count": 14,
      "outputs": [
        {
          "output_type": "execute_result",
          "data": {
            "text/plain": [
              "tensor([[[1, 2, 3],\n",
              "         [4, 5, 6],\n",
              "         [7, 8, 9]],\n",
              "\n",
              "        [[1, 2, 3],\n",
              "         [4, 5, 6],\n",
              "         [7, 8, 9]]])"
            ]
          },
          "metadata": {},
          "execution_count": 14
        }
      ]
    },
    {
      "cell_type": "code",
      "source": [
        "TENSOR.ndim"
      ],
      "metadata": {
        "colab": {
          "base_uri": "https://localhost:8080/"
        },
        "id": "SzzsWsmtEAoA",
        "outputId": "e73e81ae-4ee8-4e06-810b-cd421db10d6b"
      },
      "execution_count": 15,
      "outputs": [
        {
          "output_type": "execute_result",
          "data": {
            "text/plain": [
              "3"
            ]
          },
          "metadata": {},
          "execution_count": 15
        }
      ]
    },
    {
      "cell_type": "code",
      "source": [
        "TENSOR.shape"
      ],
      "metadata": {
        "colab": {
          "base_uri": "https://localhost:8080/"
        },
        "id": "GQNACR92EZFI",
        "outputId": "18840587-e32a-408c-c1a0-5bee62543fd5"
      },
      "execution_count": 16,
      "outputs": [
        {
          "output_type": "execute_result",
          "data": {
            "text/plain": [
              "torch.Size([2, 3, 3])"
            ]
          },
          "metadata": {},
          "execution_count": 16
        }
      ]
    },
    {
      "cell_type": "code",
      "source": [
        "TENSOR[0]"
      ],
      "metadata": {
        "colab": {
          "base_uri": "https://localhost:8080/"
        },
        "id": "JrEdT0a6EgEA",
        "outputId": "007bfeb6-683c-42e9-9cb0-3184326da573"
      },
      "execution_count": 17,
      "outputs": [
        {
          "output_type": "execute_result",
          "data": {
            "text/plain": [
              "tensor([[1, 2, 3],\n",
              "        [4, 5, 6],\n",
              "        [7, 8, 9]])"
            ]
          },
          "metadata": {},
          "execution_count": 17
        }
      ]
    },
    {
      "cell_type": "code",
      "source": [
        "TENSOR[0][1]"
      ],
      "metadata": {
        "colab": {
          "base_uri": "https://localhost:8080/"
        },
        "id": "Cr313iagEnUg",
        "outputId": "b49f4e9b-82e0-4e81-f905-98d8ee2816a8"
      },
      "execution_count": 18,
      "outputs": [
        {
          "output_type": "execute_result",
          "data": {
            "text/plain": [
              "tensor([4, 5, 6])"
            ]
          },
          "metadata": {},
          "execution_count": 18
        }
      ]
    },
    {
      "cell_type": "code",
      "source": [
        "TENSOR[0][1][2]"
      ],
      "metadata": {
        "colab": {
          "base_uri": "https://localhost:8080/"
        },
        "id": "RuyXacRKEsRh",
        "outputId": "ff0a59f5-ffbd-4a15-fd0f-0c14954f70b2"
      },
      "execution_count": 19,
      "outputs": [
        {
          "output_type": "execute_result",
          "data": {
            "text/plain": [
              "tensor(6)"
            ]
          },
          "metadata": {},
          "execution_count": 19
        }
      ]
    },
    {
      "cell_type": "markdown",
      "source": [
        "### Random TENSORS\n",
        "\n",
        "1. These are importent becouse the way many neural networks learn with random Tensors.\n",
        "\n",
        "2. Then adjust those random Tensors to better represnt data."
      ],
      "metadata": {
        "id": "50mOFFeeEhiv"
      }
    },
    {
      "cell_type": "code",
      "source": [
        "# Create a random Tensors of shape (3, 4)\n",
        "random_tensor = torch.rand(3, 4)\n",
        "random_tensor"
      ],
      "metadata": {
        "colab": {
          "base_uri": "https://localhost:8080/"
        },
        "id": "UwGbz0bPE_z5",
        "outputId": "9205e59c-33a1-42db-a515-bf738842b1b8"
      },
      "execution_count": 20,
      "outputs": [
        {
          "output_type": "execute_result",
          "data": {
            "text/plain": [
              "tensor([[0.1765, 0.1780, 0.9642, 0.1778],\n",
              "        [0.6493, 0.5055, 0.0064, 0.3549],\n",
              "        [0.9430, 0.1940, 0.3858, 0.4252]])"
            ]
          },
          "metadata": {},
          "execution_count": 20
        }
      ]
    },
    {
      "cell_type": "code",
      "source": [
        "random_tensor.ndim"
      ],
      "metadata": {
        "colab": {
          "base_uri": "https://localhost:8080/"
        },
        "id": "cY23RU-NFk3J",
        "outputId": "7a092d0a-d9ed-4bb3-e2db-40ce8ac7ec07"
      },
      "execution_count": 21,
      "outputs": [
        {
          "output_type": "execute_result",
          "data": {
            "text/plain": [
              "2"
            ]
          },
          "metadata": {},
          "execution_count": 21
        }
      ]
    },
    {
      "cell_type": "code",
      "source": [
        "# Create random tensor with similar shape to an image tensor\n",
        "ramdom_image_size_tensor = torch.rand(size= (3, 244, 244))\n",
        "ramdom_image_size_tensor.shape, ramdom_image_size_tensor.ndim"
      ],
      "metadata": {
        "colab": {
          "base_uri": "https://localhost:8080/"
        },
        "id": "24ETrvhAGE3y",
        "outputId": "2532da00-400c-48aa-b028-9739364d2e71"
      },
      "execution_count": 22,
      "outputs": [
        {
          "output_type": "execute_result",
          "data": {
            "text/plain": [
              "(torch.Size([3, 244, 244]), 3)"
            ]
          },
          "metadata": {},
          "execution_count": 22
        }
      ]
    },
    {
      "cell_type": "markdown",
      "source": [
        "### Zeros and ones\n"
      ],
      "metadata": {
        "id": "Xkcq4xyeI5kV"
      }
    },
    {
      "cell_type": "code",
      "source": [
        "# Creaate tensor with all zeros\n",
        "zeros = torch.zeros(3,4)\n",
        "zeros"
      ],
      "metadata": {
        "colab": {
          "base_uri": "https://localhost:8080/"
        },
        "id": "nu8WVdCpIs6w",
        "outputId": "d70553b5-9c20-4cad-8542-7046f848331d"
      },
      "execution_count": 23,
      "outputs": [
        {
          "output_type": "execute_result",
          "data": {
            "text/plain": [
              "tensor([[0., 0., 0., 0.],\n",
              "        [0., 0., 0., 0.],\n",
              "        [0., 0., 0., 0.]])"
            ]
          },
          "metadata": {},
          "execution_count": 23
        }
      ]
    },
    {
      "cell_type": "code",
      "source": [
        "random_tensor*zeros"
      ],
      "metadata": {
        "colab": {
          "base_uri": "https://localhost:8080/"
        },
        "id": "ZpYMemMqJJUb",
        "outputId": "6c41005b-3897-4a64-9e46-7655eb6a242e"
      },
      "execution_count": 24,
      "outputs": [
        {
          "output_type": "execute_result",
          "data": {
            "text/plain": [
              "tensor([[0., 0., 0., 0.],\n",
              "        [0., 0., 0., 0.],\n",
              "        [0., 0., 0., 0.]])"
            ]
          },
          "metadata": {},
          "execution_count": 24
        }
      ]
    },
    {
      "cell_type": "code",
      "source": [
        "ones = torch.ones(3, 4)\n",
        "ones"
      ],
      "metadata": {
        "colab": {
          "base_uri": "https://localhost:8080/"
        },
        "id": "jWd6EZJBJdHB",
        "outputId": "f079fb4f-8f3d-4574-e8bd-7c7c855d1a3c"
      },
      "execution_count": 25,
      "outputs": [
        {
          "output_type": "execute_result",
          "data": {
            "text/plain": [
              "tensor([[1., 1., 1., 1.],\n",
              "        [1., 1., 1., 1.],\n",
              "        [1., 1., 1., 1.]])"
            ]
          },
          "metadata": {},
          "execution_count": 25
        }
      ]
    },
    {
      "cell_type": "code",
      "source": [
        "ones.dtype"
      ],
      "metadata": {
        "colab": {
          "base_uri": "https://localhost:8080/"
        },
        "id": "BZIPWyxwJpnZ",
        "outputId": "7ba307a8-1948-4ed2-9d36-550b87c92895"
      },
      "execution_count": 26,
      "outputs": [
        {
          "output_type": "execute_result",
          "data": {
            "text/plain": [
              "torch.float32"
            ]
          },
          "metadata": {},
          "execution_count": 26
        }
      ]
    },
    {
      "cell_type": "markdown",
      "source": [
        "###Creating Range of Tensors and tensors like\n",
        "\n"
      ],
      "metadata": {
        "id": "TKkEgh7GKBwm"
      }
    },
    {
      "cell_type": "code",
      "source": [
        "# use torch. range()[range dose not support so arange()]\n",
        "one_to_ten = torch.arange(1, 11)\n",
        "one_to_ten"
      ],
      "metadata": {
        "colab": {
          "base_uri": "https://localhost:8080/"
        },
        "id": "9SvPGKelKFIR",
        "outputId": "9375ae6c-f4b7-4cc9-ab06-29e0db216379"
      },
      "execution_count": 27,
      "outputs": [
        {
          "output_type": "execute_result",
          "data": {
            "text/plain": [
              "tensor([ 1,  2,  3,  4,  5,  6,  7,  8,  9, 10])"
            ]
          },
          "metadata": {},
          "execution_count": 27
        }
      ]
    },
    {
      "cell_type": "code",
      "source": [
        "torch.arange(start = 1, end = 11)\n"
      ],
      "metadata": {
        "colab": {
          "base_uri": "https://localhost:8080/"
        },
        "id": "M-HNURKCGNaq",
        "outputId": "076f1d05-563f-4b53-f7b8-1532a701d952"
      },
      "execution_count": 28,
      "outputs": [
        {
          "output_type": "execute_result",
          "data": {
            "text/plain": [
              "tensor([ 1,  2,  3,  4,  5,  6,  7,  8,  9, 10])"
            ]
          },
          "metadata": {},
          "execution_count": 28
        }
      ]
    },
    {
      "cell_type": "code",
      "source": [
        "torch.arange(1,1000,77)"
      ],
      "metadata": {
        "id": "CrnaVQhnIcWJ",
        "colab": {
          "base_uri": "https://localhost:8080/"
        },
        "outputId": "aea2415a-f91a-486b-8ca7-058a8385eeac"
      },
      "execution_count": 29,
      "outputs": [
        {
          "output_type": "execute_result",
          "data": {
            "text/plain": [
              "tensor([  1,  78, 155, 232, 309, 386, 463, 540, 617, 694, 771, 848, 925])"
            ]
          },
          "metadata": {},
          "execution_count": 29
        }
      ]
    },
    {
      "cell_type": "code",
      "source": [
        "torch.arange(start = 1, end = 1000, step = 77)"
      ],
      "metadata": {
        "colab": {
          "base_uri": "https://localhost:8080/"
        },
        "id": "qj9C7wQRk4q2",
        "outputId": "b3b9f4a4-0dbb-4b83-bbbb-1e2e7ab2535f"
      },
      "execution_count": 30,
      "outputs": [
        {
          "output_type": "execute_result",
          "data": {
            "text/plain": [
              "tensor([  1,  78, 155, 232, 309, 386, 463, 540, 617, 694, 771, 848, 925])"
            ]
          },
          "metadata": {},
          "execution_count": 30
        }
      ]
    },
    {
      "cell_type": "code",
      "source": [
        "# create tensors like (use this if need to create a tensor likes\n",
        "# something else  ) it just copy the shape\n",
        "\n",
        "one_to_ten"
      ],
      "metadata": {
        "colab": {
          "base_uri": "https://localhost:8080/"
        },
        "id": "rY65IFEKlCzN",
        "outputId": "26d09664-5e94-43ce-814f-855573dbb986"
      },
      "execution_count": 31,
      "outputs": [
        {
          "output_type": "execute_result",
          "data": {
            "text/plain": [
              "tensor([ 1,  2,  3,  4,  5,  6,  7,  8,  9, 10])"
            ]
          },
          "metadata": {},
          "execution_count": 31
        }
      ]
    },
    {
      "cell_type": "code",
      "source": [
        "ten_zeros = torch.zeros_like(one_to_ten)\n",
        "ten_zeros"
      ],
      "metadata": {
        "colab": {
          "base_uri": "https://localhost:8080/"
        },
        "id": "k1NCMqj-lQzW",
        "outputId": "b06962a5-65e9-4f7c-e1a0-f3dfd1a2b83d"
      },
      "execution_count": 32,
      "outputs": [
        {
          "output_type": "execute_result",
          "data": {
            "text/plain": [
              "tensor([0, 0, 0, 0, 0, 0, 0, 0, 0, 0])"
            ]
          },
          "metadata": {},
          "execution_count": 32
        }
      ]
    },
    {
      "cell_type": "markdown",
      "source": [
        "### Tensor Data type\n",
        "***NOTE: 3 big errors\n",
        "\n",
        "      1. Tensors not right dtypr\n",
        "      2. Tensors not right shape\n",
        "      3. Tensors not on the right device  \n"
      ],
      "metadata": {
        "id": "JpPZquUDnH_E"
      }
    },
    {
      "cell_type": "code",
      "source": [
        "# defult comes with float 32\n",
        "tensor_type = torch.tensor([3.0, 6.0, 9.0],\n",
        "                           dtype=None)\n",
        "tensor_type"
      ],
      "metadata": {
        "colab": {
          "base_uri": "https://localhost:8080/"
        },
        "id": "ehNY8cG3nLML",
        "outputId": "c22e26bc-953f-4c12-de2d-af380902e137"
      },
      "execution_count": 33,
      "outputs": [
        {
          "output_type": "execute_result",
          "data": {
            "text/plain": [
              "tensor([3., 6., 9.])"
            ]
          },
          "metadata": {},
          "execution_count": 33
        }
      ]
    },
    {
      "cell_type": "code",
      "source": [
        "tensor_type.dtype"
      ],
      "metadata": {
        "colab": {
          "base_uri": "https://localhost:8080/"
        },
        "id": "TVcMAUhRoiSV",
        "outputId": "b96945ac-590f-40f0-eb45-a7e40973eaf1"
      },
      "execution_count": 34,
      "outputs": [
        {
          "output_type": "execute_result",
          "data": {
            "text/plain": [
              "torch.float32"
            ]
          },
          "metadata": {},
          "execution_count": 34
        }
      ]
    },
    {
      "cell_type": "code",
      "source": [
        "tensor_type = torch.tensor([3.0, 6.0, 9.0],\n",
        "                           dtype=torch.float16)\n",
        "tensor_type.dtype"
      ],
      "metadata": {
        "colab": {
          "base_uri": "https://localhost:8080/"
        },
        "id": "q45vJF-oom6N",
        "outputId": "993b64ea-da11-40d6-d258-0d2615cc3ddc"
      },
      "execution_count": 35,
      "outputs": [
        {
          "output_type": "execute_result",
          "data": {
            "text/plain": [
              "torch.float16"
            ]
          },
          "metadata": {},
          "execution_count": 35
        }
      ]
    },
    {
      "cell_type": "code",
      "source": [
        "# importent parameters to be aware of\n",
        "tensor_type = torch.tensor([3.0, 6.0, 9.0],\n",
        "                           dtype=None,# what data type is the tensor\n",
        "                           device=None,# what devise is you tensor on\n",
        "                           requires_grad=False)# whether or not track gradiants this tensors operations\n",
        "tensor_type"
      ],
      "metadata": {
        "colab": {
          "base_uri": "https://localhost:8080/"
        },
        "id": "ZehfM_tOovLU",
        "outputId": "e16f569d-6103-4e3d-fadb-5e884009f47a"
      },
      "execution_count": 36,
      "outputs": [
        {
          "output_type": "execute_result",
          "data": {
            "text/plain": [
              "tensor([3., 6., 9.])"
            ]
          },
          "metadata": {},
          "execution_count": 36
        }
      ]
    },
    {
      "cell_type": "code",
      "source": [
        "float_16_tensor = tensor_type.type(torch.half) # or u can use (torch.float16)\n",
        "float_16_tensor"
      ],
      "metadata": {
        "colab": {
          "base_uri": "https://localhost:8080/"
        },
        "id": "DWTC9-Z3sRBO",
        "outputId": "bacc350c-c0d2-4bce-a0d4-d5df4056c0c6"
      },
      "execution_count": 37,
      "outputs": [
        {
          "output_type": "execute_result",
          "data": {
            "text/plain": [
              "tensor([3., 6., 9.], dtype=torch.float16)"
            ]
          },
          "metadata": {},
          "execution_count": 37
        }
      ]
    },
    {
      "cell_type": "code",
      "source": [
        "# even though we could multyply 2 tensors of defferent dtype here\n",
        "# it not work on every places so be care full\n",
        "\n",
        "float_16_tensor * tensor_type"
      ],
      "metadata": {
        "colab": {
          "base_uri": "https://localhost:8080/"
        },
        "id": "_OYqHhQDslKV",
        "outputId": "e299599e-33dc-4086-894e-9afe61b1e11c"
      },
      "execution_count": 38,
      "outputs": [
        {
          "output_type": "execute_result",
          "data": {
            "text/plain": [
              "tensor([ 9., 36., 81.])"
            ]
          },
          "metadata": {},
          "execution_count": 38
        }
      ]
    },
    {
      "cell_type": "code",
      "source": [
        "int_32_tensor = torch.tensor([3, 6, 9],\n",
        "                             dtype = torch.int32)\n",
        "int_32_tensor"
      ],
      "metadata": {
        "colab": {
          "base_uri": "https://localhost:8080/"
        },
        "id": "mHRDp817vI-l",
        "outputId": "f80c238c-a89b-44d1-940d-7265b2a16838"
      },
      "execution_count": 39,
      "outputs": [
        {
          "output_type": "execute_result",
          "data": {
            "text/plain": [
              "tensor([3, 6, 9], dtype=torch.int32)"
            ]
          },
          "metadata": {},
          "execution_count": 39
        }
      ]
    },
    {
      "cell_type": "code",
      "source": [
        "int_32_tensor *  float_16_tensor"
      ],
      "metadata": {
        "colab": {
          "base_uri": "https://localhost:8080/"
        },
        "id": "H_LWy1nHvu1c",
        "outputId": "2e3066a5-05cb-445f-96b6-b05f0be08e12"
      },
      "execution_count": 40,
      "outputs": [
        {
          "output_type": "execute_result",
          "data": {
            "text/plain": [
              "tensor([ 9., 36., 81.], dtype=torch.float16)"
            ]
          },
          "metadata": {},
          "execution_count": 40
        }
      ]
    },
    {
      "cell_type": "code",
      "source": [
        "int_32_tensor *  tensor_type"
      ],
      "metadata": {
        "colab": {
          "base_uri": "https://localhost:8080/"
        },
        "id": "AcwLJgPev6kM",
        "outputId": "6e4c075d-629c-43d2-e848-66eae1397138"
      },
      "execution_count": 41,
      "outputs": [
        {
          "output_type": "execute_result",
          "data": {
            "text/plain": [
              "tensor([ 9., 36., 81.])"
            ]
          },
          "metadata": {},
          "execution_count": 41
        }
      ]
    },
    {
      "cell_type": "markdown",
      "source": [
        "### Getting informations from tensors\n",
        "\n",
        "1. Tensors not right dtypr     - tensor.dtype\n",
        "2. Tensors not right shape         - tensor.shape\n",
        "3. Tensors not on the right device - tensor.device"
      ],
      "metadata": {
        "id": "RlokjV9VxOuv"
      }
    },
    {
      "cell_type": "code",
      "source": [
        "# Create a tensor\n",
        "some_tensor = torch.rand(3, 4)\n",
        "some_tensor"
      ],
      "metadata": {
        "colab": {
          "base_uri": "https://localhost:8080/"
        },
        "id": "r3cSkZtXxLz8",
        "outputId": "45cf2106-ca3a-469b-dd4f-9555b6d8374d"
      },
      "execution_count": 42,
      "outputs": [
        {
          "output_type": "execute_result",
          "data": {
            "text/plain": [
              "tensor([[0.4510, 0.9549, 0.2299, 0.8874],\n",
              "        [0.6929, 0.2808, 0.9885, 0.2793],\n",
              "        [0.7968, 0.5278, 0.2447, 0.0894]])"
            ]
          },
          "metadata": {},
          "execution_count": 42
        }
      ]
    },
    {
      "cell_type": "code",
      "source": [
        "# Find out details about tensors\n",
        "\n",
        "print(some_tensor, \"\\n\")\n",
        "print(f\"Datatype of tensor : {some_tensor.dtype}\\n\")\n",
        "\n",
        "# these two are same acsept one is a attribute other one is def(function)\n",
        "print(f\"Shape of a tensor : {some_tensor.shape}\")\n",
        "print(f\"Shape of a tensor : {some_tensor.size()}\\n\")\n",
        "\n",
        "# all the tensor that we create is on cpu as defult\n",
        "print(f\"Device tensor is on : {some_tensor.device}\")\n",
        "\n"
      ],
      "metadata": {
        "colab": {
          "base_uri": "https://localhost:8080/"
        },
        "id": "9VE6ZZRCxlj7",
        "outputId": "3e6ee604-b86c-4254-8d87-22940beb3eb1"
      },
      "execution_count": 43,
      "outputs": [
        {
          "output_type": "stream",
          "name": "stdout",
          "text": [
            "tensor([[0.4510, 0.9549, 0.2299, 0.8874],\n",
            "        [0.6929, 0.2808, 0.9885, 0.2793],\n",
            "        [0.7968, 0.5278, 0.2447, 0.0894]]) \n",
            "\n",
            "Datatype of tensor : torch.float32\n",
            "\n",
            "Shape of a tensor : torch.Size([3, 4])\n",
            "Shape of a tensor : torch.Size([3, 4])\n",
            "\n",
            "Device tensor is on : cpu\n"
          ]
        }
      ]
    },
    {
      "cell_type": "markdown",
      "source": [
        "### Manipulating Tensors (tensor operations)\n",
        "\n",
        "\n",
        "  \n",
        "\n",
        "1.   Addition\n",
        "2.   Subtraction\n",
        "3.   Multiplication (elemnt-wise)\n",
        "4.   Division\n",
        "5.   Matrix multiplication\n",
        "\n",
        "\n"
      ],
      "metadata": {
        "id": "Z47BdtKxzt1C"
      }
    },
    {
      "cell_type": "code",
      "source": [
        "# create a tensor & add 10 to it\n",
        "gg = torch.tensor([1, 2, 3])\n",
        "\n",
        "gg + 10"
      ],
      "metadata": {
        "id": "4_1vbq0Iz0Ab",
        "colab": {
          "base_uri": "https://localhost:8080/"
        },
        "outputId": "887bef17-fa8a-4c86-b5c4-8902ef6978a8"
      },
      "execution_count": 44,
      "outputs": [
        {
          "output_type": "execute_result",
          "data": {
            "text/plain": [
              "tensor([11, 12, 13])"
            ]
          },
          "metadata": {},
          "execution_count": 44
        }
      ]
    },
    {
      "cell_type": "code",
      "source": [
        "# PYTorch  in build function\n",
        "gg.add(100)"
      ],
      "metadata": {
        "colab": {
          "base_uri": "https://localhost:8080/"
        },
        "id": "OGExZUOp8evu",
        "outputId": "fa2b3a2a-2afb-447b-9fc9-e5bb5cf9310d"
      },
      "execution_count": 45,
      "outputs": [
        {
          "output_type": "execute_result",
          "data": {
            "text/plain": [
              "tensor([101, 102, 103])"
            ]
          },
          "metadata": {},
          "execution_count": 45
        }
      ]
    },
    {
      "cell_type": "code",
      "source": [
        "# multiply tensor by 10\n",
        "gg * 10\n"
      ],
      "metadata": {
        "colab": {
          "base_uri": "https://localhost:8080/"
        },
        "id": "7FNtq9yO8mRU",
        "outputId": "866e6924-9ab4-482b-81b1-8f62ef31462a"
      },
      "execution_count": 46,
      "outputs": [
        {
          "output_type": "execute_result",
          "data": {
            "text/plain": [
              "tensor([10, 20, 30])"
            ]
          },
          "metadata": {},
          "execution_count": 46
        }
      ]
    },
    {
      "cell_type": "code",
      "source": [
        "# Substract\n",
        "gg - 10"
      ],
      "metadata": {
        "colab": {
          "base_uri": "https://localhost:8080/"
        },
        "id": "umN_J6Z49ftJ",
        "outputId": "e80ebdf5-01e3-434f-f3bc-b2dd8be347bd"
      },
      "execution_count": 47,
      "outputs": [
        {
          "output_type": "execute_result",
          "data": {
            "text/plain": [
              "tensor([-9, -8, -7])"
            ]
          },
          "metadata": {},
          "execution_count": 47
        }
      ]
    },
    {
      "cell_type": "code",
      "source": [
        "### matrix multiplication [2 types]\n",
        "  # 1. Element-wise Multiplication\n",
        "  # 2. matrix multiplication [dot products]"
      ],
      "metadata": {
        "id": "XwNmeaNW93M3"
      },
      "execution_count": 48,
      "outputs": []
    },
    {
      "cell_type": "code",
      "source": [
        "# 1. Element-wise Multiplication\n",
        "print(gg, \"*\", gg)\n",
        "print(f\"Equals:, {gg * gg}\")"
      ],
      "metadata": {
        "colab": {
          "base_uri": "https://localhost:8080/"
        },
        "id": "oaknbFsyQDLE",
        "outputId": "546472db-1748-4eac-c97a-7cf3b720c747"
      },
      "execution_count": 49,
      "outputs": [
        {
          "output_type": "stream",
          "name": "stdout",
          "text": [
            "tensor([1, 2, 3]) * tensor([1, 2, 3])\n",
            "Equals:, tensor([1, 4, 9])\n"
          ]
        }
      ]
    },
    {
      "cell_type": "code",
      "source": [
        "# 2. matrix multiplication\n",
        "%%time\n",
        "torch.matmul(gg ,gg) # insted of matmul we can use mm [sorter virsion]"
      ],
      "metadata": {
        "colab": {
          "base_uri": "https://localhost:8080/"
        },
        "id": "hpB9GMOKRBGP",
        "outputId": "4e1cea51-ca9d-44e9-a1a2-d3a3154373cb"
      },
      "execution_count": 50,
      "outputs": [
        {
          "output_type": "stream",
          "name": "stdout",
          "text": [
            "CPU times: user 306 µs, sys: 49 µs, total: 355 µs\n",
            "Wall time: 3.23 ms\n"
          ]
        },
        {
          "output_type": "execute_result",
          "data": {
            "text/plain": [
              "tensor(14)"
            ]
          },
          "metadata": {},
          "execution_count": 50
        }
      ]
    },
    {
      "cell_type": "code",
      "source": [
        "## or we can use @ to do the aboue same thing\n",
        "%%time\n",
        "gg @ gg\n",
        "# time is way low for using @"
      ],
      "metadata": {
        "colab": {
          "base_uri": "https://localhost:8080/"
        },
        "id": "GrTfWxCWY2Ov",
        "outputId": "91724fc1-f5a3-4ed5-e2aa-77d6b7defe6d"
      },
      "execution_count": 51,
      "outputs": [
        {
          "output_type": "stream",
          "name": "stdout",
          "text": [
            "CPU times: user 124 µs, sys: 0 ns, total: 124 µs\n",
            "Wall time: 128 µs\n"
          ]
        },
        {
          "output_type": "execute_result",
          "data": {
            "text/plain": [
              "tensor(14)"
            ]
          },
          "metadata": {},
          "execution_count": 51
        }
      ]
    },
    {
      "cell_type": "code",
      "source": [
        "#by hand = 1*1 + 2*2 + 3*3"
      ],
      "metadata": {
        "id": "9uj660TxRiDU"
      },
      "execution_count": 52,
      "outputs": []
    },
    {
      "cell_type": "code",
      "source": [
        "%%time\n",
        "value = 0\n",
        "for i in range(len(gg)):\n",
        "  value += gg[i] * gg[i]\n",
        "print(value)"
      ],
      "metadata": {
        "colab": {
          "base_uri": "https://localhost:8080/"
        },
        "id": "yi7pIiYQSCQ_",
        "outputId": "61b4df7d-b17a-4b37-a709-fd2973826ab6"
      },
      "execution_count": 53,
      "outputs": [
        {
          "output_type": "stream",
          "name": "stdout",
          "text": [
            "tensor(14)\n",
            "CPU times: user 575 µs, sys: 1.13 ms, total: 1.71 ms\n",
            "Wall time: 4.14 ms\n"
          ]
        }
      ]
    },
    {
      "cell_type": "markdown",
      "source": [
        "###                          **  Fun fact **\n",
        "If we didnt print the [ print(value)] = 1.41ms\n",
        "\n",
        "\n",
        "and use just value it take more time           = 6ms\n",
        "\n",
        "\n",
        "same reason why c++ faster for gaming than python"
      ],
      "metadata": {
        "id": "awPMf_4VXqEU"
      }
    },
    {
      "cell_type": "code",
      "source": [
        "### One of the most common error = shap error"
      ],
      "metadata": {
        "id": "x7TezhVmTO0g"
      },
      "execution_count": 54,
      "outputs": []
    },
    {
      "cell_type": "markdown",
      "source": [
        "**1 . Inner dimentions must match**\n",
        "\n",
        "*   (3, 2)  @  (3, 2) = Won't work\n",
        "*   (2, 3)  @  (3, 2) = Will work\n",
        "*   (3, 2)  @  (2, 3) = Will work\n",
        "\n",
        "**2. The resulting matrix has the shape of the outer dimention**\n",
        "\n",
        "\n",
        "1.   (2, 3)  @  (3, 2) -> (2, 2)\n",
        "2.   (3, 2)  @  (2, 3) -> (3, 3)\n",
        "\n",
        "\n",
        "\n",
        "\n"
      ],
      "metadata": {
        "id": "ntyTD86haU4H"
      }
    },
    {
      "cell_type": "markdown",
      "source": [
        "## Error\n",
        "torch.matmul(torch.rand(3, 2), torch.rand(3, 2))\n"
      ],
      "metadata": {
        "id": "PRx57BRoiSjX"
      }
    },
    {
      "cell_type": "code",
      "source": [
        "torch.matmul(torch.rand(2, 3), torch.rand(3, 2))"
      ],
      "metadata": {
        "colab": {
          "base_uri": "https://localhost:8080/"
        },
        "id": "KUKl5jjka62O",
        "outputId": "04ef5ec4-693e-464f-8d61-1661c46dafdf"
      },
      "execution_count": 55,
      "outputs": [
        {
          "output_type": "execute_result",
          "data": {
            "text/plain": [
              "tensor([[2.1191, 1.4887],\n",
              "        [1.3000, 0.9293]])"
            ]
          },
          "metadata": {},
          "execution_count": 55
        }
      ]
    },
    {
      "cell_type": "code",
      "source": [
        "torch.matmul(torch.rand(3, 2), torch.rand(2, 3))"
      ],
      "metadata": {
        "colab": {
          "base_uri": "https://localhost:8080/"
        },
        "id": "zicnHNsJbUBK",
        "outputId": "b45cec32-d586-4b79-cae0-4431f3185981"
      },
      "execution_count": 56,
      "outputs": [
        {
          "output_type": "execute_result",
          "data": {
            "text/plain": [
              "tensor([[0.5454, 0.6405, 0.4583],\n",
              "        [0.5117, 0.3865, 0.2510],\n",
              "        [0.5449, 0.4471, 0.2969]])"
            ]
          },
          "metadata": {},
          "execution_count": 56
        }
      ]
    },
    {
      "cell_type": "markdown",
      "source": [],
      "metadata": {
        "id": "sTQCEGjKiOE4"
      }
    },
    {
      "cell_type": "code",
      "source": [
        "## Error\n",
        "# shapes for metrix multiplication\n",
        "tensor_A =  torch.tensor([[1, 2],\n",
        "                          [3, 4],\n",
        "                          [5, 6]])\n",
        "\n",
        "tensor_B = torch.tensor([[7, 10],\n",
        "                         [8, 11],\n",
        "                         [9, 12]])"
      ],
      "metadata": {
        "id": "_uvQjZX3isEL"
      },
      "execution_count": 57,
      "outputs": []
    },
    {
      "cell_type": "markdown",
      "source": [
        "## Error\n",
        "torch.mm(tensor_A , tensor_B)"
      ],
      "metadata": {
        "id": "L18QRN6Vi1i5"
      }
    },
    {
      "cell_type": "code",
      "source": [
        "tensor_A.shape, tensor_B.shape"
      ],
      "metadata": {
        "colab": {
          "base_uri": "https://localhost:8080/"
        },
        "id": "zeMMQZE5iVew",
        "outputId": "4a9cad78-00f4-4d44-9a97-65b4b5b83386"
      },
      "execution_count": 58,
      "outputs": [
        {
          "output_type": "execute_result",
          "data": {
            "text/plain": [
              "(torch.Size([3, 2]), torch.Size([3, 2]))"
            ]
          },
          "metadata": {},
          "execution_count": 58
        }
      ]
    },
    {
      "cell_type": "markdown",
      "source": [
        "To fix shape issues, we can use **transpose**"
      ],
      "metadata": {
        "id": "5p4QOJFukUzS"
      }
    },
    {
      "cell_type": "code",
      "source": [
        "tensor_B, tensor_B.shape"
      ],
      "metadata": {
        "colab": {
          "base_uri": "https://localhost:8080/"
        },
        "id": "iYLEMNQPkArk",
        "outputId": "025c7733-950b-4446-a314-ac68c74c994f"
      },
      "execution_count": 59,
      "outputs": [
        {
          "output_type": "execute_result",
          "data": {
            "text/plain": [
              "(tensor([[ 7, 10],\n",
              "         [ 8, 11],\n",
              "         [ 9, 12]]),\n",
              " torch.Size([3, 2]))"
            ]
          },
          "metadata": {},
          "execution_count": 59
        }
      ]
    },
    {
      "cell_type": "code",
      "source": [
        "tensor_B.T, tensor_B.T.shape ## now the shapes of thensor b is changed"
      ],
      "metadata": {
        "colab": {
          "base_uri": "https://localhost:8080/"
        },
        "id": "c6IcjOD0kmpq",
        "outputId": "a4f8eb4d-b7ed-4b85-8144-9de80a1bda9a"
      },
      "execution_count": 60,
      "outputs": [
        {
          "output_type": "execute_result",
          "data": {
            "text/plain": [
              "(tensor([[ 7,  8,  9],\n",
              "         [10, 11, 12]]),\n",
              " torch.Size([2, 3]))"
            ]
          },
          "metadata": {},
          "execution_count": 60
        }
      ]
    },
    {
      "cell_type": "code",
      "source": [
        "# now you dont get an error [becouse tensor_B is transpose now]\n",
        "print(f\"Original shapes: tensor_A = {tensor_A.shape}, tensor_B = {tensor_B.shape}\")\n",
        "print(f\"New shapes:      tensor_A = {tensor_A.shape}(same as above), tensor_B.T = {tensor_B.T.shape}\")\n",
        "print(f\"Multiplaing:                {tensor_A.shape} @ {tensor_B.T.shape} <- inner dimention must match\")\n",
        "print(\"\\noutput :\")\n",
        "output = torch.mm(tensor_A, tensor_B.T)\n",
        "print(output)\n",
        "print(f\"\\nOutput shape: {output.shape}\")\n"
      ],
      "metadata": {
        "colab": {
          "base_uri": "https://localhost:8080/"
        },
        "id": "Ioh6FKfdkpGS",
        "outputId": "41b4ac3d-e20a-45ad-cbc0-0cdfb4c4c04c"
      },
      "execution_count": 61,
      "outputs": [
        {
          "output_type": "stream",
          "name": "stdout",
          "text": [
            "Original shapes: tensor_A = torch.Size([3, 2]), tensor_B = torch.Size([3, 2])\n",
            "New shapes:      tensor_A = torch.Size([3, 2])(same as above), tensor_B.T = torch.Size([2, 3])\n",
            "Multiplaing:                torch.Size([3, 2]) @ torch.Size([2, 3]) <- inner dimention must match\n",
            "\n",
            "output :\n",
            "tensor([[ 27,  30,  33],\n",
            "        [ 61,  68,  75],\n",
            "        [ 95, 106, 117]])\n",
            "\n",
            "Output shape: torch.Size([3, 3])\n"
          ]
        }
      ]
    },
    {
      "cell_type": "markdown",
      "source": [
        "# Tensor Aggregation\n",
        "#### Finding the min, mean, sum etc"
      ],
      "metadata": {
        "id": "5I4AaXBpkY57"
      }
    },
    {
      "cell_type": "code",
      "source": [
        "# Create a Tensor\n",
        "x = torch.arange(1, 100, 10)\n",
        "x, x.dtype"
      ],
      "metadata": {
        "id": "9V7IP7c7lQMe",
        "colab": {
          "base_uri": "https://localhost:8080/"
        },
        "outputId": "d2233a4a-1043-4205-c232-1c6f649f2e72"
      },
      "execution_count": 62,
      "outputs": [
        {
          "output_type": "execute_result",
          "data": {
            "text/plain": [
              "(tensor([ 1, 11, 21, 31, 41, 51, 61, 71, 81, 91]), torch.int64)"
            ]
          },
          "metadata": {},
          "execution_count": 62
        }
      ]
    },
    {
      "cell_type": "code",
      "source": [
        "# To Find the min\n",
        "torch.min(x), x.min()"
      ],
      "metadata": {
        "colab": {
          "base_uri": "https://localhost:8080/"
        },
        "id": "0zLU29FKlN_-",
        "outputId": "bb06f2cb-c46f-4dcf-8e4d-d42eaa536a38"
      },
      "execution_count": 63,
      "outputs": [
        {
          "output_type": "execute_result",
          "data": {
            "text/plain": [
              "(tensor(1), tensor(1))"
            ]
          },
          "metadata": {},
          "execution_count": 63
        }
      ]
    },
    {
      "cell_type": "code",
      "source": [
        "# Max\n",
        "torch.max(x), x.max()"
      ],
      "metadata": {
        "colab": {
          "base_uri": "https://localhost:8080/"
        },
        "id": "cllzvnd6lcQO",
        "outputId": "ee22a1c9-6c5c-4694-9183-83c693ccdbc8"
      },
      "execution_count": 64,
      "outputs": [
        {
          "output_type": "execute_result",
          "data": {
            "text/plain": [
              "(tensor(91), tensor(91))"
            ]
          },
          "metadata": {},
          "execution_count": 64
        }
      ]
    },
    {
      "cell_type": "code",
      "source": [
        "## Mean [ x.mean() dose not work ]  / torch.mean(x)\n",
        "### becouse torch mean fun dose not work for dtype int64\n",
        "\n",
        "torch.mean(x.type(torch.float32)), x.type(torch.float32).mean()"
      ],
      "metadata": {
        "colab": {
          "base_uri": "https://localhost:8080/"
        },
        "id": "TI01miGAlmiW",
        "outputId": "15ac04ac-39f4-493d-f70d-4fca39b279cd"
      },
      "execution_count": 65,
      "outputs": [
        {
          "output_type": "execute_result",
          "data": {
            "text/plain": [
              "(tensor(46.), tensor(46.))"
            ]
          },
          "metadata": {},
          "execution_count": 65
        }
      ]
    },
    {
      "cell_type": "code",
      "source": [
        "# Sum\n",
        "torch.sum(x), x.sum()"
      ],
      "metadata": {
        "colab": {
          "base_uri": "https://localhost:8080/"
        },
        "id": "qyDdK1oPmBJf",
        "outputId": "eb4e0a67-86b5-47cf-b343-f9be3f7e7ca2"
      },
      "execution_count": 66,
      "outputs": [
        {
          "output_type": "execute_result",
          "data": {
            "text/plain": [
              "(tensor(460), tensor(460))"
            ]
          },
          "metadata": {},
          "execution_count": 66
        }
      ]
    },
    {
      "cell_type": "markdown",
      "source": [
        "# Finding the Positional mid and max"
      ],
      "metadata": {
        "id": "-eoPIernnKMm"
      }
    },
    {
      "cell_type": "code",
      "source": [
        "x"
      ],
      "metadata": {
        "colab": {
          "base_uri": "https://localhost:8080/"
        },
        "id": "K5lLjqHMmyhm",
        "outputId": "d35efa59-efcf-471d-d9b5-3ab431f88b6e"
      },
      "execution_count": 67,
      "outputs": [
        {
          "output_type": "execute_result",
          "data": {
            "text/plain": [
              "tensor([ 1, 11, 21, 31, 41, 51, 61, 71, 81, 91])"
            ]
          },
          "metadata": {},
          "execution_count": 67
        }
      ]
    },
    {
      "cell_type": "code",
      "source": [
        "x.argmin() # return the index of the min value"
      ],
      "metadata": {
        "colab": {
          "base_uri": "https://localhost:8080/"
        },
        "id": "SNrlzM-dnRO2",
        "outputId": "b31aa5ad-42e8-4760-ea72-e4e5a535b35d"
      },
      "execution_count": 68,
      "outputs": [
        {
          "output_type": "execute_result",
          "data": {
            "text/plain": [
              "tensor(0)"
            ]
          },
          "metadata": {},
          "execution_count": 68
        }
      ]
    },
    {
      "cell_type": "code",
      "source": [
        "x.argmax() # return the index of the max value"
      ],
      "metadata": {
        "colab": {
          "base_uri": "https://localhost:8080/"
        },
        "id": "4nlfqOGNnUC6",
        "outputId": "238fba2f-fcc6-41ca-b879-562763cf5836"
      },
      "execution_count": 69,
      "outputs": [
        {
          "output_type": "execute_result",
          "data": {
            "text/plain": [
              "tensor(9)"
            ]
          },
          "metadata": {},
          "execution_count": 69
        }
      ]
    },
    {
      "cell_type": "markdown",
      "source": [
        "#Reshaping, stacking, squeezing, and unsqueezing tensor\n",
        "* reshaping - reshape an input tensor to a difine shape\n",
        "* view - return view of an input tensor of certain shape but keep the same memory\n",
        "* squeezing - removes all '1' dimensions from a tensor\n",
        "* unsqueezing - add a '1' dimension to a target tensor\n",
        "* Permute - return a view of the input with dimensions permuted (swapped) in a certain way"
      ],
      "metadata": {
        "id": "Lu4vhZ9U4gqt"
      }
    },
    {
      "cell_type": "code",
      "source": [
        "# let's create a tensor\n",
        "import torch # note book can run the sell derectly from here\n",
        "x = torch.arange(1., 11.)\n",
        "x, x.shape, x.dtype"
      ],
      "metadata": {
        "colab": {
          "base_uri": "https://localhost:8080/"
        },
        "id": "j9AA7iR5niC9",
        "outputId": "d0a519ee-ca2d-4cd9-8a72-537c9c7f5792"
      },
      "execution_count": 70,
      "outputs": [
        {
          "output_type": "execute_result",
          "data": {
            "text/plain": [
              "(tensor([ 1.,  2.,  3.,  4.,  5.,  6.,  7.,  8.,  9., 10.]),\n",
              " torch.Size([10]),\n",
              " torch.float32)"
            ]
          },
          "metadata": {},
          "execution_count": 70
        }
      ]
    },
    {
      "cell_type": "code",
      "source": [
        "# Reshape = add extra dimention\n",
        "x_reshape = x.reshape(2, 5) # this workd becouse 5*2= 10 [x has 10 element] any combinations oky\n",
        "x_reshape, x_reshape.shape"
      ],
      "metadata": {
        "colab": {
          "base_uri": "https://localhost:8080/"
        },
        "id": "jKPilZAonnbh",
        "outputId": "ebefc664-01fb-460c-b9c0-8f222ab7825e"
      },
      "execution_count": 71,
      "outputs": [
        {
          "output_type": "execute_result",
          "data": {
            "text/plain": [
              "(tensor([[ 1.,  2.,  3.,  4.,  5.],\n",
              "         [ 6.,  7.,  8.,  9., 10.]]),\n",
              " torch.Size([2, 5]))"
            ]
          },
          "metadata": {},
          "execution_count": 71
        }
      ]
    },
    {
      "cell_type": "code",
      "source": [
        "# View = Change the view\n",
        "z =  x.view(1, 10)\n",
        "z, z.shape"
      ],
      "metadata": {
        "colab": {
          "base_uri": "https://localhost:8080/"
        },
        "id": "SNqoFfXw403H",
        "outputId": "7afaf97b-d0dc-4132-ef1d-c8bfdf4b2cf6"
      },
      "execution_count": 72,
      "outputs": [
        {
          "output_type": "execute_result",
          "data": {
            "text/plain": [
              "(tensor([[ 1.,  2.,  3.,  4.,  5.,  6.,  7.,  8.,  9., 10.]]),\n",
              " torch.Size([1, 10]))"
            ]
          },
          "metadata": {},
          "execution_count": 72
        }
      ]
    },
    {
      "cell_type": "code",
      "source": [
        "# changing z changes x\n",
        "# because a view of a tensor shares the same memory as original input\n",
        "\n",
        "z[ :, 0] = 5 # need to have a space before :\n",
        "z, x"
      ],
      "metadata": {
        "colab": {
          "base_uri": "https://localhost:8080/"
        },
        "id": "AS0wH-TF45Do",
        "outputId": "0a5582f3-6dc8-42b5-b4c9-d6ff863af872"
      },
      "execution_count": 73,
      "outputs": [
        {
          "output_type": "execute_result",
          "data": {
            "text/plain": [
              "(tensor([[ 5.,  2.,  3.,  4.,  5.,  6.,  7.,  8.,  9., 10.]]),\n",
              " tensor([ 5.,  2.,  3.,  4.,  5.,  6.,  7.,  8.,  9., 10.]))"
            ]
          },
          "metadata": {},
          "execution_count": 73
        }
      ]
    },
    {
      "cell_type": "code",
      "source": [
        "# Stack tensor on top of each other\n",
        "x_stacked = torch.stack([x, x, x, x], dim = 0 ) # difoult dimention also 0\n",
        "x_stacked"
      ],
      "metadata": {
        "colab": {
          "base_uri": "https://localhost:8080/"
        },
        "id": "PMzsat8u47uA",
        "outputId": "656daeb7-46dc-46b0-ac5d-92d55dcf3d9e"
      },
      "execution_count": 74,
      "outputs": [
        {
          "output_type": "execute_result",
          "data": {
            "text/plain": [
              "tensor([[ 5.,  2.,  3.,  4.,  5.,  6.,  7.,  8.,  9., 10.],\n",
              "        [ 5.,  2.,  3.,  4.,  5.,  6.,  7.,  8.,  9., 10.],\n",
              "        [ 5.,  2.,  3.,  4.,  5.,  6.,  7.,  8.,  9., 10.],\n",
              "        [ 5.,  2.,  3.,  4.,  5.,  6.,  7.,  8.,  9., 10.]])"
            ]
          },
          "metadata": {},
          "execution_count": 74
        }
      ]
    },
    {
      "cell_type": "code",
      "source": [
        "x_stacked = torch.stack([x, x, x, x], dim = 1 ) # can't have more than 1 dimention for this\n",
        "x_stacked"
      ],
      "metadata": {
        "colab": {
          "base_uri": "https://localhost:8080/"
        },
        "id": "EwJ1g40l5RqZ",
        "outputId": "897dc9d2-5fbe-4971-f6b8-9ff79fb24b9d"
      },
      "execution_count": 75,
      "outputs": [
        {
          "output_type": "execute_result",
          "data": {
            "text/plain": [
              "tensor([[ 5.,  5.,  5.,  5.],\n",
              "        [ 2.,  2.,  2.,  2.],\n",
              "        [ 3.,  3.,  3.,  3.],\n",
              "        [ 4.,  4.,  4.,  4.],\n",
              "        [ 5.,  5.,  5.,  5.],\n",
              "        [ 6.,  6.,  6.,  6.],\n",
              "        [ 7.,  7.,  7.,  7.],\n",
              "        [ 8.,  8.,  8.,  8.],\n",
              "        [ 9.,  9.,  9.,  9.],\n",
              "        [10., 10., 10., 10.]])"
            ]
          },
          "metadata": {},
          "execution_count": 75
        }
      ]
    },
    {
      "cell_type": "code",
      "source": [
        "# torch.squeeze() - removes all single dimensions from a target tensor\n",
        "x_reshaped = torch.rand(1, 9)\n",
        "print(f\"Tensor : {x_reshaped}\")\n",
        "print(f\"Tensor Shape : {x_reshaped.shape}\")\n",
        "\n",
        "# removing extra dimentions from x_reshaped\n",
        "x_squeezed = x_reshaped.squeeze()\n",
        "print(f\"\\nNew Tensor : {x_squeezed}\")\n",
        "print(f\"New Tensor Shape : {x_squeezed.shape}\")\n"
      ],
      "metadata": {
        "colab": {
          "base_uri": "https://localhost:8080/"
        },
        "id": "oKE3e3HP5Ws5",
        "outputId": "0a9c6669-b273-4143-f2aa-a60c170c58a2"
      },
      "execution_count": 76,
      "outputs": [
        {
          "output_type": "stream",
          "name": "stdout",
          "text": [
            "Tensor : tensor([[0.1258, 0.4511, 0.0533, 0.5676, 0.5986, 0.6187, 0.7178, 0.2076, 0.7723]])\n",
            "Tensor Shape : torch.Size([1, 9])\n",
            "\n",
            "New Tensor : tensor([0.1258, 0.4511, 0.0533, 0.5676, 0.5986, 0.6187, 0.7178, 0.2076, 0.7723])\n",
            "New Tensor Shape : torch.Size([9])\n"
          ]
        }
      ]
    },
    {
      "cell_type": "code",
      "source": [
        "# Torch.unsqueezed() - adds a single dimension to a target tensor at a specific dim\n",
        "print(f\"Previous Target : {x_squeezed}\")\n",
        "print(f\"Previous Shape : {x_squeezed.shape}\")\n",
        "\n",
        "# Add an extra dim with unsqueeze\n",
        "x_unsqueezed = x_squeezed.unsqueeze(dim =  0)\n",
        "print(f\"\\nNew Tensor : {x_unsqueezed}\")\n",
        "print(f\"New Tensor Shape : {x_unsqueezed.shape}\")\n",
        "\n",
        "\n",
        "# dim 1\n",
        "x_unsqueezed = x_squeezed.unsqueeze(dim =  1)\n",
        "print(f\"\\nNew Tensor : {x_unsqueezed}\")\n",
        "print(f\"New Tensor Shape : {x_unsqueezed.shape}\")\n"
      ],
      "metadata": {
        "colab": {
          "base_uri": "https://localhost:8080/"
        },
        "id": "5PTpEkonOeRf",
        "outputId": "1fbe0502-9aba-4490-88e1-eb4c7ace4f2c"
      },
      "execution_count": 77,
      "outputs": [
        {
          "output_type": "stream",
          "name": "stdout",
          "text": [
            "Previous Target : tensor([0.1258, 0.4511, 0.0533, 0.5676, 0.5986, 0.6187, 0.7178, 0.2076, 0.7723])\n",
            "Previous Shape : torch.Size([9])\n",
            "\n",
            "New Tensor : tensor([[0.1258, 0.4511, 0.0533, 0.5676, 0.5986, 0.6187, 0.7178, 0.2076, 0.7723]])\n",
            "New Tensor Shape : torch.Size([1, 9])\n",
            "\n",
            "New Tensor : tensor([[0.1258],\n",
            "        [0.4511],\n",
            "        [0.0533],\n",
            "        [0.5676],\n",
            "        [0.5986],\n",
            "        [0.6187],\n",
            "        [0.7178],\n",
            "        [0.2076],\n",
            "        [0.7723]])\n",
            "New Tensor Shape : torch.Size([9, 1])\n"
          ]
        }
      ]
    },
    {
      "cell_type": "code",
      "source": [
        "# Torch.permute - rearange the target tensor [permute is also a view]\n",
        "x_original = torch.rand(224, 224, 3) # (height, width, color_channels)\n",
        "\n",
        "# Permute the original tensor [ rearage the dim order ]\n",
        "x_permuted = x_original.permute(2, 0, 1)\n",
        "print(f\"\\nPrevious Shape : {x_original.shape}\")\n",
        "print(f\"New Shape      : {x_permuted.shape} \")  # [Color_channels, heigth, width]\n"
      ],
      "metadata": {
        "colab": {
          "base_uri": "https://localhost:8080/"
        },
        "id": "Knn1bQgfOlyX",
        "outputId": "b52f5915-65da-4e70-b09e-73a962436e2d"
      },
      "execution_count": 78,
      "outputs": [
        {
          "output_type": "stream",
          "name": "stdout",
          "text": [
            "\n",
            "Previous Shape : torch.Size([224, 224, 3])\n",
            "New Shape      : torch.Size([3, 224, 224]) \n"
          ]
        }
      ]
    },
    {
      "cell_type": "markdown",
      "source": [
        "If you change one of tensors both of them will change because they are view\n",
        "\n",
        "**permutated also a view**"
      ],
      "metadata": {
        "id": "Fx37cTeQcTMY"
      }
    },
    {
      "cell_type": "code",
      "source": [
        "x_original[0, 0, 0] = 22222\n",
        "x_original[0, 0, 0]"
      ],
      "metadata": {
        "colab": {
          "base_uri": "https://localhost:8080/"
        },
        "id": "jOTKCW9IO2IO",
        "outputId": "1ee05aa2-17e5-4dae-8fb5-b152ea7c2141"
      },
      "execution_count": 79,
      "outputs": [
        {
          "output_type": "execute_result",
          "data": {
            "text/plain": [
              "tensor(22222.)"
            ]
          },
          "metadata": {},
          "execution_count": 79
        }
      ]
    },
    {
      "cell_type": "code",
      "source": [
        "x_permuted[0, 0, 0]"
      ],
      "metadata": {
        "colab": {
          "base_uri": "https://localhost:8080/"
        },
        "id": "W0o31WuVb7KI",
        "outputId": "ab079a35-a752-4bce-b416-2e91256956c7"
      },
      "execution_count": 80,
      "outputs": [
        {
          "output_type": "execute_result",
          "data": {
            "text/plain": [
              "tensor(22222.)"
            ]
          },
          "metadata": {},
          "execution_count": 80
        }
      ]
    },
    {
      "cell_type": "markdown",
      "source": [
        "#Indexing ( selecting data from tensors )"
      ],
      "metadata": {
        "id": "4lBSpOC49bG0"
      }
    },
    {
      "cell_type": "code",
      "source": [
        "# create a tensor\n",
        "import torch\n",
        "x = torch.arange(1 , 10).reshape(1, 3, 3)\n",
        "x, x.shape"
      ],
      "metadata": {
        "id": "vG0e8G-XcHmX",
        "colab": {
          "base_uri": "https://localhost:8080/"
        },
        "outputId": "ef33ec57-0533-492c-c064-fbca5cc98896"
      },
      "execution_count": 81,
      "outputs": [
        {
          "output_type": "execute_result",
          "data": {
            "text/plain": [
              "(tensor([[[1, 2, 3],\n",
              "          [4, 5, 6],\n",
              "          [7, 8, 9]]]),\n",
              " torch.Size([1, 3, 3]))"
            ]
          },
          "metadata": {},
          "execution_count": 81
        }
      ]
    },
    {
      "cell_type": "code",
      "source": [
        "Y = torch.arange(1, 28).reshape(3, 3, 3)\n",
        "Y"
      ],
      "metadata": {
        "colab": {
          "base_uri": "https://localhost:8080/"
        },
        "id": "bFE25BHFCpMB",
        "outputId": "673a61af-ed44-4208-94cb-c4f2d13151c4"
      },
      "execution_count": 82,
      "outputs": [
        {
          "output_type": "execute_result",
          "data": {
            "text/plain": [
              "tensor([[[ 1,  2,  3],\n",
              "         [ 4,  5,  6],\n",
              "         [ 7,  8,  9]],\n",
              "\n",
              "        [[10, 11, 12],\n",
              "         [13, 14, 15],\n",
              "         [16, 17, 18]],\n",
              "\n",
              "        [[19, 20, 21],\n",
              "         [22, 23, 24],\n",
              "         [25, 26, 27]]])"
            ]
          },
          "metadata": {},
          "execution_count": 82
        }
      ]
    },
    {
      "cell_type": "code",
      "source": [
        "x.ndim"
      ],
      "metadata": {
        "colab": {
          "base_uri": "https://localhost:8080/"
        },
        "id": "qswckBw6BRuG",
        "outputId": "dd75f1c4-0eb8-4ee5-bb21-b27cf8cbf8f1"
      },
      "execution_count": 83,
      "outputs": [
        {
          "output_type": "execute_result",
          "data": {
            "text/plain": [
              "3"
            ]
          },
          "metadata": {},
          "execution_count": 83
        }
      ]
    },
    {
      "cell_type": "code",
      "source": [
        "# index on our new tensor\n",
        "x[0]"
      ],
      "metadata": {
        "colab": {
          "base_uri": "https://localhost:8080/"
        },
        "id": "0LPUeZPp-Sue",
        "outputId": "9c890783-3c4c-44f0-afc1-85d4bc3dc977"
      },
      "execution_count": 84,
      "outputs": [
        {
          "output_type": "execute_result",
          "data": {
            "text/plain": [
              "tensor([[1, 2, 3],\n",
              "        [4, 5, 6],\n",
              "        [7, 8, 9]])"
            ]
          },
          "metadata": {},
          "execution_count": 84
        }
      ]
    },
    {
      "cell_type": "code",
      "source": [
        "# index on middle bracket [ dim = 1 ]\n",
        "x[0][0],x[0, 0] # both ways can use"
      ],
      "metadata": {
        "colab": {
          "base_uri": "https://localhost:8080/"
        },
        "id": "F0_oyqDG_AoJ",
        "outputId": "48405bfb-fb88-42c4-e52d-9066bbb21d21"
      },
      "execution_count": 85,
      "outputs": [
        {
          "output_type": "execute_result",
          "data": {
            "text/plain": [
              "(tensor([1, 2, 3]), tensor([1, 2, 3]))"
            ]
          },
          "metadata": {},
          "execution_count": 85
        }
      ]
    },
    {
      "cell_type": "code",
      "source": [
        "#\n",
        "x[0][0][0]"
      ],
      "metadata": {
        "colab": {
          "base_uri": "https://localhost:8080/"
        },
        "id": "j7bXYMf3_DKR",
        "outputId": "0c5ae155-0124-4624-a651-3484e587a08d"
      },
      "execution_count": 86,
      "outputs": [
        {
          "output_type": "execute_result",
          "data": {
            "text/plain": [
              "tensor(1)"
            ]
          },
          "metadata": {},
          "execution_count": 86
        }
      ]
    },
    {
      "cell_type": "code",
      "source": [
        "#to get the 9 and 3,6,9\n",
        "x[0, 2, 2],x[:,:,2]\n"
      ],
      "metadata": {
        "colab": {
          "base_uri": "https://localhost:8080/"
        },
        "id": "slxI2xA7_Gul",
        "outputId": "3ddd8b47-639f-4f47-a62e-1430b7394012"
      },
      "execution_count": 87,
      "outputs": [
        {
          "output_type": "execute_result",
          "data": {
            "text/plain": [
              "(tensor(9), tensor([[3, 6, 9]]))"
            ]
          },
          "metadata": {},
          "execution_count": 87
        }
      ]
    },
    {
      "cell_type": "code",
      "source": [
        "# select all from target dimention\n",
        "x[:, 0]"
      ],
      "metadata": {
        "colab": {
          "base_uri": "https://localhost:8080/"
        },
        "id": "buzSVsAH_ZpF",
        "outputId": "c60fdd99-d667-40d7-db81-6dfd6e8cb810"
      },
      "execution_count": 88,
      "outputs": [
        {
          "output_type": "execute_result",
          "data": {
            "text/plain": [
              "tensor([[1, 2, 3]])"
            ]
          },
          "metadata": {},
          "execution_count": 88
        }
      ]
    },
    {
      "cell_type": "code",
      "source": [
        "x[:, :, 1]"
      ],
      "metadata": {
        "colab": {
          "base_uri": "https://localhost:8080/"
        },
        "id": "7WFmUATfALRQ",
        "outputId": "21880346-ade0-4619-b7bd-fdfbfb0d880e"
      },
      "execution_count": 89,
      "outputs": [
        {
          "output_type": "execute_result",
          "data": {
            "text/plain": [
              "tensor([[2, 5, 8]])"
            ]
          },
          "metadata": {},
          "execution_count": 89
        }
      ]
    },
    {
      "cell_type": "code",
      "source": [
        "x[:, :, 0]"
      ],
      "metadata": {
        "colab": {
          "base_uri": "https://localhost:8080/"
        },
        "id": "gbD8qXMDBCZd",
        "outputId": "3d85e228-5c25-4f65-e491-1067872327be"
      },
      "execution_count": 90,
      "outputs": [
        {
          "output_type": "execute_result",
          "data": {
            "text/plain": [
              "tensor([[1, 4, 7]])"
            ]
          },
          "metadata": {},
          "execution_count": 90
        }
      ]
    },
    {
      "cell_type": "code",
      "source": [
        "x[:, :, 2]"
      ],
      "metadata": {
        "colab": {
          "base_uri": "https://localhost:8080/"
        },
        "id": "Cvw5fD6eBFSF",
        "outputId": "60b1c8df-1157-4b28-8694-9dbf532bf9d6"
      },
      "execution_count": 91,
      "outputs": [
        {
          "output_type": "execute_result",
          "data": {
            "text/plain": [
              "tensor([[3, 6, 9]])"
            ]
          },
          "metadata": {},
          "execution_count": 91
        }
      ]
    },
    {
      "cell_type": "code",
      "source": [
        "# get all values of 0 dim but only 1 index value of 1st and 2nd dim\n",
        "x[:, 1, 1]"
      ],
      "metadata": {
        "colab": {
          "base_uri": "https://localhost:8080/"
        },
        "id": "CJ0qzdiSBKIl",
        "outputId": "c75b0d8e-8e1d-4873-b63c-7b8b6d005524"
      },
      "execution_count": 92,
      "outputs": [
        {
          "output_type": "execute_result",
          "data": {
            "text/plain": [
              "tensor([5])"
            ]
          },
          "metadata": {},
          "execution_count": 92
        }
      ]
    },
    {
      "cell_type": "code",
      "source": [
        "x[0, 1, 1]"
      ],
      "metadata": {
        "colab": {
          "base_uri": "https://localhost:8080/"
        },
        "id": "AV4Vsj-ZDifl",
        "outputId": "5939f967-b88d-4dbf-82ca-298dd7825a55"
      },
      "execution_count": 93,
      "outputs": [
        {
          "output_type": "execute_result",
          "data": {
            "text/plain": [
              "tensor(5)"
            ]
          },
          "metadata": {},
          "execution_count": 93
        }
      ]
    },
    {
      "cell_type": "code",
      "source": [
        "x[0, 0, :]"
      ],
      "metadata": {
        "colab": {
          "base_uri": "https://localhost:8080/"
        },
        "id": "ystwLCsiEyS6",
        "outputId": "a2a21763-143d-4f29-a773-f71bdc22b15c"
      },
      "execution_count": 94,
      "outputs": [
        {
          "output_type": "execute_result",
          "data": {
            "text/plain": [
              "tensor([1, 2, 3])"
            ]
          },
          "metadata": {},
          "execution_count": 94
        }
      ]
    },
    {
      "cell_type": "markdown",
      "source": [
        "# PyTorch tensor & Numpy\n",
        "PyTorch tensor -> NumPy-> torch.Tensor.numpy()\n",
        "\n",
        "*   Pytorch.dtype = float 32\n",
        "*     numpy.dtype = float 64\n",
        "\n",
        "\n"
      ],
      "metadata": {
        "id": "YcsLHDlLEDz_"
      }
    },
    {
      "cell_type": "code",
      "source": [
        "import torch\n",
        "import numpy as np\n",
        "\n",
        "array = np.arange(1.0, 8.0)\n",
        "tensor = torch.from_numpy(array)\n",
        "# !Warning : when converting from numpy to pytorch, pytorch deflect numpy's dtype wich is float 64\n",
        "#                            from pytorch to numpy, numpy deflect pytorch's dtype wich is float 32\n",
        "array"
      ],
      "metadata": {
        "id": "dHSYuK1RFAF0",
        "colab": {
          "base_uri": "https://localhost:8080/"
        },
        "outputId": "8897782e-94da-4242-f2a7-c8687bc82899"
      },
      "execution_count": 95,
      "outputs": [
        {
          "output_type": "execute_result",
          "data": {
            "text/plain": [
              "array([1., 2., 3., 4., 5., 6., 7.])"
            ]
          },
          "metadata": {},
          "execution_count": 95
        }
      ]
    },
    {
      "cell_type": "code",
      "source": [
        "tensor"
      ],
      "metadata": {
        "colab": {
          "base_uri": "https://localhost:8080/"
        },
        "id": "RzICV3ZzFwIC",
        "outputId": "be1e60fa-69f0-4127-8b09-c1a9fe795216"
      },
      "execution_count": 96,
      "outputs": [
        {
          "output_type": "execute_result",
          "data": {
            "text/plain": [
              "tensor([1., 2., 3., 4., 5., 6., 7.], dtype=torch.float64)"
            ]
          },
          "metadata": {},
          "execution_count": 96
        }
      ]
    },
    {
      "cell_type": "code",
      "source": [
        "tensor.dtype"
      ],
      "metadata": {
        "colab": {
          "base_uri": "https://localhost:8080/"
        },
        "id": "uMEe6PRzGvuU",
        "outputId": "ddc75596-9d89-47c0-a6f8-7addda882c60"
      },
      "execution_count": 97,
      "outputs": [
        {
          "output_type": "execute_result",
          "data": {
            "text/plain": [
              "torch.float64"
            ]
          },
          "metadata": {},
          "execution_count": 97
        }
      ]
    },
    {
      "cell_type": "code",
      "source": [
        "# Change the value of the array\n",
        "array = array + 5\n",
        "array , tensor"
      ],
      "metadata": {
        "id": "RXYL3l8LG4UK",
        "colab": {
          "base_uri": "https://localhost:8080/"
        },
        "outputId": "38793414-69a9-4ccb-e3b4-17fd1c513cf4"
      },
      "execution_count": 98,
      "outputs": [
        {
          "output_type": "execute_result",
          "data": {
            "text/plain": [
              "(array([ 6.,  7.,  8.,  9., 10., 11., 12.]),\n",
              " tensor([1., 2., 3., 4., 5., 6., 7.], dtype=torch.float64))"
            ]
          },
          "metadata": {},
          "execution_count": 98
        }
      ]
    },
    {
      "cell_type": "code",
      "source": [
        "# Tensor to numpy array\n",
        "tensor = torch.ones(7)\n",
        "numpy_tensor = tensor.numpy()\n",
        "numpy_tensor, tensor"
      ],
      "metadata": {
        "id": "t0_DZuIZmqH5",
        "colab": {
          "base_uri": "https://localhost:8080/"
        },
        "outputId": "657d2d31-d3cb-416a-a6f3-570924adb8d3"
      },
      "execution_count": 100,
      "outputs": [
        {
          "output_type": "execute_result",
          "data": {
            "text/plain": [
              "(array([1., 1., 1., 1., 1., 1., 1.], dtype=float32),\n",
              " tensor([1., 1., 1., 1., 1., 1., 1.]))"
            ]
          },
          "metadata": {},
          "execution_count": 100
        }
      ]
    },
    {
      "cell_type": "code",
      "source": [
        "# Chnage the tensor and see what happend to numpy_tensor\n",
        "tensor = tensor + 5\n",
        "tensor, numpy_tensor"
      ],
      "metadata": {
        "colab": {
          "base_uri": "https://localhost:8080/"
        },
        "id": "O-xXpFkQv1eS",
        "outputId": "3ed21afc-9214-4955-c43b-9ff7e8c05a19"
      },
      "execution_count": 102,
      "outputs": [
        {
          "output_type": "execute_result",
          "data": {
            "text/plain": [
              "(tensor([6., 6., 6., 6., 6., 6., 6.]),\n",
              " array([1., 1., 1., 1., 1., 1., 1.], dtype=float32))"
            ]
          },
          "metadata": {},
          "execution_count": 102
        }
      ]
    },
    {
      "cell_type": "markdown",
      "source": [
        "#Reproducibility ( trying to take random out of random )\n",
        "\n",
        "* In short how a neural network learns\n",
        "\n",
        "\n",
        "To reduce the randomness in comes to the concept of a **random seed**\n",
        "\n",
        "random seed flaver the randomness"
      ],
      "metadata": {
        "id": "akwxKTrmzQfJ"
      }
    },
    {
      "cell_type": "code",
      "source": [
        "torch.rand(3, 3) # psudo randomness [ genarated randomness ]"
      ],
      "metadata": {
        "colab": {
          "base_uri": "https://localhost:8080/"
        },
        "id": "-qE-uEf9xKtZ",
        "outputId": "f0b5b94f-84ef-4998-832b-24e607e5a428"
      },
      "execution_count": 103,
      "outputs": [
        {
          "output_type": "execute_result",
          "data": {
            "text/plain": [
              "tensor([[0.7284, 0.1295, 0.0325],\n",
              "        [0.3045, 0.6649, 0.9806],\n",
              "        [0.3912, 0.7003, 0.6751]])"
            ]
          },
          "metadata": {},
          "execution_count": 103
        }
      ]
    },
    {
      "cell_type": "code",
      "source": [
        "import torch\n",
        "\n",
        "# 2 random tensors\n",
        "rand_tensor_A = torch.rand(3, 4)\n",
        "rand_tensor_B = torch.rand(3, 4)\n",
        "\n",
        "print(rand_tensor_A)\n",
        "print(rand_tensor_B)\n",
        "print(rand_tensor_A == rand_tensor_B)"
      ],
      "metadata": {
        "colab": {
          "base_uri": "https://localhost:8080/"
        },
        "id": "w6RPv19f0Lho",
        "outputId": "0e965757-4ea9-4b29-8a03-0820b121d6fb"
      },
      "execution_count": 105,
      "outputs": [
        {
          "output_type": "stream",
          "name": "stdout",
          "text": [
            "tensor([[0.0766, 0.7756, 0.5718, 0.7929],\n",
            "        [0.3757, 0.2375, 0.8393, 0.4449],\n",
            "        [0.8984, 0.6078, 0.7248, 0.7230]])\n",
            "tensor([[0.3312, 0.3295, 0.2950, 0.1778],\n",
            "        [0.4882, 0.3240, 0.9777, 0.3627],\n",
            "        [0.3080, 0.9315, 0.1563, 0.5674]])\n",
            "tensor([[False, False, False, False],\n",
            "        [False, False, False, False],\n",
            "        [False, False, False, False]])\n"
          ]
        }
      ]
    },
    {
      "cell_type": "code",
      "source": [
        "# Make some random but repreducible tensors\n",
        "# Set the random seed\n",
        "\n",
        "RANDOM_SEED = 42\n",
        "torch.manual_seed(RANDOM_SEED)\n",
        "random_tensor_C = torch.rand(3, 4)\n",
        "\n",
        "torch.manual_seed(RANDOM_SEED)\n",
        "random_tensor_D = torch.rand(3, 4)\n",
        "\n",
        "random_tensor_C, random_tensor_D, random_tensor_C == random_tensor_D"
      ],
      "metadata": {
        "colab": {
          "base_uri": "https://localhost:8080/"
        },
        "id": "BJGuEQgv0q8A",
        "outputId": "02c88ec1-c67c-41e1-acde-f9b5d791f104"
      },
      "execution_count": 110,
      "outputs": [
        {
          "output_type": "execute_result",
          "data": {
            "text/plain": [
              "(tensor([[0.8823, 0.9150, 0.3829, 0.9593],\n",
              "         [0.3904, 0.6009, 0.2566, 0.7936],\n",
              "         [0.9408, 0.1332, 0.9346, 0.5936]]),\n",
              " tensor([[0.8823, 0.9150, 0.3829, 0.9593],\n",
              "         [0.3904, 0.6009, 0.2566, 0.7936],\n",
              "         [0.9408, 0.1332, 0.9346, 0.5936]]),\n",
              " tensor([[True, True, True, True],\n",
              "         [True, True, True, True],\n",
              "         [True, True, True, True]]))"
            ]
          },
          "metadata": {},
          "execution_count": 110
        }
      ]
    },
    {
      "cell_type": "code",
      "source": [
        "# If someone else use the same code they get the same out put"
      ],
      "metadata": {
        "id": "OgTxu1fe220g"
      },
      "execution_count": 111,
      "outputs": []
    },
    {
      "cell_type": "code",
      "source": [],
      "metadata": {
        "id": "zBo3s5nV3h4X"
      },
      "execution_count": null,
      "outputs": []
    }
  ]
}