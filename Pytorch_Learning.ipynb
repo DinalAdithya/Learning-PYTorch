{
  "nbformat": 4,
  "nbformat_minor": 0,
  "metadata": {
    "colab": {
      "provenance": [],
      "authorship_tag": "ABX9TyOH+GQXFKG9jK4hYhM3n42r",
      "include_colab_link": true
    },
    "kernelspec": {
      "name": "python3",
      "display_name": "Python 3"
    },
    "language_info": {
      "name": "python"
    }
  },
  "cells": [
    {
      "cell_type": "markdown",
      "metadata": {
        "id": "view-in-github",
        "colab_type": "text"
      },
      "source": [
        "<a href=\"https://colab.research.google.com/github/DinalAdithya/Learning-PYTorch/blob/main/Pytorch_Learning.ipynb\" target=\"_parent\"><img src=\"https://colab.research.google.com/assets/colab-badge.svg\" alt=\"Open In Colab\"/></a>"
      ]
    },
    {
      "cell_type": "code",
      "source": [
        "import torch\n",
        "import pandas as pd\n",
        "import numpy as np\n",
        "import matplotlib as plt\n",
        "print (torch.__version__)"
      ],
      "metadata": {
        "colab": {
          "base_uri": "https://localhost:8080/"
        },
        "id": "qjlcVT4x9Zeh",
        "outputId": "97a04afc-bbda-4687-ef78-c57cee9a4336"
      },
      "execution_count": null,
      "outputs": [
        {
          "output_type": "stream",
          "name": "stdout",
          "text": [
            "2.1.0+cu121\n"
          ]
        }
      ]
    },
    {
      "cell_type": "markdown",
      "source": [
        "Intoduction to Tensors"
      ],
      "metadata": {
        "id": "0d7Rkhsr_R7L"
      }
    },
    {
      "cell_type": "code",
      "source": [
        "#scalar\n",
        "scalar = torch.tensor(7)\n",
        "scalar"
      ],
      "metadata": {
        "colab": {
          "base_uri": "https://localhost:8080/"
        },
        "id": "0QuVksof_XgB",
        "outputId": "08cfe96c-2d34-4f5c-ac66-d1ba1a886ee2"
      },
      "execution_count": null,
      "outputs": [
        {
          "output_type": "execute_result",
          "data": {
            "text/plain": [
              "tensor(7)"
            ]
          },
          "metadata": {},
          "execution_count": 3
        }
      ]
    },
    {
      "cell_type": "code",
      "source": [
        "# no dimantions\n",
        "scalar.ndim"
      ],
      "metadata": {
        "colab": {
          "base_uri": "https://localhost:8080/"
        },
        "id": "8b-BqAcl_7us",
        "outputId": "c65fa580-4f90-4ad4-e758-02f0e2b42535"
      },
      "execution_count": null,
      "outputs": [
        {
          "output_type": "execute_result",
          "data": {
            "text/plain": [
              "0"
            ]
          },
          "metadata": {},
          "execution_count": 4
        }
      ]
    },
    {
      "cell_type": "code",
      "source": [
        "# get tensor back as Python int\n",
        "scalar.item()"
      ],
      "metadata": {
        "colab": {
          "base_uri": "https://localhost:8080/"
        },
        "id": "-b9PObsUAnB5",
        "outputId": "cb013845-55b7-4bf4-851e-e8086780dd34"
      },
      "execution_count": null,
      "outputs": [
        {
          "output_type": "execute_result",
          "data": {
            "text/plain": [
              "7"
            ]
          },
          "metadata": {},
          "execution_count": 5
        }
      ]
    },
    {
      "cell_type": "code",
      "source": [
        "# vector\n",
        "vector = torch.tensor([7, 7])\n",
        "vector"
      ],
      "metadata": {
        "colab": {
          "base_uri": "https://localhost:8080/"
        },
        "id": "IJ2a4myMA7jA",
        "outputId": "f3d215a7-6dbf-41bc-e0fc-e78dc5c0032e"
      },
      "execution_count": null,
      "outputs": [
        {
          "output_type": "execute_result",
          "data": {
            "text/plain": [
              "tensor([7, 7])"
            ]
          },
          "metadata": {},
          "execution_count": 6
        }
      ]
    },
    {
      "cell_type": "code",
      "source": [
        "vector.ndim"
      ],
      "metadata": {
        "colab": {
          "base_uri": "https://localhost:8080/"
        },
        "id": "0AeUcVHpBVVy",
        "outputId": "9e02d8d6-31cb-4a42-b968-50916ebddba1"
      },
      "execution_count": null,
      "outputs": [
        {
          "output_type": "execute_result",
          "data": {
            "text/plain": [
              "1"
            ]
          },
          "metadata": {},
          "execution_count": 7
        }
      ]
    },
    {
      "cell_type": "code",
      "source": [
        "vector.shape"
      ],
      "metadata": {
        "colab": {
          "base_uri": "https://localhost:8080/"
        },
        "id": "gmrU-__zBcTQ",
        "outputId": "50c423c5-5940-474d-aaa1-28bfe604924f"
      },
      "execution_count": null,
      "outputs": [
        {
          "output_type": "execute_result",
          "data": {
            "text/plain": [
              "torch.Size([2])"
            ]
          },
          "metadata": {},
          "execution_count": 8
        }
      ]
    },
    {
      "cell_type": "code",
      "source": [
        "# MATRIX\n",
        "MATRIX =torch.tensor([[7, 8],\n",
        "                      [9, 10]])\n",
        "MATRIX"
      ],
      "metadata": {
        "colab": {
          "base_uri": "https://localhost:8080/"
        },
        "id": "0o_gZJp6BoJZ",
        "outputId": "d888ec1b-c146-4df2-8e57-94d9650b8b0d"
      },
      "execution_count": null,
      "outputs": [
        {
          "output_type": "execute_result",
          "data": {
            "text/plain": [
              "tensor([[ 7,  8],\n",
              "        [ 9, 10]])"
            ]
          },
          "metadata": {},
          "execution_count": 9
        }
      ]
    },
    {
      "cell_type": "code",
      "source": [
        "MATRIX.ndim"
      ],
      "metadata": {
        "colab": {
          "base_uri": "https://localhost:8080/"
        },
        "id": "sNvOvXN8CFg6",
        "outputId": "0a8390c0-19ec-4ef1-a69d-2d0d99c2123a"
      },
      "execution_count": null,
      "outputs": [
        {
          "output_type": "execute_result",
          "data": {
            "text/plain": [
              "2"
            ]
          },
          "metadata": {},
          "execution_count": 10
        }
      ]
    },
    {
      "cell_type": "code",
      "source": [
        "MATRIX[0]"
      ],
      "metadata": {
        "colab": {
          "base_uri": "https://localhost:8080/"
        },
        "id": "EORvsRetDPYJ",
        "outputId": "dfd5d32e-ad98-4315-a203-537050c437b7"
      },
      "execution_count": null,
      "outputs": [
        {
          "output_type": "execute_result",
          "data": {
            "text/plain": [
              "tensor([7, 8])"
            ]
          },
          "metadata": {},
          "execution_count": 11
        }
      ]
    },
    {
      "cell_type": "code",
      "source": [
        "MATRIX[1]"
      ],
      "metadata": {
        "colab": {
          "base_uri": "https://localhost:8080/"
        },
        "id": "LbdRKMOADWbB",
        "outputId": "a6544954-e563-4887-f22f-d44775011a78"
      },
      "execution_count": null,
      "outputs": [
        {
          "output_type": "execute_result",
          "data": {
            "text/plain": [
              "tensor([ 9, 10])"
            ]
          },
          "metadata": {},
          "execution_count": 12
        }
      ]
    },
    {
      "cell_type": "code",
      "source": [
        "MATRIX.shape"
      ],
      "metadata": {
        "colab": {
          "base_uri": "https://localhost:8080/"
        },
        "id": "Tfx6fyzIDgvo",
        "outputId": "5b619eb4-b7fc-4684-8ba7-7634fca24dc4"
      },
      "execution_count": null,
      "outputs": [
        {
          "output_type": "execute_result",
          "data": {
            "text/plain": [
              "torch.Size([2, 2])"
            ]
          },
          "metadata": {},
          "execution_count": 13
        }
      ]
    },
    {
      "cell_type": "code",
      "source": [
        "# TENSOR\n",
        "TENSOR = torch.tensor([[[1, 2, 3],\n",
        "                        [4, 5, 6],\n",
        "                        [7, 8, 9]],\n",
        "                       [[1, 2, 3],\n",
        "                        [4, 5, 6],\n",
        "                        [7, 8, 9]]])\n",
        "TENSOR"
      ],
      "metadata": {
        "colab": {
          "base_uri": "https://localhost:8080/"
        },
        "id": "nDyqqXr4Dldw",
        "outputId": "eaa7eeaa-2811-49b0-958d-de9459eaa3ae"
      },
      "execution_count": null,
      "outputs": [
        {
          "output_type": "execute_result",
          "data": {
            "text/plain": [
              "tensor([[[1, 2, 3],\n",
              "         [4, 5, 6],\n",
              "         [7, 8, 9]],\n",
              "\n",
              "        [[1, 2, 3],\n",
              "         [4, 5, 6],\n",
              "         [7, 8, 9]]])"
            ]
          },
          "metadata": {},
          "execution_count": 14
        }
      ]
    },
    {
      "cell_type": "code",
      "source": [
        "TENSOR.ndim"
      ],
      "metadata": {
        "colab": {
          "base_uri": "https://localhost:8080/"
        },
        "id": "SzzsWsmtEAoA",
        "outputId": "b21bb565-05cd-427d-ca63-9e57088e565a"
      },
      "execution_count": null,
      "outputs": [
        {
          "output_type": "execute_result",
          "data": {
            "text/plain": [
              "3"
            ]
          },
          "metadata": {},
          "execution_count": 15
        }
      ]
    },
    {
      "cell_type": "code",
      "source": [
        "TENSOR.shape"
      ],
      "metadata": {
        "colab": {
          "base_uri": "https://localhost:8080/"
        },
        "id": "GQNACR92EZFI",
        "outputId": "b777c560-2e81-4c15-8230-1573ad187184"
      },
      "execution_count": null,
      "outputs": [
        {
          "output_type": "execute_result",
          "data": {
            "text/plain": [
              "torch.Size([2, 3, 3])"
            ]
          },
          "metadata": {},
          "execution_count": 16
        }
      ]
    },
    {
      "cell_type": "code",
      "source": [
        "TENSOR[0]"
      ],
      "metadata": {
        "colab": {
          "base_uri": "https://localhost:8080/"
        },
        "id": "JrEdT0a6EgEA",
        "outputId": "2d0e03c0-4674-47b2-88b1-36c809095460"
      },
      "execution_count": null,
      "outputs": [
        {
          "output_type": "execute_result",
          "data": {
            "text/plain": [
              "tensor([[1, 2, 3],\n",
              "        [4, 5, 6],\n",
              "        [7, 8, 9]])"
            ]
          },
          "metadata": {},
          "execution_count": 17
        }
      ]
    },
    {
      "cell_type": "code",
      "source": [
        "TENSOR[0][1]"
      ],
      "metadata": {
        "colab": {
          "base_uri": "https://localhost:8080/"
        },
        "id": "Cr313iagEnUg",
        "outputId": "fd0f62e4-17cb-4e8f-bfc0-06340d1ff1f8"
      },
      "execution_count": null,
      "outputs": [
        {
          "output_type": "execute_result",
          "data": {
            "text/plain": [
              "tensor([4, 5, 6])"
            ]
          },
          "metadata": {},
          "execution_count": 18
        }
      ]
    },
    {
      "cell_type": "code",
      "source": [
        "TENSOR[0][1][2]"
      ],
      "metadata": {
        "colab": {
          "base_uri": "https://localhost:8080/"
        },
        "id": "RuyXacRKEsRh",
        "outputId": "50312382-53b8-46fa-f43f-4ff200e84d18"
      },
      "execution_count": null,
      "outputs": [
        {
          "output_type": "execute_result",
          "data": {
            "text/plain": [
              "tensor(6)"
            ]
          },
          "metadata": {},
          "execution_count": 19
        }
      ]
    },
    {
      "cell_type": "markdown",
      "source": [
        "### Random TENSORS\n",
        "\n",
        "1. These are importent becouse the way many neural networks learn with random Tensors.\n",
        "\n",
        "2. Then adjust those random Tensors to better represnt data."
      ],
      "metadata": {
        "id": "50mOFFeeEhiv"
      }
    },
    {
      "cell_type": "code",
      "source": [
        "# Create a random Tensors of shape (3, 4)\n",
        "random_tensor = torch.rand(3, 4)\n",
        "random_tensor"
      ],
      "metadata": {
        "colab": {
          "base_uri": "https://localhost:8080/"
        },
        "id": "UwGbz0bPE_z5",
        "outputId": "137e04db-8240-47a0-b85c-c4578d608ab1"
      },
      "execution_count": null,
      "outputs": [
        {
          "output_type": "execute_result",
          "data": {
            "text/plain": [
              "tensor([[0.2700, 0.1334, 0.1228, 0.9955],\n",
              "        [0.3788, 0.8035, 0.4619, 0.8451],\n",
              "        [0.6103, 0.9281, 0.3384, 0.6077]])"
            ]
          },
          "metadata": {},
          "execution_count": 20
        }
      ]
    },
    {
      "cell_type": "code",
      "source": [
        "random_tensor.ndim"
      ],
      "metadata": {
        "colab": {
          "base_uri": "https://localhost:8080/"
        },
        "id": "cY23RU-NFk3J",
        "outputId": "f0e5e84b-06de-4a4e-a18e-f4928e83883f"
      },
      "execution_count": null,
      "outputs": [
        {
          "output_type": "execute_result",
          "data": {
            "text/plain": [
              "2"
            ]
          },
          "metadata": {},
          "execution_count": 21
        }
      ]
    },
    {
      "cell_type": "code",
      "source": [
        "# Create random tensor with similar shape to an image tensor\n",
        "ramdom_image_size_tensor = torch.rand(size= (3, 244, 244))\n",
        "ramdom_image_size_tensor.shape, ramdom_image_size_tensor.ndim"
      ],
      "metadata": {
        "colab": {
          "base_uri": "https://localhost:8080/"
        },
        "id": "24ETrvhAGE3y",
        "outputId": "68b041f3-4726-45e3-ce34-db93d4ea6317"
      },
      "execution_count": null,
      "outputs": [
        {
          "output_type": "execute_result",
          "data": {
            "text/plain": [
              "(torch.Size([3, 244, 244]), 3)"
            ]
          },
          "metadata": {},
          "execution_count": 22
        }
      ]
    },
    {
      "cell_type": "markdown",
      "source": [
        "### Zeros and ones\n"
      ],
      "metadata": {
        "id": "Xkcq4xyeI5kV"
      }
    },
    {
      "cell_type": "code",
      "source": [
        "# Creaate tensor with all zeros\n",
        "zeros = torch.zeros(3,4)\n",
        "zeros"
      ],
      "metadata": {
        "colab": {
          "base_uri": "https://localhost:8080/"
        },
        "id": "nu8WVdCpIs6w",
        "outputId": "4260c2b2-7c1f-434a-aaa9-df1f917b3f68"
      },
      "execution_count": null,
      "outputs": [
        {
          "output_type": "execute_result",
          "data": {
            "text/plain": [
              "tensor([[0., 0., 0., 0.],\n",
              "        [0., 0., 0., 0.],\n",
              "        [0., 0., 0., 0.]])"
            ]
          },
          "metadata": {},
          "execution_count": 23
        }
      ]
    },
    {
      "cell_type": "code",
      "source": [
        "random_tensor*zeros"
      ],
      "metadata": {
        "colab": {
          "base_uri": "https://localhost:8080/"
        },
        "id": "ZpYMemMqJJUb",
        "outputId": "f6c0a27f-eff2-4850-b1a7-4ffa48bb155b"
      },
      "execution_count": null,
      "outputs": [
        {
          "output_type": "execute_result",
          "data": {
            "text/plain": [
              "tensor([[0., 0., 0., 0.],\n",
              "        [0., 0., 0., 0.],\n",
              "        [0., 0., 0., 0.]])"
            ]
          },
          "metadata": {},
          "execution_count": 24
        }
      ]
    },
    {
      "cell_type": "code",
      "source": [
        "ones = torch.ones(3, 4)\n",
        "ones"
      ],
      "metadata": {
        "colab": {
          "base_uri": "https://localhost:8080/"
        },
        "id": "jWd6EZJBJdHB",
        "outputId": "ed4e1806-867e-400d-962c-4563d960e0c2"
      },
      "execution_count": null,
      "outputs": [
        {
          "output_type": "execute_result",
          "data": {
            "text/plain": [
              "tensor([[1., 1., 1., 1.],\n",
              "        [1., 1., 1., 1.],\n",
              "        [1., 1., 1., 1.]])"
            ]
          },
          "metadata": {},
          "execution_count": 25
        }
      ]
    },
    {
      "cell_type": "code",
      "source": [
        "ones.dtype"
      ],
      "metadata": {
        "colab": {
          "base_uri": "https://localhost:8080/"
        },
        "id": "BZIPWyxwJpnZ",
        "outputId": "efc2cc22-3e9b-406e-d302-4997ba15c40a"
      },
      "execution_count": null,
      "outputs": [
        {
          "output_type": "execute_result",
          "data": {
            "text/plain": [
              "torch.float32"
            ]
          },
          "metadata": {},
          "execution_count": 26
        }
      ]
    },
    {
      "cell_type": "markdown",
      "source": [
        "###Creating Range of Tensors and tensors like\n",
        "\n"
      ],
      "metadata": {
        "id": "TKkEgh7GKBwm"
      }
    },
    {
      "cell_type": "code",
      "source": [
        "# use torch. range()[range dose not support so arange()]\n",
        "one_to_ten = torch.arange(1, 11)\n",
        "one_to_ten"
      ],
      "metadata": {
        "colab": {
          "base_uri": "https://localhost:8080/"
        },
        "id": "9SvPGKelKFIR",
        "outputId": "5429ab12-4cb6-4d15-de39-22b8cf1d73f7"
      },
      "execution_count": null,
      "outputs": [
        {
          "output_type": "execute_result",
          "data": {
            "text/plain": [
              "tensor([ 1,  2,  3,  4,  5,  6,  7,  8,  9, 10])"
            ]
          },
          "metadata": {},
          "execution_count": 27
        }
      ]
    },
    {
      "cell_type": "code",
      "source": [
        "torch.arange(start = 1, end = 11)\n"
      ],
      "metadata": {
        "colab": {
          "base_uri": "https://localhost:8080/"
        },
        "id": "M-HNURKCGNaq",
        "outputId": "e7d6c40a-3c3e-47d4-8b26-70773689ea9b"
      },
      "execution_count": null,
      "outputs": [
        {
          "output_type": "execute_result",
          "data": {
            "text/plain": [
              "tensor([ 1,  2,  3,  4,  5,  6,  7,  8,  9, 10])"
            ]
          },
          "metadata": {},
          "execution_count": 28
        }
      ]
    },
    {
      "cell_type": "code",
      "source": [
        "torch.arange(1,1000,77)"
      ],
      "metadata": {
        "id": "CrnaVQhnIcWJ",
        "colab": {
          "base_uri": "https://localhost:8080/"
        },
        "outputId": "fe856d7a-0925-461a-8bde-3750e78e877e"
      },
      "execution_count": null,
      "outputs": [
        {
          "output_type": "execute_result",
          "data": {
            "text/plain": [
              "tensor([  1,  78, 155, 232, 309, 386, 463, 540, 617, 694, 771, 848, 925])"
            ]
          },
          "metadata": {},
          "execution_count": 29
        }
      ]
    },
    {
      "cell_type": "code",
      "source": [
        "torch.arange(start = 1, end = 1000, step = 77)"
      ],
      "metadata": {
        "colab": {
          "base_uri": "https://localhost:8080/"
        },
        "id": "qj9C7wQRk4q2",
        "outputId": "0070c7bb-1ded-4258-9782-cc2a36e7912f"
      },
      "execution_count": null,
      "outputs": [
        {
          "output_type": "execute_result",
          "data": {
            "text/plain": [
              "tensor([  1,  78, 155, 232, 309, 386, 463, 540, 617, 694, 771, 848, 925])"
            ]
          },
          "metadata": {},
          "execution_count": 30
        }
      ]
    },
    {
      "cell_type": "code",
      "source": [
        "# create tensors like (use this if need to create a tensor likes\n",
        "# something else  ) it just copy the shape\n",
        "\n",
        "one_to_ten"
      ],
      "metadata": {
        "colab": {
          "base_uri": "https://localhost:8080/"
        },
        "id": "rY65IFEKlCzN",
        "outputId": "22747b11-6b89-4f04-bfb3-9616f4986f54"
      },
      "execution_count": null,
      "outputs": [
        {
          "output_type": "execute_result",
          "data": {
            "text/plain": [
              "tensor([ 1,  2,  3,  4,  5,  6,  7,  8,  9, 10])"
            ]
          },
          "metadata": {},
          "execution_count": 31
        }
      ]
    },
    {
      "cell_type": "code",
      "source": [
        "ten_zeros = torch.zeros_like(one_to_ten)\n",
        "ten_zeros"
      ],
      "metadata": {
        "colab": {
          "base_uri": "https://localhost:8080/"
        },
        "id": "k1NCMqj-lQzW",
        "outputId": "d1137c24-6a72-4185-a2d5-953c4341d5fe"
      },
      "execution_count": null,
      "outputs": [
        {
          "output_type": "execute_result",
          "data": {
            "text/plain": [
              "tensor([0, 0, 0, 0, 0, 0, 0, 0, 0, 0])"
            ]
          },
          "metadata": {},
          "execution_count": 32
        }
      ]
    },
    {
      "cell_type": "markdown",
      "source": [
        "### Tensor Data type\n",
        "***NOTE: 3 big errors\n",
        "\n",
        "      1. Tensors not right dtypr\n",
        "      2. Tensors not right shape\n",
        "      3. Tensors not on the right device  \n"
      ],
      "metadata": {
        "id": "JpPZquUDnH_E"
      }
    },
    {
      "cell_type": "code",
      "source": [
        "# defult comes with float 32\n",
        "tensor_type = torch.tensor([3.0, 6.0, 9.0],\n",
        "                           dtype=None)\n",
        "tensor_type"
      ],
      "metadata": {
        "colab": {
          "base_uri": "https://localhost:8080/"
        },
        "id": "ehNY8cG3nLML",
        "outputId": "97c32c04-daf4-4b81-d15a-73355173f63d"
      },
      "execution_count": null,
      "outputs": [
        {
          "output_type": "execute_result",
          "data": {
            "text/plain": [
              "tensor([3., 6., 9.])"
            ]
          },
          "metadata": {},
          "execution_count": 33
        }
      ]
    },
    {
      "cell_type": "code",
      "source": [
        "tensor_type.dtype"
      ],
      "metadata": {
        "colab": {
          "base_uri": "https://localhost:8080/"
        },
        "id": "TVcMAUhRoiSV",
        "outputId": "53d60b54-cd76-48f4-8464-0ba715cb0e61"
      },
      "execution_count": null,
      "outputs": [
        {
          "output_type": "execute_result",
          "data": {
            "text/plain": [
              "torch.float32"
            ]
          },
          "metadata": {},
          "execution_count": 34
        }
      ]
    },
    {
      "cell_type": "code",
      "source": [
        "tensor_type = torch.tensor([3.0, 6.0, 9.0],\n",
        "                           dtype=torch.float16)\n",
        "tensor_type.dtype"
      ],
      "metadata": {
        "colab": {
          "base_uri": "https://localhost:8080/"
        },
        "id": "q45vJF-oom6N",
        "outputId": "b29a4b1f-d2be-4dbf-c7df-76fafacbb7c9"
      },
      "execution_count": null,
      "outputs": [
        {
          "output_type": "execute_result",
          "data": {
            "text/plain": [
              "torch.float16"
            ]
          },
          "metadata": {},
          "execution_count": 35
        }
      ]
    },
    {
      "cell_type": "code",
      "source": [
        "# importent parameters to be aware of\n",
        "tensor_type = torch.tensor([3.0, 6.0, 9.0],\n",
        "                           dtype=None,# what data type is the tensor\n",
        "                           device=None,# what devise is you tensor on\n",
        "                           requires_grad=False)# whether or not track gradiants this tensors operations\n",
        "tensor_type"
      ],
      "metadata": {
        "colab": {
          "base_uri": "https://localhost:8080/"
        },
        "id": "ZehfM_tOovLU",
        "outputId": "125ea198-28d7-4c92-ca50-c821c85b50ba"
      },
      "execution_count": null,
      "outputs": [
        {
          "output_type": "execute_result",
          "data": {
            "text/plain": [
              "tensor([3., 6., 9.])"
            ]
          },
          "metadata": {},
          "execution_count": 36
        }
      ]
    },
    {
      "cell_type": "code",
      "source": [
        "float_16_tensor = tensor_type.type(torch.half) # or u can use (torch.float16)\n",
        "float_16_tensor"
      ],
      "metadata": {
        "colab": {
          "base_uri": "https://localhost:8080/"
        },
        "id": "DWTC9-Z3sRBO",
        "outputId": "5ab56882-9516-4cb4-e50e-71f27d18d874"
      },
      "execution_count": null,
      "outputs": [
        {
          "output_type": "execute_result",
          "data": {
            "text/plain": [
              "tensor([3., 6., 9.], dtype=torch.float16)"
            ]
          },
          "metadata": {},
          "execution_count": 37
        }
      ]
    },
    {
      "cell_type": "code",
      "source": [
        "# even though we could multyply 2 tensors of defferent dtype here\n",
        "# it not work on every places so be care full\n",
        "\n",
        "float_16_tensor * tensor_type"
      ],
      "metadata": {
        "colab": {
          "base_uri": "https://localhost:8080/"
        },
        "id": "_OYqHhQDslKV",
        "outputId": "a2732bf7-7880-4d6c-da95-3f0e893b14fe"
      },
      "execution_count": null,
      "outputs": [
        {
          "output_type": "execute_result",
          "data": {
            "text/plain": [
              "tensor([ 9., 36., 81.])"
            ]
          },
          "metadata": {},
          "execution_count": 38
        }
      ]
    },
    {
      "cell_type": "code",
      "source": [
        "int_32_tensor = torch.tensor([3, 6, 9],\n",
        "                             dtype = torch.int32)\n",
        "int_32_tensor"
      ],
      "metadata": {
        "colab": {
          "base_uri": "https://localhost:8080/"
        },
        "id": "mHRDp817vI-l",
        "outputId": "b3b16392-7e3a-4734-c37c-7b08ee02db43"
      },
      "execution_count": null,
      "outputs": [
        {
          "output_type": "execute_result",
          "data": {
            "text/plain": [
              "tensor([3, 6, 9], dtype=torch.int32)"
            ]
          },
          "metadata": {},
          "execution_count": 39
        }
      ]
    },
    {
      "cell_type": "code",
      "source": [
        "int_32_tensor *  float_16_tensor"
      ],
      "metadata": {
        "colab": {
          "base_uri": "https://localhost:8080/"
        },
        "id": "H_LWy1nHvu1c",
        "outputId": "ff4cf391-5437-4c32-eef8-065ff65cb43b"
      },
      "execution_count": null,
      "outputs": [
        {
          "output_type": "execute_result",
          "data": {
            "text/plain": [
              "tensor([ 9., 36., 81.], dtype=torch.float16)"
            ]
          },
          "metadata": {},
          "execution_count": 40
        }
      ]
    },
    {
      "cell_type": "code",
      "source": [
        "int_32_tensor *  tensor_type"
      ],
      "metadata": {
        "colab": {
          "base_uri": "https://localhost:8080/"
        },
        "id": "AcwLJgPev6kM",
        "outputId": "0f9f4e37-f552-4106-f3cb-1147b671ab9f"
      },
      "execution_count": null,
      "outputs": [
        {
          "output_type": "execute_result",
          "data": {
            "text/plain": [
              "tensor([ 9., 36., 81.])"
            ]
          },
          "metadata": {},
          "execution_count": 41
        }
      ]
    },
    {
      "cell_type": "markdown",
      "source": [
        "### Getting informations from tensors\n",
        "\n",
        "1. Tensors not right dtypr     - tensor.dtype\n",
        "2. Tensors not right shape         - tensor.shape\n",
        "3. Tensors not on the right device - tensor.device"
      ],
      "metadata": {
        "id": "RlokjV9VxOuv"
      }
    },
    {
      "cell_type": "code",
      "source": [
        "# Create a tensor\n",
        "some_tensor = torch.rand(3, 4)\n",
        "some_tensor"
      ],
      "metadata": {
        "colab": {
          "base_uri": "https://localhost:8080/"
        },
        "id": "r3cSkZtXxLz8",
        "outputId": "b389317a-15e3-416b-ad52-291fd4f12017"
      },
      "execution_count": null,
      "outputs": [
        {
          "output_type": "execute_result",
          "data": {
            "text/plain": [
              "tensor([[0.5945, 0.6906, 0.4450, 0.7602],\n",
              "        [0.2904, 0.9304, 0.6067, 0.8720],\n",
              "        [0.2538, 0.8831, 0.8148, 0.1824]])"
            ]
          },
          "metadata": {},
          "execution_count": 42
        }
      ]
    },
    {
      "cell_type": "code",
      "source": [
        "# Find out details about tensors\n",
        "\n",
        "print(some_tensor, \"\\n\")\n",
        "print(f\"Datatype of tensor : {some_tensor.dtype}\\n\")\n",
        "\n",
        "# these two are same acsept one is a attribute other one is def(function)\n",
        "print(f\"Shape of a tensor : {some_tensor.shape}\")\n",
        "print(f\"Shape of a tensor : {some_tensor.size()}\\n\")\n",
        "\n",
        "# all the tensor that we create is on cpu as defult\n",
        "print(f\"Device tensor is on : {some_tensor.device}\")\n",
        "\n"
      ],
      "metadata": {
        "colab": {
          "base_uri": "https://localhost:8080/"
        },
        "id": "9VE6ZZRCxlj7",
        "outputId": "88c46191-93cf-4621-a0ac-a2f4d5365084"
      },
      "execution_count": null,
      "outputs": [
        {
          "output_type": "stream",
          "name": "stdout",
          "text": [
            "tensor([[0.5945, 0.6906, 0.4450, 0.7602],\n",
            "        [0.2904, 0.9304, 0.6067, 0.8720],\n",
            "        [0.2538, 0.8831, 0.8148, 0.1824]]) \n",
            "\n",
            "Datatype of tensor : torch.float32\n",
            "\n",
            "Shape of a tensor : torch.Size([3, 4])\n",
            "Shape of a tensor : torch.Size([3, 4])\n",
            "\n",
            "Device tensor is on : cpu\n"
          ]
        }
      ]
    },
    {
      "cell_type": "markdown",
      "source": [
        "### Manipulating Tensors (tensor operations)\n",
        "\n",
        "\n",
        "  \n",
        "\n",
        "1.   Addition\n",
        "2.   Subtraction\n",
        "3.   Multiplication (elemnt-wise)\n",
        "4.   Division\n",
        "5.   Matrix multiplication\n",
        "\n",
        "\n"
      ],
      "metadata": {
        "id": "Z47BdtKxzt1C"
      }
    },
    {
      "cell_type": "code",
      "source": [
        "# create a tensor & add 10 to it\n",
        "gg = torch.tensor([1, 2, 3])\n",
        "\n",
        "gg + 10"
      ],
      "metadata": {
        "id": "4_1vbq0Iz0Ab",
        "colab": {
          "base_uri": "https://localhost:8080/"
        },
        "outputId": "ab72250e-e9cf-45a2-f21a-90fa02693a96"
      },
      "execution_count": null,
      "outputs": [
        {
          "output_type": "execute_result",
          "data": {
            "text/plain": [
              "tensor([11, 12, 13])"
            ]
          },
          "metadata": {},
          "execution_count": 44
        }
      ]
    },
    {
      "cell_type": "code",
      "source": [
        "# PYTorch  in build function\n",
        "gg.add(100)"
      ],
      "metadata": {
        "colab": {
          "base_uri": "https://localhost:8080/"
        },
        "id": "OGExZUOp8evu",
        "outputId": "1f729a45-424a-4c47-c914-ab742995c29c"
      },
      "execution_count": null,
      "outputs": [
        {
          "output_type": "execute_result",
          "data": {
            "text/plain": [
              "tensor([101, 102, 103])"
            ]
          },
          "metadata": {},
          "execution_count": 45
        }
      ]
    },
    {
      "cell_type": "code",
      "source": [
        "# multiply tensor by 10\n",
        "gg * 10\n"
      ],
      "metadata": {
        "colab": {
          "base_uri": "https://localhost:8080/"
        },
        "id": "7FNtq9yO8mRU",
        "outputId": "b4c50ae5-a17c-41e4-c865-54630d08a558"
      },
      "execution_count": null,
      "outputs": [
        {
          "output_type": "execute_result",
          "data": {
            "text/plain": [
              "tensor([10, 20, 30])"
            ]
          },
          "metadata": {},
          "execution_count": 46
        }
      ]
    },
    {
      "cell_type": "code",
      "source": [
        "# Substract\n",
        "gg - 10"
      ],
      "metadata": {
        "colab": {
          "base_uri": "https://localhost:8080/"
        },
        "id": "umN_J6Z49ftJ",
        "outputId": "67d0e09c-bc8f-4abb-aa70-30f8095aca3a"
      },
      "execution_count": null,
      "outputs": [
        {
          "output_type": "execute_result",
          "data": {
            "text/plain": [
              "tensor([-9, -8, -7])"
            ]
          },
          "metadata": {},
          "execution_count": 47
        }
      ]
    },
    {
      "cell_type": "code",
      "source": [
        "### matrix multiplication [2 types]\n",
        "  # 1. Element-wise Multiplication\n",
        "  # 2. matrix multiplication [dot products]"
      ],
      "metadata": {
        "id": "XwNmeaNW93M3"
      },
      "execution_count": null,
      "outputs": []
    },
    {
      "cell_type": "code",
      "source": [
        "# 1. Element-wise Multiplication\n",
        "print(gg, \"*\", gg)\n",
        "print(f\"Equals:, {gg * gg}\")"
      ],
      "metadata": {
        "colab": {
          "base_uri": "https://localhost:8080/"
        },
        "id": "oaknbFsyQDLE",
        "outputId": "cef3c7aa-08fc-430b-dc9b-df2d340e4213"
      },
      "execution_count": null,
      "outputs": [
        {
          "output_type": "stream",
          "name": "stdout",
          "text": [
            "tensor([1, 2, 3]) * tensor([1, 2, 3])\n",
            "Equals:, tensor([1, 4, 9])\n"
          ]
        }
      ]
    },
    {
      "cell_type": "code",
      "source": [
        "# 2. matrix multiplication\n",
        "%%time\n",
        "torch.matmul(gg ,gg) # insted of matmul we can use mm [sorter virsion]"
      ],
      "metadata": {
        "colab": {
          "base_uri": "https://localhost:8080/"
        },
        "id": "hpB9GMOKRBGP",
        "outputId": "f6521137-3b1d-4f56-deb6-2e2d8f37753d"
      },
      "execution_count": null,
      "outputs": [
        {
          "output_type": "stream",
          "name": "stdout",
          "text": [
            "CPU times: user 506 µs, sys: 839 µs, total: 1.34 ms\n",
            "Wall time: 6.02 ms\n"
          ]
        },
        {
          "output_type": "execute_result",
          "data": {
            "text/plain": [
              "tensor(14)"
            ]
          },
          "metadata": {},
          "execution_count": 50
        }
      ]
    },
    {
      "cell_type": "code",
      "source": [
        "## or we can use @ to do the aboue same thing\n",
        "%%time\n",
        "gg @ gg\n",
        "# time is way low for using @"
      ],
      "metadata": {
        "colab": {
          "base_uri": "https://localhost:8080/"
        },
        "id": "GrTfWxCWY2Ov",
        "outputId": "a13fdcef-fc9d-4848-9573-544881913e9f"
      },
      "execution_count": null,
      "outputs": [
        {
          "output_type": "stream",
          "name": "stdout",
          "text": [
            "CPU times: user 1.64 ms, sys: 0 ns, total: 1.64 ms\n",
            "Wall time: 1.95 ms\n"
          ]
        },
        {
          "output_type": "execute_result",
          "data": {
            "text/plain": [
              "tensor(14)"
            ]
          },
          "metadata": {},
          "execution_count": 51
        }
      ]
    },
    {
      "cell_type": "code",
      "source": [
        "#by hand = 1*1 + 2*2 + 3*3"
      ],
      "metadata": {
        "id": "9uj660TxRiDU"
      },
      "execution_count": null,
      "outputs": []
    },
    {
      "cell_type": "code",
      "source": [
        "%%time\n",
        "value = 0\n",
        "for i in range(len(gg)):\n",
        "  value += gg[i] * gg[i]\n",
        "print(value)"
      ],
      "metadata": {
        "colab": {
          "base_uri": "https://localhost:8080/"
        },
        "id": "yi7pIiYQSCQ_",
        "outputId": "05a08594-b04b-4034-8d3d-3bcdc39647bd"
      },
      "execution_count": null,
      "outputs": [
        {
          "output_type": "stream",
          "name": "stdout",
          "text": [
            "tensor(14)\n",
            "CPU times: user 2.13 ms, sys: 1.02 ms, total: 3.15 ms\n",
            "Wall time: 4.86 ms\n"
          ]
        }
      ]
    },
    {
      "cell_type": "markdown",
      "source": [
        "###                          **  Fun fact **\n",
        "If we didnt print the [ print(value)] = 1.41ms\n",
        "\n",
        "\n",
        "and use just value it take more time           = 6ms\n",
        "\n",
        "\n",
        "same reason why c++ faster for gaming than python"
      ],
      "metadata": {
        "id": "awPMf_4VXqEU"
      }
    },
    {
      "cell_type": "code",
      "source": [
        "### One of the most common error = shap error"
      ],
      "metadata": {
        "id": "x7TezhVmTO0g"
      },
      "execution_count": null,
      "outputs": []
    },
    {
      "cell_type": "markdown",
      "source": [
        "**1 . Inner dimentions must match**\n",
        "\n",
        "*   (3, 2)  @  (3, 2) = Won't work\n",
        "*   (2, 3)  @  (3, 2) = Will work\n",
        "*   (3, 2)  @  (2, 3) = Will work\n",
        "\n",
        "**2. The resulting matrix has the shape of the outer dimention**\n",
        "\n",
        "\n",
        "1.   (2, 3)  @  (3, 2) -> (2, 2)\n",
        "2.   (3, 2)  @  (2, 3) -> (3, 3)\n",
        "\n",
        "\n",
        "\n",
        "\n"
      ],
      "metadata": {
        "id": "ntyTD86haU4H"
      }
    },
    {
      "cell_type": "markdown",
      "source": [
        "## Error\n",
        "torch.matmul(torch.rand(3, 2), torch.rand(3, 2))\n"
      ],
      "metadata": {
        "id": "PRx57BRoiSjX"
      }
    },
    {
      "cell_type": "code",
      "source": [
        "torch.matmul(torch.rand(2, 3), torch.rand(3, 2))"
      ],
      "metadata": {
        "colab": {
          "base_uri": "https://localhost:8080/"
        },
        "id": "KUKl5jjka62O",
        "outputId": "af7bf04c-f03e-4fb1-afde-162c886595bd"
      },
      "execution_count": null,
      "outputs": [
        {
          "output_type": "execute_result",
          "data": {
            "text/plain": [
              "tensor([[0.4055, 0.2281],\n",
              "        [0.9713, 0.6553]])"
            ]
          },
          "metadata": {},
          "execution_count": 55
        }
      ]
    },
    {
      "cell_type": "code",
      "source": [
        "torch.matmul(torch.rand(3, 2), torch.rand(2, 3))"
      ],
      "metadata": {
        "colab": {
          "base_uri": "https://localhost:8080/"
        },
        "id": "zicnHNsJbUBK",
        "outputId": "d6dee0e9-f8e0-4786-d241-f365439d81c8"
      },
      "execution_count": null,
      "outputs": [
        {
          "output_type": "execute_result",
          "data": {
            "text/plain": [
              "tensor([[0.7124, 0.5267, 0.9357],\n",
              "        [0.5419, 0.5229, 0.8065],\n",
              "        [0.5679, 0.3994, 0.7301]])"
            ]
          },
          "metadata": {},
          "execution_count": 56
        }
      ]
    },
    {
      "cell_type": "markdown",
      "source": [],
      "metadata": {
        "id": "sTQCEGjKiOE4"
      }
    },
    {
      "cell_type": "code",
      "source": [
        "## Error\n",
        "# shapes for metrix multiplication\n",
        "tensor_A =  torch.tensor([[1, 2],\n",
        "                          [3, 4],\n",
        "                          [5, 6]])\n",
        "\n",
        "tensor_B = torch.tensor([[7, 10],\n",
        "                         [8, 11],\n",
        "                         [9, 12]])"
      ],
      "metadata": {
        "id": "_uvQjZX3isEL"
      },
      "execution_count": null,
      "outputs": []
    },
    {
      "cell_type": "markdown",
      "source": [
        "## Error\n",
        "torch.mm(tensor_A , tensor_B)"
      ],
      "metadata": {
        "id": "L18QRN6Vi1i5"
      }
    },
    {
      "cell_type": "code",
      "source": [
        "tensor_A.shape, tensor_B.shape"
      ],
      "metadata": {
        "colab": {
          "base_uri": "https://localhost:8080/"
        },
        "id": "zeMMQZE5iVew",
        "outputId": "1b2f1190-60f6-4415-c086-53a2309e7117"
      },
      "execution_count": null,
      "outputs": [
        {
          "output_type": "execute_result",
          "data": {
            "text/plain": [
              "(torch.Size([3, 2]), torch.Size([3, 2]))"
            ]
          },
          "metadata": {},
          "execution_count": 58
        }
      ]
    },
    {
      "cell_type": "markdown",
      "source": [
        "To fix shape issues, we can use **transpose**"
      ],
      "metadata": {
        "id": "5p4QOJFukUzS"
      }
    },
    {
      "cell_type": "code",
      "source": [
        "tensor_B, tensor_B.shape"
      ],
      "metadata": {
        "colab": {
          "base_uri": "https://localhost:8080/"
        },
        "id": "iYLEMNQPkArk",
        "outputId": "6d89cd70-0a15-448c-b518-ce5ad3a27a22"
      },
      "execution_count": null,
      "outputs": [
        {
          "output_type": "execute_result",
          "data": {
            "text/plain": [
              "(tensor([[ 7, 10],\n",
              "         [ 8, 11],\n",
              "         [ 9, 12]]),\n",
              " torch.Size([3, 2]))"
            ]
          },
          "metadata": {},
          "execution_count": 59
        }
      ]
    },
    {
      "cell_type": "code",
      "source": [
        "tensor_B.T, tensor_B.T.shape ## now the shapes of thensor b is changed"
      ],
      "metadata": {
        "colab": {
          "base_uri": "https://localhost:8080/"
        },
        "id": "c6IcjOD0kmpq",
        "outputId": "ebb17571-5e60-4fd9-a442-b6457bb2bece"
      },
      "execution_count": null,
      "outputs": [
        {
          "output_type": "execute_result",
          "data": {
            "text/plain": [
              "(tensor([[ 7,  8,  9],\n",
              "         [10, 11, 12]]),\n",
              " torch.Size([2, 3]))"
            ]
          },
          "metadata": {},
          "execution_count": 60
        }
      ]
    },
    {
      "cell_type": "code",
      "source": [
        "# now you dont get an error [becouse tensor_B is transpose now]\n",
        "print(f\"Original shapes: tensor_A = {tensor_A.shape}, tensor_B = {tensor_B.shape}\")\n",
        "print(f\"New shapes:      tensor_A = {tensor_A.shape}(same as above), tensor_B.T = {tensor_B.T.shape}\")\n",
        "print(f\"Multiplaing:                {tensor_A.shape} @ {tensor_B.T.shape} <- inner dimention must match\")\n",
        "print(\"\\noutput :\")\n",
        "output = torch.mm(tensor_A, tensor_B.T)\n",
        "print(output)\n",
        "print(f\"\\nOutput shape: {output.shape}\")\n"
      ],
      "metadata": {
        "colab": {
          "base_uri": "https://localhost:8080/"
        },
        "id": "Ioh6FKfdkpGS",
        "outputId": "7efdffcd-e1c2-4c0f-f50a-b685d3b5caa1"
      },
      "execution_count": null,
      "outputs": [
        {
          "output_type": "stream",
          "name": "stdout",
          "text": [
            "Original shapes: tensor_A = torch.Size([3, 2]), tensor_B = torch.Size([3, 2])\n",
            "New shapes:      tensor_A = torch.Size([3, 2])(same as above), tensor_B.T = torch.Size([2, 3])\n",
            "Multiplaing:                torch.Size([3, 2]) @ torch.Size([2, 3]) <- inner dimention must match\n",
            "\n",
            "output :\n",
            "tensor([[ 27,  30,  33],\n",
            "        [ 61,  68,  75],\n",
            "        [ 95, 106, 117]])\n",
            "\n",
            "Output shape: torch.Size([3, 3])\n"
          ]
        }
      ]
    },
    {
      "cell_type": "markdown",
      "source": [
        "# Tensor Aggregation\n",
        "#### Finding the min, mean, sum etc"
      ],
      "metadata": {
        "id": "5I4AaXBpkY57"
      }
    },
    {
      "cell_type": "code",
      "source": [
        "# Create a Tensor\n",
        "x = torch.arange(1, 100, 10)\n",
        "x, x.dtype"
      ],
      "metadata": {
        "id": "9V7IP7c7lQMe",
        "colab": {
          "base_uri": "https://localhost:8080/"
        },
        "outputId": "1f820d09-6b63-4027-b742-2090748e9947"
      },
      "execution_count": null,
      "outputs": [
        {
          "output_type": "execute_result",
          "data": {
            "text/plain": [
              "(tensor([ 1, 11, 21, 31, 41, 51, 61, 71, 81, 91]), torch.int64)"
            ]
          },
          "metadata": {},
          "execution_count": 62
        }
      ]
    },
    {
      "cell_type": "code",
      "source": [
        "# To Find the min\n",
        "torch.min(x), x.min()"
      ],
      "metadata": {
        "colab": {
          "base_uri": "https://localhost:8080/"
        },
        "id": "0zLU29FKlN_-",
        "outputId": "aa0c96c6-0147-4285-9d2e-bfde34c6f93f"
      },
      "execution_count": null,
      "outputs": [
        {
          "output_type": "execute_result",
          "data": {
            "text/plain": [
              "(tensor(1), tensor(1))"
            ]
          },
          "metadata": {},
          "execution_count": 63
        }
      ]
    },
    {
      "cell_type": "code",
      "source": [
        "# Max\n",
        "torch.max(x), x.max()"
      ],
      "metadata": {
        "colab": {
          "base_uri": "https://localhost:8080/"
        },
        "id": "cllzvnd6lcQO",
        "outputId": "381f6d10-306b-474a-e60f-7849c57ecfd0"
      },
      "execution_count": null,
      "outputs": [
        {
          "output_type": "execute_result",
          "data": {
            "text/plain": [
              "(tensor(91), tensor(91))"
            ]
          },
          "metadata": {},
          "execution_count": 64
        }
      ]
    },
    {
      "cell_type": "code",
      "source": [
        "## Mean [ x.mean() dose not work ]  / torch.mean(x)\n",
        "### becouse torch mean fun dose not work for dtype int64\n",
        "\n",
        "torch.mean(x.type(torch.float32)), x.type(torch.float32).mean()"
      ],
      "metadata": {
        "colab": {
          "base_uri": "https://localhost:8080/"
        },
        "id": "TI01miGAlmiW",
        "outputId": "b6e4f0ae-83cf-46ad-cb6f-6cb180047785"
      },
      "execution_count": null,
      "outputs": [
        {
          "output_type": "execute_result",
          "data": {
            "text/plain": [
              "(tensor(46.), tensor(46.))"
            ]
          },
          "metadata": {},
          "execution_count": 65
        }
      ]
    },
    {
      "cell_type": "code",
      "source": [
        "# Sum\n",
        "torch.sum(x), x.sum()"
      ],
      "metadata": {
        "colab": {
          "base_uri": "https://localhost:8080/"
        },
        "id": "qyDdK1oPmBJf",
        "outputId": "86111fe1-6f6c-48ca-9e03-39ab7942cf4a"
      },
      "execution_count": null,
      "outputs": [
        {
          "output_type": "execute_result",
          "data": {
            "text/plain": [
              "(tensor(460), tensor(460))"
            ]
          },
          "metadata": {},
          "execution_count": 66
        }
      ]
    },
    {
      "cell_type": "markdown",
      "source": [
        "# Finding the Positional mid and max"
      ],
      "metadata": {
        "id": "-eoPIernnKMm"
      }
    },
    {
      "cell_type": "code",
      "source": [
        "x"
      ],
      "metadata": {
        "colab": {
          "base_uri": "https://localhost:8080/"
        },
        "id": "K5lLjqHMmyhm",
        "outputId": "42170237-5749-4aa5-a038-36535d7979af"
      },
      "execution_count": null,
      "outputs": [
        {
          "output_type": "execute_result",
          "data": {
            "text/plain": [
              "tensor([ 1, 11, 21, 31, 41, 51, 61, 71, 81, 91])"
            ]
          },
          "metadata": {},
          "execution_count": 67
        }
      ]
    },
    {
      "cell_type": "code",
      "source": [
        "x.argmin() # return the index of the min value"
      ],
      "metadata": {
        "colab": {
          "base_uri": "https://localhost:8080/"
        },
        "id": "SNrlzM-dnRO2",
        "outputId": "903caf4b-360a-47c7-db7c-9f59ebc59d5a"
      },
      "execution_count": null,
      "outputs": [
        {
          "output_type": "execute_result",
          "data": {
            "text/plain": [
              "tensor(0)"
            ]
          },
          "metadata": {},
          "execution_count": 68
        }
      ]
    },
    {
      "cell_type": "code",
      "source": [
        "x.argmax() # return the index of the max value"
      ],
      "metadata": {
        "colab": {
          "base_uri": "https://localhost:8080/"
        },
        "id": "4nlfqOGNnUC6",
        "outputId": "e814c263-fa41-4933-a086-9eba7b24f301"
      },
      "execution_count": null,
      "outputs": [
        {
          "output_type": "execute_result",
          "data": {
            "text/plain": [
              "tensor(9)"
            ]
          },
          "metadata": {},
          "execution_count": 69
        }
      ]
    },
    {
      "cell_type": "markdown",
      "source": [
        "#Reshaping, stacking, squeezing, and unsqueezing tensor\n",
        "* reshaping - reshape an input tensor to a difine shape\n",
        "* view - return view of an input tensor of certain shape but keep the same memory\n",
        "* squeezing - removes all '1' dimensions from a tensor\n",
        "* unsqueezing - add a '1' dimension to a target tensor\n",
        "* Permute - return a view of the input with dimensions permuted (swapped) in a certain way"
      ],
      "metadata": {
        "id": "Lu4vhZ9U4gqt"
      }
    },
    {
      "cell_type": "code",
      "source": [
        "# let's create a tensor\n",
        "import torch # note book can run the sell derectly from here\n",
        "x = torch.arange(1., 11.)\n",
        "x, x.shape, x.dtype"
      ],
      "metadata": {
        "colab": {
          "base_uri": "https://localhost:8080/"
        },
        "id": "j9AA7iR5niC9",
        "outputId": "29c1a598-f3a9-4dee-dfe1-60a2ea093cb2"
      },
      "execution_count": null,
      "outputs": [
        {
          "output_type": "execute_result",
          "data": {
            "text/plain": [
              "(tensor([ 1.,  2.,  3.,  4.,  5.,  6.,  7.,  8.,  9., 10.]),\n",
              " torch.Size([10]),\n",
              " torch.float32)"
            ]
          },
          "metadata": {},
          "execution_count": 70
        }
      ]
    },
    {
      "cell_type": "code",
      "source": [
        "# Reshape = add extra dimention\n",
        "x_reshape = x.reshape(2, 5) # this workd becouse 5*2= 10 [x has 10 element] any combinations oky\n",
        "x_reshape, x_reshape.shape"
      ],
      "metadata": {
        "colab": {
          "base_uri": "https://localhost:8080/"
        },
        "id": "jKPilZAonnbh",
        "outputId": "779e12d7-432b-4519-b84f-3e389a9c7392"
      },
      "execution_count": null,
      "outputs": [
        {
          "output_type": "execute_result",
          "data": {
            "text/plain": [
              "(tensor([[ 1.,  2.,  3.,  4.,  5.],\n",
              "         [ 6.,  7.,  8.,  9., 10.]]),\n",
              " torch.Size([2, 5]))"
            ]
          },
          "metadata": {},
          "execution_count": 71
        }
      ]
    },
    {
      "cell_type": "code",
      "source": [
        "# View = Change the view\n",
        "z =  x.view(1, 10)\n",
        "z, z.shape"
      ],
      "metadata": {
        "colab": {
          "base_uri": "https://localhost:8080/"
        },
        "id": "SNqoFfXw403H",
        "outputId": "9318bdaf-7e0e-405b-b66f-0735d8a7f576"
      },
      "execution_count": null,
      "outputs": [
        {
          "output_type": "execute_result",
          "data": {
            "text/plain": [
              "(tensor([[ 1.,  2.,  3.,  4.,  5.,  6.,  7.,  8.,  9., 10.]]),\n",
              " torch.Size([1, 10]))"
            ]
          },
          "metadata": {},
          "execution_count": 72
        }
      ]
    },
    {
      "cell_type": "code",
      "source": [
        "# changing z changes x\n",
        "# because a view of a tensor shares the same memory as original input\n",
        "\n",
        "z[ :, 0] = 5 # need to have a space before :\n",
        "z, x"
      ],
      "metadata": {
        "colab": {
          "base_uri": "https://localhost:8080/"
        },
        "id": "AS0wH-TF45Do",
        "outputId": "5a9a9f26-cd0e-4ead-cbbb-cd15fd37cc96"
      },
      "execution_count": null,
      "outputs": [
        {
          "output_type": "execute_result",
          "data": {
            "text/plain": [
              "(tensor([[ 5.,  2.,  3.,  4.,  5.,  6.,  7.,  8.,  9., 10.]]),\n",
              " tensor([ 5.,  2.,  3.,  4.,  5.,  6.,  7.,  8.,  9., 10.]))"
            ]
          },
          "metadata": {},
          "execution_count": 73
        }
      ]
    },
    {
      "cell_type": "code",
      "source": [
        "# Stack tensor on top of each other\n",
        "x_stacked = torch.stack([x, x, x, x], dim = 0 ) # difoult dimention also 0\n",
        "x_stacked"
      ],
      "metadata": {
        "colab": {
          "base_uri": "https://localhost:8080/"
        },
        "id": "PMzsat8u47uA",
        "outputId": "f38b2c9f-e53d-4c4c-8360-50bac12f49e5"
      },
      "execution_count": null,
      "outputs": [
        {
          "output_type": "execute_result",
          "data": {
            "text/plain": [
              "tensor([[ 5.,  2.,  3.,  4.,  5.,  6.,  7.,  8.,  9., 10.],\n",
              "        [ 5.,  2.,  3.,  4.,  5.,  6.,  7.,  8.,  9., 10.],\n",
              "        [ 5.,  2.,  3.,  4.,  5.,  6.,  7.,  8.,  9., 10.],\n",
              "        [ 5.,  2.,  3.,  4.,  5.,  6.,  7.,  8.,  9., 10.]])"
            ]
          },
          "metadata": {},
          "execution_count": 74
        }
      ]
    },
    {
      "cell_type": "code",
      "source": [
        "x_stacked = torch.stack([x, x, x, x], dim = 1 ) # can't have more than 1 dimention for this\n",
        "x_stacked"
      ],
      "metadata": {
        "colab": {
          "base_uri": "https://localhost:8080/"
        },
        "id": "EwJ1g40l5RqZ",
        "outputId": "304eeac7-9cfa-4832-9c81-c9db0811ca19"
      },
      "execution_count": null,
      "outputs": [
        {
          "output_type": "execute_result",
          "data": {
            "text/plain": [
              "tensor([[ 5.,  5.,  5.,  5.],\n",
              "        [ 2.,  2.,  2.,  2.],\n",
              "        [ 3.,  3.,  3.,  3.],\n",
              "        [ 4.,  4.,  4.,  4.],\n",
              "        [ 5.,  5.,  5.,  5.],\n",
              "        [ 6.,  6.,  6.,  6.],\n",
              "        [ 7.,  7.,  7.,  7.],\n",
              "        [ 8.,  8.,  8.,  8.],\n",
              "        [ 9.,  9.,  9.,  9.],\n",
              "        [10., 10., 10., 10.]])"
            ]
          },
          "metadata": {},
          "execution_count": 75
        }
      ]
    },
    {
      "cell_type": "code",
      "source": [
        "# torch.squeeze() - removes all single dimensions from a target tensor\n",
        "x_reshaped = torch.rand(1, 9)\n",
        "print(f\"Tensor : {x_reshaped}\")\n",
        "print(f\"Tensor Shape : {x_reshaped.shape}\")\n",
        "\n",
        "# removing extra dimentions from x_reshaped\n",
        "x_squeezed = x_reshaped.squeeze()\n",
        "print(f\"\\nNew Tensor : {x_squeezed}\")\n",
        "print(f\"New Tensor Shape : {x_squeezed.shape}\")\n"
      ],
      "metadata": {
        "colab": {
          "base_uri": "https://localhost:8080/"
        },
        "id": "oKE3e3HP5Ws5",
        "outputId": "e8c7e27a-4581-41f6-ff2b-fa1c99f98f08"
      },
      "execution_count": null,
      "outputs": [
        {
          "output_type": "stream",
          "name": "stdout",
          "text": [
            "Tensor : tensor([[0.8121, 0.9838, 0.1482, 0.7255, 0.3465, 0.0870, 0.0199, 0.2182, 0.7257]])\n",
            "Tensor Shape : torch.Size([1, 9])\n",
            "\n",
            "New Tensor : tensor([0.8121, 0.9838, 0.1482, 0.7255, 0.3465, 0.0870, 0.0199, 0.2182, 0.7257])\n",
            "New Tensor Shape : torch.Size([9])\n"
          ]
        }
      ]
    },
    {
      "cell_type": "code",
      "source": [
        "# Torch.unsqueezed() - adds a single dimension to a target tensor at a specific dim\n",
        "print(f\"Previous Target : {x_squeezed}\")\n",
        "print(f\"Previous Shape : {x_squeezed.shape}\")\n",
        "\n",
        "# Add an extra dim with unsqueeze\n",
        "x_unsqueezed = x_squeezed.unsqueeze(dim =  0)\n",
        "print(f\"\\nNew Tensor : {x_unsqueezed}\")\n",
        "print(f\"New Tensor Shape : {x_unsqueezed.shape}\")\n",
        "\n",
        "\n",
        "# dim 1\n",
        "x_unsqueezed = x_squeezed.unsqueeze(dim =  1)\n",
        "print(f\"\\nNew Tensor : {x_unsqueezed}\")\n",
        "print(f\"New Tensor Shape : {x_unsqueezed.shape}\")\n"
      ],
      "metadata": {
        "colab": {
          "base_uri": "https://localhost:8080/"
        },
        "id": "5PTpEkonOeRf",
        "outputId": "c5a725d2-4522-43ef-aefc-57fe6ac1868b"
      },
      "execution_count": null,
      "outputs": [
        {
          "output_type": "stream",
          "name": "stdout",
          "text": [
            "Previous Target : tensor([0.8121, 0.9838, 0.1482, 0.7255, 0.3465, 0.0870, 0.0199, 0.2182, 0.7257])\n",
            "Previous Shape : torch.Size([9])\n",
            "\n",
            "New Tensor : tensor([[0.8121, 0.9838, 0.1482, 0.7255, 0.3465, 0.0870, 0.0199, 0.2182, 0.7257]])\n",
            "New Tensor Shape : torch.Size([1, 9])\n",
            "\n",
            "New Tensor : tensor([[0.8121],\n",
            "        [0.9838],\n",
            "        [0.1482],\n",
            "        [0.7255],\n",
            "        [0.3465],\n",
            "        [0.0870],\n",
            "        [0.0199],\n",
            "        [0.2182],\n",
            "        [0.7257]])\n",
            "New Tensor Shape : torch.Size([9, 1])\n"
          ]
        }
      ]
    },
    {
      "cell_type": "code",
      "source": [
        "# Torch.permute - rearange the target tensor [permute is also a view]\n",
        "x_original = torch.rand(224, 224, 3) # (height, width, color_channels)\n",
        "\n",
        "# Permute the original tensor [ rearage the dim order ]\n",
        "x_permuted = x_original.permute(2, 0, 1)\n",
        "print(f\"\\nPrevious Shape : {x_original.shape}\")\n",
        "print(f\"New Shape      : {x_permuted.shape} \")  # [Color_channels, heigth, width]\n"
      ],
      "metadata": {
        "colab": {
          "base_uri": "https://localhost:8080/"
        },
        "id": "Knn1bQgfOlyX",
        "outputId": "a994aa60-0365-4cb3-a87b-9ecd56394a48"
      },
      "execution_count": null,
      "outputs": [
        {
          "output_type": "stream",
          "name": "stdout",
          "text": [
            "\n",
            "Previous Shape : torch.Size([224, 224, 3])\n",
            "New Shape      : torch.Size([3, 224, 224]) \n"
          ]
        }
      ]
    },
    {
      "cell_type": "markdown",
      "source": [
        "If you change one of tensors both of them will change because they are view\n",
        "\n",
        "**permutated also a view**"
      ],
      "metadata": {
        "id": "Fx37cTeQcTMY"
      }
    },
    {
      "cell_type": "code",
      "source": [
        "x_original[0, 0, 0] = 22222\n",
        "x_original[0, 0, 0]"
      ],
      "metadata": {
        "colab": {
          "base_uri": "https://localhost:8080/"
        },
        "id": "jOTKCW9IO2IO",
        "outputId": "ce79211d-79dc-47e2-9033-f93fe2396386"
      },
      "execution_count": null,
      "outputs": [
        {
          "output_type": "execute_result",
          "data": {
            "text/plain": [
              "tensor(22222.)"
            ]
          },
          "metadata": {},
          "execution_count": 79
        }
      ]
    },
    {
      "cell_type": "code",
      "source": [
        "x_permuted[0, 0, 0]"
      ],
      "metadata": {
        "colab": {
          "base_uri": "https://localhost:8080/"
        },
        "id": "W0o31WuVb7KI",
        "outputId": "0297138f-8613-4cfd-9f39-7b86185a0c22"
      },
      "execution_count": null,
      "outputs": [
        {
          "output_type": "execute_result",
          "data": {
            "text/plain": [
              "tensor(22222.)"
            ]
          },
          "metadata": {},
          "execution_count": 80
        }
      ]
    },
    {
      "cell_type": "markdown",
      "source": [
        "#Indexing ( selecting data from tensors )"
      ],
      "metadata": {
        "id": "4lBSpOC49bG0"
      }
    },
    {
      "cell_type": "code",
      "source": [
        "# create a tensor\n",
        "import torch\n",
        "x = torch.arange(1 , 10).reshape(1, 3, 3)\n",
        "x, x.shape"
      ],
      "metadata": {
        "id": "vG0e8G-XcHmX",
        "colab": {
          "base_uri": "https://localhost:8080/"
        },
        "outputId": "5022742c-83a8-4619-a2dc-1615a274f068"
      },
      "execution_count": null,
      "outputs": [
        {
          "output_type": "execute_result",
          "data": {
            "text/plain": [
              "(tensor([[[1, 2, 3],\n",
              "          [4, 5, 6],\n",
              "          [7, 8, 9]]]),\n",
              " torch.Size([1, 3, 3]))"
            ]
          },
          "metadata": {},
          "execution_count": 81
        }
      ]
    },
    {
      "cell_type": "code",
      "source": [
        "Y = torch.arange(1, 28).reshape(3, 3, 3)\n",
        "Y"
      ],
      "metadata": {
        "colab": {
          "base_uri": "https://localhost:8080/"
        },
        "id": "bFE25BHFCpMB",
        "outputId": "87d25e71-99d7-4927-a696-d093afe78b06"
      },
      "execution_count": null,
      "outputs": [
        {
          "output_type": "execute_result",
          "data": {
            "text/plain": [
              "tensor([[[ 1,  2,  3],\n",
              "         [ 4,  5,  6],\n",
              "         [ 7,  8,  9]],\n",
              "\n",
              "        [[10, 11, 12],\n",
              "         [13, 14, 15],\n",
              "         [16, 17, 18]],\n",
              "\n",
              "        [[19, 20, 21],\n",
              "         [22, 23, 24],\n",
              "         [25, 26, 27]]])"
            ]
          },
          "metadata": {},
          "execution_count": 82
        }
      ]
    },
    {
      "cell_type": "code",
      "source": [
        "x.ndim"
      ],
      "metadata": {
        "colab": {
          "base_uri": "https://localhost:8080/"
        },
        "id": "qswckBw6BRuG",
        "outputId": "b87e7f2d-7961-4827-b7a4-03a0b4f702dd"
      },
      "execution_count": null,
      "outputs": [
        {
          "output_type": "execute_result",
          "data": {
            "text/plain": [
              "3"
            ]
          },
          "metadata": {},
          "execution_count": 83
        }
      ]
    },
    {
      "cell_type": "code",
      "source": [
        "# index on our new tensor\n",
        "x[0]"
      ],
      "metadata": {
        "colab": {
          "base_uri": "https://localhost:8080/"
        },
        "id": "0LPUeZPp-Sue",
        "outputId": "5ee70e4e-424d-4d8a-bdc5-5b22ea83dc08"
      },
      "execution_count": null,
      "outputs": [
        {
          "output_type": "execute_result",
          "data": {
            "text/plain": [
              "tensor([[1, 2, 3],\n",
              "        [4, 5, 6],\n",
              "        [7, 8, 9]])"
            ]
          },
          "metadata": {},
          "execution_count": 84
        }
      ]
    },
    {
      "cell_type": "code",
      "source": [
        "# index on middle bracket [ dim = 1 ]\n",
        "x[0][0],x[0, 0] # both ways can use"
      ],
      "metadata": {
        "colab": {
          "base_uri": "https://localhost:8080/"
        },
        "id": "F0_oyqDG_AoJ",
        "outputId": "a002ec68-2f18-4770-c2dd-2ed1840c7907"
      },
      "execution_count": null,
      "outputs": [
        {
          "output_type": "execute_result",
          "data": {
            "text/plain": [
              "(tensor([1, 2, 3]), tensor([1, 2, 3]))"
            ]
          },
          "metadata": {},
          "execution_count": 85
        }
      ]
    },
    {
      "cell_type": "code",
      "source": [
        "#\n",
        "x[0][0][0]"
      ],
      "metadata": {
        "colab": {
          "base_uri": "https://localhost:8080/"
        },
        "id": "j7bXYMf3_DKR",
        "outputId": "8d284b78-3702-4a3a-9129-86d8301de854"
      },
      "execution_count": null,
      "outputs": [
        {
          "output_type": "execute_result",
          "data": {
            "text/plain": [
              "tensor(1)"
            ]
          },
          "metadata": {},
          "execution_count": 86
        }
      ]
    },
    {
      "cell_type": "code",
      "source": [
        "#to get the 9 and 3,6,9\n",
        "x[0, 2, 2],x[:,:,2]\n"
      ],
      "metadata": {
        "colab": {
          "base_uri": "https://localhost:8080/"
        },
        "id": "slxI2xA7_Gul",
        "outputId": "62c73065-c306-49e4-c826-8e3c5a5c4b74"
      },
      "execution_count": null,
      "outputs": [
        {
          "output_type": "execute_result",
          "data": {
            "text/plain": [
              "(tensor(9), tensor([[3, 6, 9]]))"
            ]
          },
          "metadata": {},
          "execution_count": 87
        }
      ]
    },
    {
      "cell_type": "code",
      "source": [
        "# select all from target dimention\n",
        "x[:, 0]"
      ],
      "metadata": {
        "colab": {
          "base_uri": "https://localhost:8080/"
        },
        "id": "buzSVsAH_ZpF",
        "outputId": "601864cb-11f1-4f24-fe84-5c3271b85c8a"
      },
      "execution_count": null,
      "outputs": [
        {
          "output_type": "execute_result",
          "data": {
            "text/plain": [
              "tensor([[1, 2, 3]])"
            ]
          },
          "metadata": {},
          "execution_count": 88
        }
      ]
    },
    {
      "cell_type": "code",
      "source": [
        "x[:, :, 1]"
      ],
      "metadata": {
        "colab": {
          "base_uri": "https://localhost:8080/"
        },
        "id": "7WFmUATfALRQ",
        "outputId": "f4b7dd80-9c7d-407c-aa5c-bdd11404ed3e"
      },
      "execution_count": null,
      "outputs": [
        {
          "output_type": "execute_result",
          "data": {
            "text/plain": [
              "tensor([[2, 5, 8]])"
            ]
          },
          "metadata": {},
          "execution_count": 89
        }
      ]
    },
    {
      "cell_type": "code",
      "source": [
        "x[:, :, 0]"
      ],
      "metadata": {
        "colab": {
          "base_uri": "https://localhost:8080/"
        },
        "id": "gbD8qXMDBCZd",
        "outputId": "d752d014-0d40-490e-8393-8e1fc3f63a02"
      },
      "execution_count": null,
      "outputs": [
        {
          "output_type": "execute_result",
          "data": {
            "text/plain": [
              "tensor([[1, 4, 7]])"
            ]
          },
          "metadata": {},
          "execution_count": 90
        }
      ]
    },
    {
      "cell_type": "code",
      "source": [
        "x[:, :, 2]"
      ],
      "metadata": {
        "colab": {
          "base_uri": "https://localhost:8080/"
        },
        "id": "Cvw5fD6eBFSF",
        "outputId": "6a4803ac-ad97-48f3-eef9-baad4b826a82"
      },
      "execution_count": null,
      "outputs": [
        {
          "output_type": "execute_result",
          "data": {
            "text/plain": [
              "tensor([[3, 6, 9]])"
            ]
          },
          "metadata": {},
          "execution_count": 91
        }
      ]
    },
    {
      "cell_type": "code",
      "source": [
        "# get all values of 0 dim but only 1 index value of 1st and 2nd dim\n",
        "x[:, 1, 1]"
      ],
      "metadata": {
        "colab": {
          "base_uri": "https://localhost:8080/"
        },
        "id": "CJ0qzdiSBKIl",
        "outputId": "3ef67487-5ed0-444e-8579-f3dffa430124"
      },
      "execution_count": null,
      "outputs": [
        {
          "output_type": "execute_result",
          "data": {
            "text/plain": [
              "tensor([5])"
            ]
          },
          "metadata": {},
          "execution_count": 92
        }
      ]
    },
    {
      "cell_type": "code",
      "source": [
        "x[0, 1, 1]"
      ],
      "metadata": {
        "colab": {
          "base_uri": "https://localhost:8080/"
        },
        "id": "AV4Vsj-ZDifl",
        "outputId": "b583e85f-5016-46a7-f4bc-32fcb30c9811"
      },
      "execution_count": null,
      "outputs": [
        {
          "output_type": "execute_result",
          "data": {
            "text/plain": [
              "tensor(5)"
            ]
          },
          "metadata": {},
          "execution_count": 93
        }
      ]
    },
    {
      "cell_type": "code",
      "source": [
        "x[0, 0, :]"
      ],
      "metadata": {
        "colab": {
          "base_uri": "https://localhost:8080/"
        },
        "id": "ystwLCsiEyS6",
        "outputId": "551a40b7-2d12-4138-a84e-68f95c38e209"
      },
      "execution_count": null,
      "outputs": [
        {
          "output_type": "execute_result",
          "data": {
            "text/plain": [
              "tensor([1, 2, 3])"
            ]
          },
          "metadata": {},
          "execution_count": 94
        }
      ]
    },
    {
      "cell_type": "markdown",
      "source": [
        "# PyTorch tensor & Numpy\n",
        "PyTorch tensor -> NumPy-> torch.Tensor.numpy()\n"
      ],
      "metadata": {
        "id": "YcsLHDlLEDz_"
      }
    },
    {
      "cell_type": "code",
      "source": [
        "import torch\n",
        "import numpy as np\n",
        "\n",
        "array = np.arange(1.0, 8.0)\n",
        "tensor = torch.from_numpy(array) # !Warning : when converting from numpy to pythorch, pytoch deflect numpy's dtype wich is float64\n",
        "array"
      ],
      "metadata": {
        "id": "dHSYuK1RFAF0",
        "colab": {
          "base_uri": "https://localhost:8080/"
        },
        "outputId": "5a4a547a-ea1f-4175-8f59-223b3bb8f2e0"
      },
      "execution_count": null,
      "outputs": [
        {
          "output_type": "execute_result",
          "data": {
            "text/plain": [
              "array([1., 2., 3., 4., 5., 6., 7.])"
            ]
          },
          "metadata": {},
          "execution_count": 95
        }
      ]
    },
    {
      "cell_type": "code",
      "source": [
        "tensor"
      ],
      "metadata": {
        "colab": {
          "base_uri": "https://localhost:8080/"
        },
        "id": "RzICV3ZzFwIC",
        "outputId": "2cbb41aa-9e2a-48fc-ff8a-9348fcfb9739"
      },
      "execution_count": null,
      "outputs": [
        {
          "output_type": "execute_result",
          "data": {
            "text/plain": [
              "tensor([1., 2., 3., 4., 5., 6., 7.], dtype=torch.float64)"
            ]
          },
          "metadata": {},
          "execution_count": 96
        }
      ]
    },
    {
      "cell_type": "code",
      "source": [
        "tensor.dtype"
      ],
      "metadata": {
        "colab": {
          "base_uri": "https://localhost:8080/"
        },
        "id": "uMEe6PRzGvuU",
        "outputId": "8b17fa08-386e-43e9-ec45-fd59ca3dd22a"
      },
      "execution_count": null,
      "outputs": [
        {
          "output_type": "execute_result",
          "data": {
            "text/plain": [
              "torch.float64"
            ]
          },
          "metadata": {},
          "execution_count": 97
        }
      ]
    },
    {
      "cell_type": "code",
      "source": [
        "# Change the value of the array\n",
        "array = array + 1\n",
        "array , tensor"
      ],
      "metadata": {
        "id": "RXYL3l8LG4UK",
        "colab": {
          "base_uri": "https://localhost:8080/"
        },
        "outputId": "2d028321-4f4d-44a9-8d5e-bb6f8b7917a7"
      },
      "execution_count": null,
      "outputs": [
        {
          "output_type": "execute_result",
          "data": {
            "text/plain": [
              "(array([2., 3., 4., 5., 6., 7., 8.]),\n",
              " tensor([1., 2., 3., 4., 5., 6., 7.], dtype=torch.float64))"
            ]
          },
          "metadata": {},
          "execution_count": 98
        }
      ]
    },
    {
      "cell_type": "code",
      "source": [
        "# Tensor to numpy array\n",
        "tensor = torch.ones(7)\n",
        "numpy_tensor = tensor.numpy()\n",
        "\n"
      ],
      "metadata": {
        "id": "t0_DZuIZmqH5"
      },
      "execution_count": null,
      "outputs": []
    }
  ]
}