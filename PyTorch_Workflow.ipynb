{
  "nbformat": 4,
  "nbformat_minor": 0,
  "metadata": {
    "colab": {
      "provenance": [],
      "authorship_tag": "ABX9TyNMA8WDnRFs2o05Xd3y+EMa",
      "include_colab_link": true
    },
    "kernelspec": {
      "name": "python3",
      "display_name": "Python 3"
    },
    "language_info": {
      "name": "python"
    }
  },
  "cells": [
    {
      "cell_type": "markdown",
      "metadata": {
        "id": "view-in-github",
        "colab_type": "text"
      },
      "source": [
        "<a href=\"https://colab.research.google.com/github/DinalAdithya/Learning-PYTorch/blob/main/PyTorch_Workflow.ipynb\" target=\"_parent\"><img src=\"https://colab.research.google.com/assets/colab-badge.svg\" alt=\"Open In Colab\"/></a>"
      ]
    },
    {
      "cell_type": "code",
      "execution_count": 21,
      "metadata": {
        "id": "IcGSObed4yPr"
      },
      "outputs": [],
      "source": [
        "# PyTorch Workflow\n",
        "topics = {1: \"Data (prepare and load)\",\n",
        "          2: \"Build model\",\n",
        "          3: \"Fitting the model to data (tranning)\",\n",
        "          4: \"Making prediction and evaluvating model(inference)\",\n",
        "          5: \"Saving and loading model\",\n",
        "          6: \"Putting it all together\"}\n"
      ]
    },
    {
      "cell_type": "code",
      "source": [
        "import torch\n",
        "from torch import nn # nn contains all of pytorch's building blocks for neural networks\n",
        "import numpy as np\n",
        "import matplotlib.pyplot as plt\n",
        "\n",
        "torch.__version__"
      ],
      "metadata": {
        "colab": {
          "base_uri": "https://localhost:8080/",
          "height": 36
        },
        "id": "Dpdh5rBxO2aF",
        "outputId": "c6b56d28-078a-43c2-d242-7692a6c255a9"
      },
      "execution_count": 22,
      "outputs": [
        {
          "output_type": "execute_result",
          "data": {
            "text/plain": [
              "'2.1.0+cu121'"
            ],
            "application/vnd.google.colaboratory.intrinsic+json": {
              "type": "string"
            }
          },
          "metadata": {},
          "execution_count": 22
        }
      ]
    },
    {
      "cell_type": "markdown",
      "source": [
        "#Data (prepare and load)\n",
        "\n",
        "Machine learning inlude 2 parts\n",
        "\n",
        "1.   Get data into a numerical representation.\n",
        "2.   Buil a model to learn patterns in taht numerical representation\n",
        "\n"
      ],
      "metadata": {
        "id": "Jgk41udVR4y1"
      }
    },
    {
      "cell_type": "code",
      "source": [
        "# create known parameters\n",
        "weight = 0.7\n",
        "bias   = 0.3\n",
        "\n",
        "# Create\n",
        "start = 0\n",
        "end = 1\n",
        "step = 0.02\n",
        "x = torch.arange(start, end, step).unsqueeze( dim=1 )\n",
        "y = weight * x + bias\n",
        "\n",
        "x[:10], y[:10]"
      ],
      "metadata": {
        "colab": {
          "base_uri": "https://localhost:8080/"
        },
        "id": "VsYLvKqvRoqq",
        "outputId": "c3d5e340-c6f4-49bb-9c7c-d59c91d1b73b"
      },
      "execution_count": 23,
      "outputs": [
        {
          "output_type": "execute_result",
          "data": {
            "text/plain": [
              "(tensor([[0.0000],\n",
              "         [0.0200],\n",
              "         [0.0400],\n",
              "         [0.0600],\n",
              "         [0.0800],\n",
              "         [0.1000],\n",
              "         [0.1200],\n",
              "         [0.1400],\n",
              "         [0.1600],\n",
              "         [0.1800]]),\n",
              " tensor([[0.3000],\n",
              "         [0.3140],\n",
              "         [0.3280],\n",
              "         [0.3420],\n",
              "         [0.3560],\n",
              "         [0.3700],\n",
              "         [0.3840],\n",
              "         [0.3980],\n",
              "         [0.4120],\n",
              "         [0.4260]]))"
            ]
          },
          "metadata": {},
          "execution_count": 23
        }
      ]
    },
    {
      "cell_type": "code",
      "source": [
        "len(x),len(y)"
      ],
      "metadata": {
        "colab": {
          "base_uri": "https://localhost:8080/"
        },
        "id": "hK2F8ogyV0js",
        "outputId": "db1dce8f-a9ba-41d9-88f2-ad8fa2e0bf03"
      },
      "execution_count": 24,
      "outputs": [
        {
          "output_type": "execute_result",
          "data": {
            "text/plain": [
              "(50, 50)"
            ]
          },
          "metadata": {},
          "execution_count": 24
        }
      ]
    },
    {
      "cell_type": "markdown",
      "source": [
        "## Spliting data into traning and test sets (one of the most importent consept)"
      ],
      "metadata": {
        "id": "3Kv64KvH89BJ"
      }
    },
    {
      "cell_type": "code",
      "source": [
        "# Create a traning/test split\n",
        "\n",
        "train_split = int(0.8 *len(x))\n",
        "train_split"
      ],
      "metadata": {
        "id": "TguJoXWdV3Jm",
        "colab": {
          "base_uri": "https://localhost:8080/"
        },
        "outputId": "3effa6d9-8919-43d3-d5f3-1dc83ac2d6c3"
      },
      "execution_count": 25,
      "outputs": [
        {
          "output_type": "execute_result",
          "data": {
            "text/plain": [
              "40"
            ]
          },
          "metadata": {},
          "execution_count": 25
        }
      ]
    },
    {
      "cell_type": "code",
      "source": [
        "x_train, y_train = x[:train_split], y[:train_split]\n",
        "x_test, y_test = x[train_split:], y[train_split:]\n",
        "\n",
        "len(x_train), len(y_train), len(x_test), len(y_test)"
      ],
      "metadata": {
        "colab": {
          "base_uri": "https://localhost:8080/"
        },
        "id": "bHErMUMG_Oly",
        "outputId": "499c45d2-21a2-4a74-8019-f969d9ad3bc1"
      },
      "execution_count": 26,
      "outputs": [
        {
          "output_type": "execute_result",
          "data": {
            "text/plain": [
              "(40, 40, 10, 10)"
            ]
          },
          "metadata": {},
          "execution_count": 26
        }
      ]
    },
    {
      "cell_type": "markdown",
      "source": [
        "### Visualize our data"
      ],
      "metadata": {
        "id": "Y8Y-HCOIB1WZ"
      }
    },
    {
      "cell_type": "code",
      "source": [
        "def plot_predictions(train_data = x_train,\n",
        "                     train_labels = y_train,\n",
        "                     test_data = x_test,\n",
        "                     test_labels = y_test,\n",
        "                     prediction = None)\n",
        "\n",
        "# if we didnt use \"\"\" \"\"\" this below there will be a error\n",
        "# because of def indentation ( : )\n",
        "\n",
        "\"\"\"\n",
        "plots training data, test data and compares predictions.\n",
        "\n",
        "\"\"\"\n",
        "\n",
        "plt.figure(figsize=(10, 7))\n",
        "\n",
        "# Plot training data in blue\n",
        "plt.scatter(train_data, train_labels, c=\"b\", s= 4, label=\"Training data\")\n",
        "\n",
        "#plot test data in yellow\n",
        "plt.scatter(train_data, train_labels, c = \"y\", s = 4, label=\"Training data\")\n",
        "\n",
        "# Are there prediction?\n",
        "if prediction is not None:\n",
        "\n",
        "  # Plot the predictions if they exist\n",
        "  plt.scatter(test_data, test_labels, c=\"r\", s = 4, label = \"Predictions\")\n",
        "\n",
        "# show the legend\n",
        "plt.legend( prop = {\" size : 14\"} )\n",
        "\n"
      ],
      "metadata": {
        "colab": {
          "base_uri": "https://localhost:8080/",
          "height": 145
        },
        "id": "P6eMeVoOB7ho",
        "outputId": "661d2940-35a3-4271-aa58-d2f3d14fa4b3"
      },
      "execution_count": 29,
      "outputs": [
        {
          "output_type": "error",
          "ename": "IndentationError",
          "evalue": "ignored",
          "traceback": [
            "\u001b[0;36m  File \u001b[0;32m\"<ipython-input-29-35661dcaf50b>\"\u001b[0;36m, line \u001b[0;32m10\u001b[0m\n\u001b[0;31m    \"\"\"\u001b[0m\n\u001b[0m    ^\u001b[0m\n\u001b[0;31mIndentationError\u001b[0m\u001b[0;31m:\u001b[0m expected an indented block after function definition on line 1\n"
          ]
        }
      ]
    },
    {
      "cell_type": "code",
      "source": [],
      "metadata": {
        "id": "KeYduoPKHovb"
      },
      "execution_count": null,
      "outputs": []
    }
  ]
}