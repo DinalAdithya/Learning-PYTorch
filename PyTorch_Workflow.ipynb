{
  "nbformat": 4,
  "nbformat_minor": 0,
  "metadata": {
    "colab": {
      "provenance": [],
      "gpuType": "T4",
      "authorship_tag": "ABX9TyOotE16V4UpKnuO3AfInJgz",
      "include_colab_link": true
    },
    "kernelspec": {
      "name": "python3",
      "display_name": "Python 3"
    },
    "language_info": {
      "name": "python"
    },
    "accelerator": "GPU"
  },
  "cells": [
    {
      "cell_type": "markdown",
      "metadata": {
        "id": "view-in-github",
        "colab_type": "text"
      },
      "source": [
        "<a href=\"https://colab.research.google.com/github/DinalAdithya/Learning-PYTorch/blob/main/PyTorch_Workflow.ipynb\" target=\"_parent\"><img src=\"https://colab.research.google.com/assets/colab-badge.svg\" alt=\"Open In Colab\"/></a>"
      ]
    },
    {
      "cell_type": "code",
      "execution_count": 1,
      "metadata": {
        "id": "IcGSObed4yPr"
      },
      "outputs": [],
      "source": [
        "# PyTorch Workflow\n",
        "topics = {1: \"Data (prepare and load)\",\n",
        "          2: \"Build model\",\n",
        "          3: \"Fitting the model to data (tranning)\",\n",
        "          4: \"Making prediction and evaluvating model(inference)\",\n",
        "          5: \"Saving and loading model\",\n",
        "          6: \"Putting it all together\"}\n"
      ]
    },
    {
      "cell_type": "code",
      "source": [
        "import torch\n",
        "from torch import nn # nn contains all of pytorch's building blocks for neural networks\n",
        "import numpy as np\n",
        "import matplotlib.pyplot as plt\n",
        "\n",
        "torch.__version__"
      ],
      "metadata": {
        "colab": {
          "base_uri": "https://localhost:8080/",
          "height": 35
        },
        "id": "Dpdh5rBxO2aF",
        "outputId": "ed41d743-1c65-4e00-8b5b-237df602ea5b"
      },
      "execution_count": 2,
      "outputs": [
        {
          "output_type": "execute_result",
          "data": {
            "text/plain": [
              "'2.1.0+cu121'"
            ],
            "application/vnd.google.colaboratory.intrinsic+json": {
              "type": "string"
            }
          },
          "metadata": {},
          "execution_count": 2
        }
      ]
    },
    {
      "cell_type": "markdown",
      "source": [
        "#Data (prepare and load)\n",
        "\n",
        "Machine learning inlude 2 parts\n",
        "\n",
        "1.   Get data into a numerical representation.\n",
        "2.   Buil a model to learn patterns in taht numerical representation\n",
        "\n"
      ],
      "metadata": {
        "id": "Jgk41udVR4y1"
      }
    },
    {
      "cell_type": "code",
      "source": [
        "# create known parameters\n",
        "weight = 0.7\n",
        "bias   = 0.3\n",
        "\n",
        "# Create\n",
        "start = 0\n",
        "end = 1\n",
        "step = 0.02\n",
        "x = torch.arange(start, end, step).unsqueeze( dim=1 )\n",
        "y = weight * x + bias\n",
        "\n",
        "x[:10], y[:10]"
      ],
      "metadata": {
        "colab": {
          "base_uri": "https://localhost:8080/"
        },
        "id": "VsYLvKqvRoqq",
        "outputId": "d01076be-fdfb-4185-c9c3-d0f5e6b24d82"
      },
      "execution_count": 3,
      "outputs": [
        {
          "output_type": "execute_result",
          "data": {
            "text/plain": [
              "(tensor([[0.0000],\n",
              "         [0.0200],\n",
              "         [0.0400],\n",
              "         [0.0600],\n",
              "         [0.0800],\n",
              "         [0.1000],\n",
              "         [0.1200],\n",
              "         [0.1400],\n",
              "         [0.1600],\n",
              "         [0.1800]]),\n",
              " tensor([[0.3000],\n",
              "         [0.3140],\n",
              "         [0.3280],\n",
              "         [0.3420],\n",
              "         [0.3560],\n",
              "         [0.3700],\n",
              "         [0.3840],\n",
              "         [0.3980],\n",
              "         [0.4120],\n",
              "         [0.4260]]))"
            ]
          },
          "metadata": {},
          "execution_count": 3
        }
      ]
    },
    {
      "cell_type": "code",
      "source": [
        "len(x),len(y)"
      ],
      "metadata": {
        "colab": {
          "base_uri": "https://localhost:8080/"
        },
        "id": "hK2F8ogyV0js",
        "outputId": "576d9b2f-6108-45fa-c2ba-5bd7a9ceeee3"
      },
      "execution_count": 4,
      "outputs": [
        {
          "output_type": "execute_result",
          "data": {
            "text/plain": [
              "(50, 50)"
            ]
          },
          "metadata": {},
          "execution_count": 4
        }
      ]
    },
    {
      "cell_type": "markdown",
      "source": [
        "## Spliting data into traning and test sets (one of the most importent consept)"
      ],
      "metadata": {
        "id": "3Kv64KvH89BJ"
      }
    },
    {
      "cell_type": "code",
      "source": [
        "# Create a traning/test split\n",
        "\n",
        "train_split = int(0.8 *len(x))\n",
        "train_split"
      ],
      "metadata": {
        "id": "TguJoXWdV3Jm",
        "colab": {
          "base_uri": "https://localhost:8080/"
        },
        "outputId": "b947afea-2e53-4457-905b-aba5b5068d40"
      },
      "execution_count": 5,
      "outputs": [
        {
          "output_type": "execute_result",
          "data": {
            "text/plain": [
              "40"
            ]
          },
          "metadata": {},
          "execution_count": 5
        }
      ]
    },
    {
      "cell_type": "code",
      "source": [
        "x_train, y_train = x[:train_split], y[:train_split]\n",
        "x_test, y_test = x[train_split:], y[train_split:]\n",
        "\n",
        "len(x_train), len(y_train), len(x_test), len(y_test)"
      ],
      "metadata": {
        "colab": {
          "base_uri": "https://localhost:8080/"
        },
        "id": "bHErMUMG_Oly",
        "outputId": "eebaf5a3-4a5b-4d16-eb60-319d6e4da6e4"
      },
      "execution_count": 6,
      "outputs": [
        {
          "output_type": "execute_result",
          "data": {
            "text/plain": [
              "(40, 40, 10, 10)"
            ]
          },
          "metadata": {},
          "execution_count": 6
        }
      ]
    },
    {
      "cell_type": "markdown",
      "source": [
        "### Visualize our data"
      ],
      "metadata": {
        "id": "Y8Y-HCOIB1WZ"
      }
    },
    {
      "cell_type": "code",
      "source": [
        "def plot_predictions(train_data = x_train,\n",
        "                     train_labels = y_train,\n",
        "                     test_data = x_test,\n",
        "                     test_labels = y_test,\n",
        "                     prediction = None):\n",
        "  \"\"\"\n",
        "  plots training data, test data and compares predictions.\n",
        "\n",
        "  \"\"\"\n",
        "\n",
        "  plt.figure(figsize=(10, 6))\n",
        "\n",
        "  # Plot training data in blue\n",
        "  plt.scatter(train_data, train_labels, c = \"b\", s= 4, label=\"Training data\")\n",
        "\n",
        "  #plot test data in yellow\n",
        "  plt.scatter(test_data, test_labels, c = \"y\", s = 4, label=\"Training data\")\n",
        "\n",
        "  # Are there prediction?\n",
        "  if prediction is not None:\n",
        "    # Plot the predictions if they exist\n",
        "    plt.scatter(test_data, prediction, c = \"r\", s = 4, label = \"Predictions\")\n",
        "\n",
        "  # show the legend ( Show lables)\n",
        "  plt.legend( prop = {\"size\" : 14} )\n",
        "\n",
        "plot_predictions()"
      ],
      "metadata": {
        "colab": {
          "base_uri": "https://localhost:8080/",
          "height": 458
        },
        "id": "P6eMeVoOB7ho",
        "outputId": "7e0330f0-d6d3-40dd-ed30-0914cb5a626e"
      },
      "execution_count": 7,
      "outputs": [
        {
          "output_type": "display_data",
          "data": {
            "text/plain": [
              "<Figure size 1000x600 with 1 Axes>"
            ],
            "image/png": "[encoded data removed]"
          },
          "metadata": {}
        }
      ]
    },
    {
      "cell_type": "markdown",
      "source": [
        "# Build Model"
      ],
      "metadata": {
        "id": "0aspsQ8ILRym"
      }
    },
    {
      "cell_type": "code",
      "source": [
        "import torch\n",
        "from torch import nn\n",
        "\n",
        "# Create linear regresion model class\n",
        "\n",
        "class LinearRegressionModel(nn.Module):\n",
        "  # allmost everything in pytorch inheret from nn.module\n",
        "\n",
        "  def __init__(self):\n",
        "    super().__init__()\n",
        "\n",
        "    # initialize model parameters\n",
        "    self.weights = nn.Parameter(torch.randn( 1, #start ith random weights(this value wil change as the model learn)\n",
        "                                             requires_grad=True,\n",
        "                                             dtype=torch.float))\n",
        "    self.bias = nn.Parameter(torch.randn( 1,\n",
        "                                          requires_grad=True,\n",
        "                                          dtype=torch.float))\n",
        "\n",
        "  # Forward method to define the computation in the model\n",
        "  def forward(self, x: torch.Tensor) -> torch.Tensor: # <- 'x' is input data\n",
        "    return self.weights * x + self.bias  # this is the linear regression formula\n",
        "\n"
      ],
      "metadata": {
        "id": "z5ylXYGqLNYH"
      },
      "execution_count": 8,
      "outputs": []
    },
    {
      "cell_type": "markdown",
      "source": [
        "# Fitting the model to data"
      ],
      "metadata": {
        "id": "hk9oj5p8223_"
      }
    },
    {
      "cell_type": "code",
      "source": [
        "# Content of the model\n",
        "\n",
        "## create a random seed (becouse these values are random if we didnt use seed every time the values will be diference)\n",
        "torch.manual_seed(42)\n",
        "\n",
        "## create intence of the model ( this is a subclass of nn.module )\n",
        "model_0 = LinearRegressionModel()\n",
        "\n",
        "## check out parameters\n",
        "params = list(model_0.parameters())\n",
        "print(params)\n"
      ],
      "metadata": {
        "colab": {
          "base_uri": "https://localhost:8080/"
        },
        "id": "1p-x0yRD5hL3",
        "outputId": "6c857a4a-9fb7-4991-9aa8-71fc7f55ae43"
      },
      "execution_count": 9,
      "outputs": [
        {
          "output_type": "stream",
          "name": "stdout",
          "text": [
            "[Parameter containing:\n",
            "tensor([0.3367], requires_grad=True), Parameter containing:\n",
            "tensor([0.1288], requires_grad=True)]\n"
          ]
        }
      ]
    },
    {
      "cell_type": "code",
      "source": [
        "# list named parameters\n",
        "model_0.state_dict()"
      ],
      "metadata": {
        "colab": {
          "base_uri": "https://localhost:8080/"
        },
        "id": "_eJZzGQ60cuO",
        "outputId": "b25c31f1-ff99-477b-b914-099abb734d5d"
      },
      "execution_count": 10,
      "outputs": [
        {
          "output_type": "execute_result",
          "data": {
            "text/plain": [
              "OrderedDict([('weights', tensor([0.3367])), ('bias', tensor([0.1288]))])"
            ]
          },
          "metadata": {},
          "execution_count": 10
        }
      ]
    },
    {
      "cell_type": "code",
      "source": [
        "print(f\"Ideal values of weight :\", weight,\"and bias :\", bias)\n",
        "# we need to get the move above random values to as close as these values\n",
        "# most caces we dont know what even is the ideal values are"
      ],
      "metadata": {
        "colab": {
          "base_uri": "https://localhost:8080/"
        },
        "id": "s_0Izk4F052Z",
        "outputId": "9303871b-5835-49ac-fe4b-100a0e36c9ad"
      },
      "execution_count": 11,
      "outputs": [
        {
          "output_type": "stream",
          "name": "stdout",
          "text": [
            "Ideal values of weight : 0.7 and bias : 0.3\n"
          ]
        }
      ]
    },
    {
      "cell_type": "markdown",
      "source": [
        "## Extra\n"
      ],
      "metadata": {
        "id": "MRLdd5rNmlvk"
      }
    },
    {
      "cell_type": "markdown",
      "source": [
        "1. randn use becouse we need random numbers from normal distribution\n",
        "2. if we use rand it will give us uniform distribution we dont use it here\n",
        "3. choise between \"randn\" & \"rand\" depend on the spesicfic requirment of the model\n",
        "\n"
      ],
      "metadata": {
        "id": "5PXI49eRlgsG"
      }
    },
    {
      "cell_type": "code",
      "source": [
        "# with out manual_seed()\n",
        "torch.randn(1) , torch.randn(1) # this is defferent each time"
      ],
      "metadata": {
        "colab": {
          "base_uri": "https://localhost:8080/"
        },
        "id": "CqjJiZN5j3IU",
        "outputId": "9395d219-eed5-46ea-97f4-87cc68d0dba8"
      },
      "execution_count": 12,
      "outputs": [
        {
          "output_type": "execute_result",
          "data": {
            "text/plain": [
              "(tensor([0.2345]), tensor([0.2303]))"
            ]
          },
          "metadata": {},
          "execution_count": 12
        }
      ]
    },
    {
      "cell_type": "code",
      "source": [
        "torch.manual_seed(42)\n",
        "torch.randn(1)"
      ],
      "metadata": {
        "colab": {
          "base_uri": "https://localhost:8080/"
        },
        "id": "EP8Po6ePlzoF",
        "outputId": "64559537-47e8-450f-dd49-ce93866c46c4"
      },
      "execution_count": 13,
      "outputs": [
        {
          "output_type": "execute_result",
          "data": {
            "text/plain": [
              "tensor([0.3367])"
            ]
          },
          "metadata": {},
          "execution_count": 13
        }
      ]
    },
    {
      "cell_type": "code",
      "source": [
        "torch.manual_seed(42) # but this is not different each time its the same\n",
        "torch.randn(1)"
      ],
      "metadata": {
        "colab": {
          "base_uri": "https://localhost:8080/"
        },
        "id": "6Opbyg7DmECM",
        "outputId": "476b9174-ec28-4a0c-933c-11f1476c2dc8"
      },
      "execution_count": 14,
      "outputs": [
        {
          "output_type": "execute_result",
          "data": {
            "text/plain": [
              "tensor([0.3367])"
            ]
          },
          "metadata": {},
          "execution_count": 14
        }
      ]
    },
    {
      "cell_type": "code",
      "source": [
        "torch.manual_seed(40) # acoding to the menual seed number\n",
        "torch.randn(1)"
      ],
      "metadata": {
        "colab": {
          "base_uri": "https://localhost:8080/"
        },
        "id": "inRZkerDmLtN",
        "outputId": "ca4a5532-e27b-4a63-8a5a-a1000a640066"
      },
      "execution_count": 15,
      "outputs": [
        {
          "output_type": "execute_result",
          "data": {
            "text/plain": [
              "tensor([0.9307])"
            ]
          },
          "metadata": {},
          "execution_count": 15
        }
      ]
    },
    {
      "cell_type": "markdown",
      "source": [
        "# Making prediction and evaluvating model\n",
        "\n",
        "\n",
        "1.   using torch.inference_mode() inference mode disables unnessesry thing for the prediction\n",
        "2. we can do the same with torch.no_grad() but mostly use inference_mode()\n",
        "\n"
      ],
      "metadata": {
        "id": "qEHVCFow28_4"
      }
    },
    {
      "cell_type": "code",
      "source": [
        "# make the prediction with model\n",
        "with torch.inference_mode(): # infreence is word for predictions that use in pytorch\n",
        "  y_preds = model_0(x_test)\n",
        "y_preds\n",
        "\n"
      ],
      "metadata": {
        "colab": {
          "base_uri": "https://localhost:8080/"
        },
        "id": "ThROf9cZ27xb",
        "outputId": "8ad135e9-b10d-4caa-80ef-e445cb2575b1"
      },
      "execution_count": 16,
      "outputs": [
        {
          "output_type": "execute_result",
          "data": {
            "text/plain": [
              "tensor([[0.3982],\n",
              "        [0.4049],\n",
              "        [0.4116],\n",
              "        [0.4184],\n",
              "        [0.4251],\n",
              "        [0.4318],\n",
              "        [0.4386],\n",
              "        [0.4453],\n",
              "        [0.4520],\n",
              "        [0.4588]])"
            ]
          },
          "metadata": {},
          "execution_count": 16
        }
      ]
    },
    {
      "cell_type": "code",
      "source": [
        "plot_predictions( prediction = y_preds )"
      ],
      "metadata": {
        "colab": {
          "base_uri": "https://localhost:8080/",
          "height": 458
        },
        "id": "O32f4XfG4qdq",
        "outputId": "20245fff-0639-4419-df4a-ed00b83f88dc"
      },
      "execution_count": 17,
      "outputs": [
        {
          "output_type": "display_data",
          "data": {
            "text/plain": [
              "<Figure size 1000x600 with 1 Axes>"
            ],
            "image/png": "[encoded data removed]"
          },
          "metadata": {}
        }
      ]
    },
    {
      "cell_type": "markdown",
      "source": [
        "## Train Model\n",
        "1. Model should move from **unknown** parameters to **known** parameters\n",
        "\n",
        "2. From poor represntation of the data to better representation\n",
        "\n",
        "\n",
        "*Note: loss less function may call as cost or criterion function*\n",
        "\n",
        "\n",
        "\n",
        "---\n",
        "\n",
        "Things need to be train:\n",
        "\n",
        "***Less function*** :  how worng your out put to ideal output\n",
        "\n",
        "***Optimizer*** : Adjusts the model's parameters to imporve loss function\n",
        "\n",
        "1.   lr(lerning rate) - the lr is a hyper parameter that defines how big/small the optimizer changes the parameters\n",
        "\n",
        "2.   params - model parameter you'd like to optimize [ params = model_0.parameter() ]\n",
        "\n",
        "\n",
        "\n",
        "\n",
        "---\n",
        "\n",
        "\n",
        "\n",
        "For pytorch we need :\n",
        "\n",
        "*   A training loop\n",
        "*   A testing loop\n",
        "\n"
      ],
      "metadata": {
        "id": "8PSnTLHasQ1A"
      }
    },
    {
      "cell_type": "code",
      "source": [
        "# check out models parameters [ parameter is a value model sets it self ]\n",
        "model_0.state_dict()"
      ],
      "metadata": {
        "colab": {
          "base_uri": "https://localhost:8080/"
        },
        "id": "kMG1svPly2GU",
        "outputId": "a6bdb21b-b78d-44e0-99e5-c0378270bdf2"
      },
      "execution_count": 18,
      "outputs": [
        {
          "output_type": "execute_result",
          "data": {
            "text/plain": [
              "OrderedDict([('weights', tensor([0.3367])), ('bias', tensor([0.1288]))])"
            ]
          },
          "metadata": {},
          "execution_count": 18
        }
      ]
    },
    {
      "cell_type": "code",
      "source": [
        "import torch\n",
        "from torch import nn\n",
        "\n",
        "# Setup a loss function\n",
        "loss_fn = nn.L1Loss()\n",
        "\n",
        "# Setup an optimizer\n",
        "optimizer = torch.optim.SGD(params = model_0.parameters(),\n",
        "                            lr = 0.01) # lr = lerning rate -> possibly the most important hyperparameter you can set\n"
      ],
      "metadata": {
        "id": "x626a91X4_AT"
      },
      "execution_count": 19,
      "outputs": []
    },
    {
      "cell_type": "markdown",
      "source": [
        "### Building a training loop (and a testin loop)\n",
        "\n",
        "\n",
        "\n",
        "1. **Loop trough data**\n",
        "2. **Forward pass / Forward propergation** - data moving through function\n",
        "3. **Calculate the loss** - compare forward pass predictions to ground truth labels\n",
        "4. **optimizer zero grad**\n",
        "5. **loss backward / backpropergation** - move backwards through the network to calculate the gradients of each of the parameter of i=our model with respect to the loss\n",
        "6. **optimizer step / gradiant descent** - use the optimizer to adjust our model's parameter to try and improve the loss\n",
        "\n",
        "\n",
        "\n"
      ],
      "metadata": {
        "id": "XUyPS9mv19UN"
      }
    },
    {
      "cell_type": "code",
      "source": [
        "torch.manual_seed(42)\n",
        "\n",
        "# An epoch is one loop through data(Hyper parameter =  because we set it our selves)\n",
        "epochs = 200\n",
        "\n",
        "# Track different values\n",
        "epoch_count = []\n",
        "loss_values = []\n",
        "test_loss_values = []\n",
        "\n",
        "\n",
        "### Training\n",
        "\n",
        "# 1. loop through the data\n",
        "for epoch in range (epochs):\n",
        "  # Set the model to training mode\n",
        "  model_0.train() # Train mode in pytorch set all parameter that requre gradiants to require gradients\n",
        "\n",
        "  # 2. Forward pass\n",
        "  y_pred = model_0(x_train)\n",
        "\n",
        "  # 3. Calculate the loss\n",
        "  loss = loss_fn(y_pred, y_train)\n",
        "\n",
        "  # 4. optimizer zero grad\n",
        "  optimizer.zero_grad()\n",
        "\n",
        "  # 5. loss backward / backpropergation\n",
        "  loss.backward()\n",
        "\n",
        "  # 6. optimizer step / gradiant descent\n",
        "  optimizer.step()\n",
        "\n",
        "  model_0.eval() # Turn off the gradints tracking\n",
        "\n",
        "  ### Testing\n",
        "  model_0.eval()\n",
        "  with torch.inference_mode():\n",
        "    test_pred = model_0(x_test)\n",
        "    test_loss = loss_fn(test_pred, y_test)\n",
        "\n",
        "  # print\n",
        "  if epoch % 10 == 0:\n",
        "    epoch_count.append(epoch)\n",
        "    loss_values.append(loss)\n",
        "    test_loss_values.append(test_loss)\n",
        "\n",
        "    print(f\"Epoch : {epoch} | Loss : {loss} | Test Loss = {test_loss}\")\n",
        "    print(model_0.state_dict())\n"
      ],
      "metadata": {
        "id": "xHJFExIG11ze",
        "colab": {
          "base_uri": "https://localhost:8080/"
        },
        "outputId": "6b86f515-833f-4cd3-faf5-66f87664f2a4"
      },
      "execution_count": 20,
      "outputs": [
        {
          "output_type": "stream",
          "name": "stdout",
          "text": [
            "Epoch : 0 | Loss : 0.31288138031959534 | Test Loss = 0.48106518387794495\n",
            "OrderedDict([('weights', tensor([0.3406])), ('bias', tensor([0.1388]))])\n",
            "Epoch : 10 | Loss : 0.1976713240146637 | Test Loss = 0.3463551998138428\n",
            "OrderedDict([('weights', tensor([0.3796])), ('bias', tensor([0.2388]))])\n",
            "Epoch : 20 | Loss : 0.08908725529909134 | Test Loss = 0.21729660034179688\n",
            "OrderedDict([('weights', tensor([0.4184])), ('bias', tensor([0.3333]))])\n",
            "Epoch : 30 | Loss : 0.053148526698350906 | Test Loss = 0.14464017748832703\n",
            "OrderedDict([('weights', tensor([0.4512])), ('bias', tensor([0.3768]))])\n",
            "Epoch : 40 | Loss : 0.04543796554207802 | Test Loss = 0.11360953003168106\n",
            "OrderedDict([('weights', tensor([0.4748])), ('bias', tensor([0.3868]))])\n",
            "Epoch : 50 | Loss : 0.04167863354086876 | Test Loss = 0.09919948130846024\n",
            "OrderedDict([('weights', tensor([0.4938])), ('bias', tensor([0.3843]))])\n",
            "Epoch : 60 | Loss : 0.03818932920694351 | Test Loss = 0.08886633068323135\n",
            "OrderedDict([('weights', tensor([0.5116])), ('bias', tensor([0.3788]))])\n",
            "Epoch : 70 | Loss : 0.03476089984178543 | Test Loss = 0.0805937647819519\n",
            "OrderedDict([('weights', tensor([0.5288])), ('bias', tensor([0.3718]))])\n",
            "Epoch : 80 | Loss : 0.03132382780313492 | Test Loss = 0.07232122868299484\n",
            "OrderedDict([('weights', tensor([0.5459])), ('bias', tensor([0.3648]))])\n",
            "Epoch : 90 | Loss : 0.02788739837706089 | Test Loss = 0.06473556160926819\n",
            "OrderedDict([('weights', tensor([0.5629])), ('bias', tensor([0.3573]))])\n",
            "Epoch : 100 | Loss : 0.024458957836031914 | Test Loss = 0.05646304413676262\n",
            "OrderedDict([('weights', tensor([0.5800])), ('bias', tensor([0.3503]))])\n",
            "Epoch : 110 | Loss : 0.021020207554101944 | Test Loss = 0.04819049686193466\n",
            "OrderedDict([('weights', tensor([0.5972])), ('bias', tensor([0.3433]))])\n",
            "Epoch : 120 | Loss : 0.01758546568453312 | Test Loss = 0.04060482233762741\n",
            "OrderedDict([('weights', tensor([0.6141])), ('bias', tensor([0.3358]))])\n",
            "Epoch : 130 | Loss : 0.014155393466353416 | Test Loss = 0.03233227878808975\n",
            "OrderedDict([('weights', tensor([0.6313])), ('bias', tensor([0.3288]))])\n",
            "Epoch : 140 | Loss : 0.010716589167714119 | Test Loss = 0.024059748277068138\n",
            "OrderedDict([('weights', tensor([0.6485])), ('bias', tensor([0.3218]))])\n",
            "Epoch : 150 | Loss : 0.0072835334576666355 | Test Loss = 0.016474086791276932\n",
            "OrderedDict([('weights', tensor([0.6654])), ('bias', tensor([0.3143]))])\n",
            "Epoch : 160 | Loss : 0.0038517764769494534 | Test Loss = 0.008201557211577892\n",
            "OrderedDict([('weights', tensor([0.6826])), ('bias', tensor([0.3073]))])\n",
            "Epoch : 170 | Loss : 0.008932482451200485 | Test Loss = 0.005023092031478882\n",
            "OrderedDict([('weights', tensor([0.6951])), ('bias', tensor([0.2993]))])\n",
            "Epoch : 180 | Loss : 0.008932482451200485 | Test Loss = 0.005023092031478882\n",
            "OrderedDict([('weights', tensor([0.6951])), ('bias', tensor([0.2993]))])\n",
            "Epoch : 190 | Loss : 0.008932482451200485 | Test Loss = 0.005023092031478882\n",
            "OrderedDict([('weights', tensor([0.6951])), ('bias', tensor([0.2993]))])\n"
          ]
        }
      ]
    },
    {
      "cell_type": "code",
      "source": [
        "# plot the loss curves\n",
        "plt.plot(epoch_count,torch.tensor(loss_values).numpy(), label = \"Train loss\")\n",
        "plt.plot(epoch_count, test_loss_values, label = \"Test loss\")\n",
        "plt.title(\"Training and test loss curves\")\n",
        "plt.ylabel(\"Epochs\")\n",
        "plt.legend();\n"
      ],
      "metadata": {
        "colab": {
          "base_uri": "https://localhost:8080/",
          "height": 452
        },
        "id": "HpB_ewXHA4O3",
        "outputId": "9baae129-14ae-4493-e86f-f95eeb73a3de"
      },
      "execution_count": 21,
      "outputs": [
        {
          "output_type": "display_data",
          "data": {
            "text/plain": [
              "<Figure size 640x480 with 1 Axes>"
            ],
            "image/png": "[encoded data removed]"
          },
          "metadata": {}
        }
      ]
    },
    {
      "cell_type": "code",
      "source": [
        "weight, bias"
      ],
      "metadata": {
        "colab": {
          "base_uri": "https://localhost:8080/"
        },
        "id": "MsblbMhe3OCZ",
        "outputId": "d6ed97ad-a303-4357-ed08-d5f74895d03f"
      },
      "execution_count": 22,
      "outputs": [
        {
          "output_type": "execute_result",
          "data": {
            "text/plain": [
              "(0.7, 0.3)"
            ]
          },
          "metadata": {},
          "execution_count": 22
        }
      ]
    },
    {
      "cell_type": "code",
      "source": [
        "with torch.inference_mode():\n",
        "  y_preds_new = model_0(x_test)"
      ],
      "metadata": {
        "id": "35zhkexy6zAe"
      },
      "execution_count": 23,
      "outputs": []
    },
    {
      "cell_type": "code",
      "source": [
        "plot_predictions(prediction = y_preds_new)"
      ],
      "metadata": {
        "colab": {
          "base_uri": "https://localhost:8080/",
          "height": 458
        },
        "id": "N43xb1sA7S0k",
        "outputId": "c9c14382-7d8d-47fa-bf53-859a1c826fd4"
      },
      "execution_count": 24,
      "outputs": [
        {
          "output_type": "display_data",
          "data": {
            "text/plain": [
              "<Figure size 1000x600 with 1 Axes>"
            ],
            "image/png": "[encoded data removed]"
          },
          "metadata": {}
        }
      ]
    },
    {
      "cell_type": "markdown",
      "source": [
        "####Tranining\n"
      ],
      "metadata": {
        "id": "A2WB8dtTzl_0"
      }
    },
    {
      "cell_type": "code",
      "source": [
        "# tranining :D\n",
        "'''epochs = 1\n",
        "for epoch in range (epochs):\n",
        "  y_pred = model_0(x_train)\n",
        "  loss = loss_fn(y_pred, y_train)\n",
        "  optimizer.zero_grad()\n",
        "  loss.backward()\n",
        "  optimizer.step()'''\n",
        "\n",
        "\n",
        "'''epochs = 1\n",
        "for ecpoch in range(epochs):\n",
        "  y_pred = model_0(x_train)\n",
        "  loss = loss_fn(y_pred, y_train)\n",
        "  optimizer.zero_grad()\n",
        "  loss.backward()\n",
        "  optimizer.step()\n",
        "\n",
        "  # to close\n",
        "  model_0.evel()'''"
      ],
      "metadata": {
        "id": "n8BwCJf0vA9z",
        "colab": {
          "base_uri": "https://localhost:8080/",
          "height": 70
        },
        "outputId": "689c13a6-6dcb-42c7-fd20-f19674dee7c3"
      },
      "execution_count": 25,
      "outputs": [
        {
          "output_type": "execute_result",
          "data": {
            "text/plain": [
              "'epochs = 1\\nfor ecpoch in range(epochs):\\n  y_pred = model_0(x_train)\\n  loss = loss_fn(y_pred, y_train)\\n  optimizer.zero_grad()\\n  loss.backward()\\n  optimizer.step()\\n\\n  # to close\\n  model_0.evel()'"
            ],
            "application/vnd.google.colaboratory.intrinsic+json": {
              "type": "string"
            }
          },
          "metadata": {},
          "execution_count": 25
        }
      ]
    },
    {
      "cell_type": "markdown",
      "source": [
        "# Saving and loading model\n",
        "\n",
        "1. torch.save() - you can save object in python's **pickle** format\n",
        "2. torch.load() - you can load saved object\n",
        "3. torch.nn.module.load_state_dict() - this allows to load a model's saved dictionary"
      ],
      "metadata": {
        "id": "CnIabs_2XqlR"
      }
    },
    {
      "cell_type": "code",
      "source": [
        "### Saving\n",
        "from pathlib import Path\n",
        "\n",
        "# 1. chreate models derectry\n",
        "MODEL_PATH = Path(\"models\")\n",
        "MODEL_PATH.mkdir(parents = True, exist_ok=True)\n",
        "\n",
        "# 2. Create model save path\n",
        "MODEL_NAME = \"01_pytorch_workflow_model_0.pt\"\n",
        "MODEL_SAVE_PATH = MODEL_PATH / MODEL_NAME\n",
        "\n",
        "# 3.  Save the model state dict\n",
        "print(f\"Saving model to : {MODEL_SAVE_PATH}\")\n",
        "torch.save(obj = model_0.state_dict(),\n",
        "           f = MODEL_SAVE_PATH )\n"
      ],
      "metadata": {
        "colab": {
          "base_uri": "https://localhost:8080/"
        },
        "id": "piqVp2ViXu-p",
        "outputId": "380528a5-d664-48ff-beff-075a2198e156"
      },
      "execution_count": 26,
      "outputs": [
        {
          "output_type": "stream",
          "name": "stdout",
          "text": [
            "Saving model to : models/01_pytorch_workflow_model_0.pt\n"
          ]
        }
      ]
    },
    {
      "cell_type": "code",
      "source": [
        "!ls -1 models"
      ],
      "metadata": {
        "colab": {
          "base_uri": "https://localhost:8080/"
        },
        "id": "7ysTSndTfmm6",
        "outputId": "dac52425-aef3-4cf9-c17e-41c71841e320"
      },
      "execution_count": 27,
      "outputs": [
        {
          "output_type": "stream",
          "name": "stdout",
          "text": [
            "01_pytorch_workflow_model_0.pt\n"
          ]
        }
      ]
    },
    {
      "cell_type": "markdown",
      "source": [
        "## Loading a PyThorch model\n",
        "Since we saved our model's state_dict() rather thatn entire model, we'll create a new instance of our model class and load the saved state_dict() into that"
      ],
      "metadata": {
        "id": "ElqEMdHchNKQ"
      }
    },
    {
      "cell_type": "code",
      "source": [
        "### Loading\n",
        "# to load in saved state_dict we have to instantiate a new instance of our mode class\n",
        "loaded_model_0 = LinearRegressionModel()\n",
        "\n",
        "# load the saved state_dict of model_0 (this wi;; update the new instance with updated parameters)\n",
        "loaded_model_0.load_state_dict(torch.load(f=MODEL_SAVE_PATH))\n"
      ],
      "metadata": {
        "colab": {
          "base_uri": "https://localhost:8080/"
        },
        "id": "N5HAA-K4gCDy",
        "outputId": "47a267b8-e131-4f86-f289-c37fc9fc71ef"
      },
      "execution_count": 28,
      "outputs": [
        {
          "output_type": "execute_result",
          "data": {
            "text/plain": [
              "<All keys matched successfully>"
            ]
          },
          "metadata": {},
          "execution_count": 28
        }
      ]
    },
    {
      "cell_type": "code",
      "source": [
        "loaded_model_0.state_dict()"
      ],
      "metadata": {
        "colab": {
          "base_uri": "https://localhost:8080/"
        },
        "id": "2IIOtElDgSX_",
        "outputId": "3aa09497-7dd7-4ec9-aae8-6d446cf79f0f"
      },
      "execution_count": 29,
      "outputs": [
        {
          "output_type": "execute_result",
          "data": {
            "text/plain": [
              "OrderedDict([('weights', tensor([0.6990])), ('bias', tensor([0.3093]))])"
            ]
          },
          "metadata": {},
          "execution_count": 29
        }
      ]
    },
    {
      "cell_type": "code",
      "source": [
        "# Make some prediction with our loaded model\n",
        "loaded_model_0.eval()\n",
        "with torch.inference_mode():\n",
        "  loaded_model_preds = loaded_model_0(x_test)\n",
        "\n",
        "loaded_model_preds"
      ],
      "metadata": {
        "colab": {
          "base_uri": "https://localhost:8080/"
        },
        "id": "eg-ZjccXiYWw",
        "outputId": "65bbbebc-9eae-46dd-b067-8bd970a82133"
      },
      "execution_count": 30,
      "outputs": [
        {
          "output_type": "execute_result",
          "data": {
            "text/plain": [
              "tensor([[0.8685],\n",
              "        [0.8825],\n",
              "        [0.8965],\n",
              "        [0.9105],\n",
              "        [0.9245],\n",
              "        [0.9384],\n",
              "        [0.9524],\n",
              "        [0.9664],\n",
              "        [0.9804],\n",
              "        [0.9944]])"
            ]
          },
          "metadata": {},
          "execution_count": 30
        }
      ]
    },
    {
      "cell_type": "code",
      "source": [
        "# make some model preds\n",
        "model_0.eval()\n",
        "with torch.inference_mode():\n",
        "  y_preds = model_0(x_test)\n",
        "y_preds"
      ],
      "metadata": {
        "colab": {
          "base_uri": "https://localhost:8080/"
        },
        "id": "Tgl-2SpPtTDI",
        "outputId": "f983c2a0-1aaa-4301-9808-ffe970801209"
      },
      "execution_count": 31,
      "outputs": [
        {
          "output_type": "execute_result",
          "data": {
            "text/plain": [
              "tensor([[0.8685],\n",
              "        [0.8825],\n",
              "        [0.8965],\n",
              "        [0.9105],\n",
              "        [0.9245],\n",
              "        [0.9384],\n",
              "        [0.9524],\n",
              "        [0.9664],\n",
              "        [0.9804],\n",
              "        [0.9944]])"
            ]
          },
          "metadata": {},
          "execution_count": 31
        }
      ]
    },
    {
      "cell_type": "code",
      "source": [
        "# compare loaded model preds with original model preds\n",
        "\n",
        "y_preds == loaded_model_preds"
      ],
      "metadata": {
        "colab": {
          "base_uri": "https://localhost:8080/"
        },
        "id": "SAlTQ-8bs-Am",
        "outputId": "babb5e43-8849-428e-d38a-05a7327dd330"
      },
      "execution_count": 32,
      "outputs": [
        {
          "output_type": "execute_result",
          "data": {
            "text/plain": [
              "tensor([[True],\n",
              "        [True],\n",
              "        [True],\n",
              "        [True],\n",
              "        [True],\n",
              "        [True],\n",
              "        [True],\n",
              "        [True],\n",
              "        [True],\n",
              "        [True]])"
            ]
          },
          "metadata": {},
          "execution_count": 32
        }
      ]
    },
    {
      "cell_type": "code",
      "source": [
        "topics"
      ],
      "metadata": {
        "colab": {
          "base_uri": "https://localhost:8080/"
        },
        "id": "i_Wf987LtOmu",
        "outputId": "82f4b9e7-889a-48ce-a1c6-8d1ff5aeaf2e"
      },
      "execution_count": 33,
      "outputs": [
        {
          "output_type": "execute_result",
          "data": {
            "text/plain": [
              "{1: 'Data (prepare and load)',\n",
              " 2: 'Build model',\n",
              " 3: 'Fitting the model to data (tranning)',\n",
              " 4: 'Making prediction and evaluvating model(inference)',\n",
              " 5: 'Saving and loading model',\n",
              " 6: 'Putting it all together'}"
            ]
          },
          "metadata": {},
          "execution_count": 33
        }
      ]
    },
    {
      "cell_type": "markdown",
      "source": [
        "# Putting it all together"
      ],
      "metadata": {
        "id": "cHQIeRaquTFr"
      }
    },
    {
      "cell_type": "code",
      "source": [
        "# Import pytorch\n",
        "import torch\n",
        "from torch import nn\n",
        "import matplotlib.pyplot as plt\n",
        "\n",
        "# check version\n",
        "torch.__version__"
      ],
      "metadata": {
        "colab": {
          "base_uri": "https://localhost:8080/",
          "height": 35
        },
        "id": "AvEiShXauQYl",
        "outputId": "3f5708d5-3959-4872-9998-2c1f7bc4134b"
      },
      "execution_count": 34,
      "outputs": [
        {
          "output_type": "execute_result",
          "data": {
            "text/plain": [
              "'2.1.0+cu121'"
            ],
            "application/vnd.google.colaboratory.intrinsic+json": {
              "type": "string"
            }
          },
          "metadata": {},
          "execution_count": 34
        }
      ]
    },
    {
      "cell_type": "markdown",
      "source": [
        "Device-agnostic code\n",
        "\n",
        "if gpu availble else cpu"
      ],
      "metadata": {
        "id": "usVVSKbCvc2U"
      }
    },
    {
      "cell_type": "code",
      "source": [
        "# setup\n",
        "device = \"cuda\" if torch.cuda.is_available()else \"cpu\"\n",
        "print(f\"Using device: {device}\")"
      ],
      "metadata": {
        "colab": {
          "base_uri": "https://localhost:8080/"
        },
        "id": "oIvlvbDdvX2O",
        "outputId": "2062986b-c30b-447f-bbf2-5cd26a8382ba"
      },
      "execution_count": 35,
      "outputs": [
        {
          "output_type": "stream",
          "name": "stdout",
          "text": [
            "Using device: cuda\n"
          ]
        }
      ]
    },
    {
      "cell_type": "markdown",
      "source": [
        "## Data\n"
      ],
      "metadata": {
        "id": "WunnkAdPuoU9"
      }
    },
    {
      "cell_type": "code",
      "source": [
        "# Crreate some data\n",
        "weight = 0.7\n",
        "bias = 0.3\n",
        "\n",
        "# Create range values\n",
        "start = 0\n",
        "end = 1\n",
        "step = 0.02\n",
        "\n",
        "# create x & y (feature and labels)\n",
        "x = torch.arange(start, end, step).unsqueeze(dim = 1)\n",
        "y = weight * x + bias\n",
        "x[:10], y[:10]"
      ],
      "metadata": {
        "id": "PqJUOc8Bv5zZ",
        "colab": {
          "base_uri": "https://localhost:8080/"
        },
        "outputId": "a8372e8c-3508-4873-a9db-312c0fcd9655"
      },
      "execution_count": 36,
      "outputs": [
        {
          "output_type": "execute_result",
          "data": {
            "text/plain": [
              "(tensor([[0.0000],\n",
              "         [0.0200],\n",
              "         [0.0400],\n",
              "         [0.0600],\n",
              "         [0.0800],\n",
              "         [0.1000],\n",
              "         [0.1200],\n",
              "         [0.1400],\n",
              "         [0.1600],\n",
              "         [0.1800]]),\n",
              " tensor([[0.3000],\n",
              "         [0.3140],\n",
              "         [0.3280],\n",
              "         [0.3420],\n",
              "         [0.3560],\n",
              "         [0.3700],\n",
              "         [0.3840],\n",
              "         [0.3980],\n",
              "         [0.4120],\n",
              "         [0.4260]]))"
            ]
          },
          "metadata": {},
          "execution_count": 36
        }
      ]
    },
    {
      "cell_type": "code",
      "source": [
        "len(x), len(y)"
      ],
      "metadata": {
        "colab": {
          "base_uri": "https://localhost:8080/"
        },
        "id": "_A82_kvSwkiD",
        "outputId": "dcce4c9d-7e9e-4279-dd5f-d2ec85fedf47"
      },
      "execution_count": 37,
      "outputs": [
        {
          "output_type": "execute_result",
          "data": {
            "text/plain": [
              "(50, 50)"
            ]
          },
          "metadata": {},
          "execution_count": 37
        }
      ]
    },
    {
      "cell_type": "code",
      "source": [
        "# split data\n",
        "train_split = int(0.8 * len(x)) # 0.8 for 80%\n",
        "x_train, y_train = x[:train_split], y[:train_split]\n",
        "x_test, y_test = x[train_split:], y[train_split:]\n",
        "len(x_train),len(y_train), len(x_test), len(y_test)"
      ],
      "metadata": {
        "colab": {
          "base_uri": "https://localhost:8080/"
        },
        "id": "ubJeRBVxv24m",
        "outputId": "c872ac52-edbe-4900-c2d6-6cd0c58c9bc5"
      },
      "execution_count": 38,
      "outputs": [
        {
          "output_type": "execute_result",
          "data": {
            "text/plain": [
              "(40, 40, 10, 10)"
            ]
          },
          "metadata": {},
          "execution_count": 38
        }
      ]
    },
    {
      "cell_type": "code",
      "source": [
        "x_train.squeeze(dim = 1), y_train.squeeze(dim = 1)"
      ],
      "metadata": {
        "colab": {
          "base_uri": "https://localhost:8080/"
        },
        "id": "HsbVxwxix7Yd",
        "outputId": "abdd8fcc-d435-4bc1-fbb7-ea5e99b43f80"
      },
      "execution_count": 39,
      "outputs": [
        {
          "output_type": "execute_result",
          "data": {
            "text/plain": [
              "(tensor([0.0000, 0.0200, 0.0400, 0.0600, 0.0800, 0.1000, 0.1200, 0.1400, 0.1600,\n",
              "         0.1800, 0.2000, 0.2200, 0.2400, 0.2600, 0.2800, 0.3000, 0.3200, 0.3400,\n",
              "         0.3600, 0.3800, 0.4000, 0.4200, 0.4400, 0.4600, 0.4800, 0.5000, 0.5200,\n",
              "         0.5400, 0.5600, 0.5800, 0.6000, 0.6200, 0.6400, 0.6600, 0.6800, 0.7000,\n",
              "         0.7200, 0.7400, 0.7600, 0.7800]),\n",
              " tensor([0.3000, 0.3140, 0.3280, 0.3420, 0.3560, 0.3700, 0.3840, 0.3980, 0.4120,\n",
              "         0.4260, 0.4400, 0.4540, 0.4680, 0.4820, 0.4960, 0.5100, 0.5240, 0.5380,\n",
              "         0.5520, 0.5660, 0.5800, 0.5940, 0.6080, 0.6220, 0.6360, 0.6500, 0.6640,\n",
              "         0.6780, 0.6920, 0.7060, 0.7200, 0.7340, 0.7480, 0.7620, 0.7760, 0.7900,\n",
              "         0.8040, 0.8180, 0.8320, 0.8460]))"
            ]
          },
          "metadata": {},
          "execution_count": 39
        }
      ]
    },
    {
      "cell_type": "code",
      "source": [
        "x_test.squeeze(dim = 1), y_test.squeeze(dim=1)"
      ],
      "metadata": {
        "colab": {
          "base_uri": "https://localhost:8080/"
        },
        "id": "neFs16FR1Edy",
        "outputId": "bedad206-5e23-499e-89fb-0ce0f013b548"
      },
      "execution_count": 40,
      "outputs": [
        {
          "output_type": "execute_result",
          "data": {
            "text/plain": [
              "(tensor([0.8000, 0.8200, 0.8400, 0.8600, 0.8800, 0.9000, 0.9200, 0.9400, 0.9600,\n",
              "         0.9800]),\n",
              " tensor([0.8600, 0.8740, 0.8880, 0.9020, 0.9160, 0.9300, 0.9440, 0.9580, 0.9720,\n",
              "         0.9860]))"
            ]
          },
          "metadata": {},
          "execution_count": 40
        }
      ]
    },
    {
      "cell_type": "code",
      "source": [
        "plot_predictions(x_train, y_train, x_test, y_test)"
      ],
      "metadata": {
        "colab": {
          "base_uri": "https://localhost:8080/",
          "height": 458
        },
        "id": "SRhn2_-kxh-R",
        "outputId": "e02abf28-0f8d-40cb-c257-011161094bf0"
      },
      "execution_count": 41,
      "outputs": [
        {
          "output_type": "display_data",
          "data": {
            "text/plain": [
              "<Figure size 1000x600 with 1 Axes>"
            ],
            "image/png": "[encoded data removed]"
          },
          "metadata": {}
        }
      ]
    },
    {
      "cell_type": "code",
      "source": [
        "topics"
      ],
      "metadata": {
        "colab": {
          "base_uri": "https://localhost:8080/"
        },
        "id": "heyxK8BPxvwc",
        "outputId": "104a12e9-33a5-4c1c-9258-e2b676ce6d04"
      },
      "execution_count": 42,
      "outputs": [
        {
          "output_type": "execute_result",
          "data": {
            "text/plain": [
              "{1: 'Data (prepare and load)',\n",
              " 2: 'Build model',\n",
              " 3: 'Fitting the model to data (tranning)',\n",
              " 4: 'Making prediction and evaluvating model(inference)',\n",
              " 5: 'Saving and loading model',\n",
              " 6: 'Putting it all together'}"
            ]
          },
          "metadata": {},
          "execution_count": 42
        }
      ]
    },
    {
      "cell_type": "markdown",
      "source": [
        "##Build model"
      ],
      "metadata": {
        "id": "xSf552Q9FADj"
      }
    },
    {
      "cell_type": "code",
      "source": [
        "from torch import nn\n",
        "\n",
        "class LinearRegressionModel(nn.Module):\n",
        "\n",
        "  def __init__(self):\n",
        "    super().__init__()\n",
        "\n",
        "    self.weight = nn.parameter(torch.rand(1,\n",
        "                                          requires_grad=True,\n",
        "                                          dtype = float ))\n",
        "    self.bias = nn.parameter(torch.rand(1,\n",
        "                                        require_grad = True,\n",
        "                                        dtype = float ))\n",
        "\n",
        "  def forward (self, x :torch.Tensor) -> torch.Tensor:\n",
        "    return self.weight * x + self.bias\n",
        "\n"
      ],
      "metadata": {
        "id": "WjaeQZvjE8Dk"
      },
      "execution_count": 43,
      "outputs": []
    },
    {
      "cell_type": "code",
      "source": [
        "# new way to build a model\n",
        "\n",
        "from torch import nn\n",
        "\n",
        "class LinearRegressionModelV2(nn.Module):\n",
        "  def __init__(self):\n",
        "    super().__init__()\n",
        "\n",
        "    self.linear_layer = nn.Linear(in_features=1,\n",
        "                                  out_features=1)\n",
        "\n",
        "                    #should be a tensor   # this will retun a tensor\n",
        "  def forward(self, x: torch.Tensor) -> torch.Tensor:\n",
        "    return self.linear_layer(x)\n",
        "\n",
        "\n",
        "#set the manual seed\n",
        "\n",
        "torch.manual_seed(42)\n",
        "model_1 = LinearRegressionModelV2()\n",
        "model_1, model_1.state_dict()"
      ],
      "metadata": {
        "colab": {
          "base_uri": "https://localhost:8080/"
        },
        "id": "C95UD6y5H6oU",
        "outputId": "a0a8cb7b-7575-44cc-b314-df041fc7af9f"
      },
      "execution_count": 44,
      "outputs": [
        {
          "output_type": "execute_result",
          "data": {
            "text/plain": [
              "(LinearRegressionModelV2(\n",
              "   (linear_layer): Linear(in_features=1, out_features=1, bias=True)\n",
              " ),\n",
              " OrderedDict([('linear_layer.weight', tensor([[0.7645]])),\n",
              "              ('linear_layer.bias', tensor([0.8300]))]))"
            ]
          },
          "metadata": {},
          "execution_count": 44
        }
      ]
    },
    {
      "cell_type": "code",
      "source": [
        "next(model_1.parameters()).device"
      ],
      "metadata": {
        "colab": {
          "base_uri": "https://localhost:8080/"
        },
        "id": "inzgewQnIVfU",
        "outputId": "03ea8b67-28ec-4d27-e832-222e0e48e3b8"
      },
      "execution_count": 45,
      "outputs": [
        {
          "output_type": "execute_result",
          "data": {
            "text/plain": [
              "device(type='cpu')"
            ]
          },
          "metadata": {},
          "execution_count": 45
        }
      ]
    },
    {
      "cell_type": "code",
      "source": [
        "model_1.to(device)\n",
        "next(model_1.parameters()).device"
      ],
      "metadata": {
        "colab": {
          "base_uri": "https://localhost:8080/"
        },
        "id": "t-igX_LvMyRs",
        "outputId": "050d6ddc-9d3e-454f-9130-489b3d0abd02"
      },
      "execution_count": 46,
      "outputs": [
        {
          "output_type": "execute_result",
          "data": {
            "text/plain": [
              "device(type='cuda', index=0)"
            ]
          },
          "metadata": {},
          "execution_count": 46
        }
      ]
    },
    {
      "cell_type": "code",
      "source": [
        "list(model_1.parameters())"
      ],
      "metadata": {
        "colab": {
          "base_uri": "https://localhost:8080/"
        },
        "id": "k650pl35Pd9U",
        "outputId": "23ad3e57-8dff-4fdd-80cd-8d52525ac586"
      },
      "execution_count": 47,
      "outputs": [
        {
          "output_type": "execute_result",
          "data": {
            "text/plain": [
              "[Parameter containing:\n",
              " tensor([[0.7645]], device='cuda:0', requires_grad=True),\n",
              " Parameter containing:\n",
              " tensor([0.8300], device='cuda:0', requires_grad=True)]"
            ]
          },
          "metadata": {},
          "execution_count": 47
        }
      ]
    },
    {
      "cell_type": "markdown",
      "source": [
        "## Traning\n",
        "\n",
        "1. loss fun\n",
        "2. Optimizer\n",
        "3. Trenin & testing loop"
      ],
      "metadata": {
        "id": "Yf7T-x7ZNJoy"
      }
    },
    {
      "cell_type": "code",
      "source": [
        "# set up loss fun\n",
        "loss_fn = nn.L1Loss()\n",
        "\n",
        "Optimizer = torch.optim.SGD(params = model_1.parameters(),\n",
        "                            lr = 0.01)\n"
      ],
      "metadata": {
        "id": "zgBVIAGPNJYe"
      },
      "execution_count": 48,
      "outputs": []
    },
    {
      "cell_type": "code",
      "source": [
        "### Traning loop\n",
        "torch.manual_seed(42)\n",
        "\n",
        "epochs = 200\n",
        "\n",
        "# put data on the same target device(device agnostic code for data)\n",
        "x_train = x_train.to(device)\n",
        "y_train = y_train.to(device)\n",
        "x_test = x_test.to(device)\n",
        "y_test = y_test.to(device)\n",
        "\n",
        "for epoch in range (epochs):\n",
        "  model_1.train()\n",
        "\n",
        "  # 1 forwar pass\n",
        "  y_pred = model_1(x_train)\n",
        "\n",
        "  # 2 Calculate the loss\n",
        "  loss = loss_fn(y_pred, y_train)\n",
        "\n",
        "  # 3 Optimizer zero grad\n",
        "  Optimizer.zero_grad()\n",
        "\n",
        "  # 4 back propergation\n",
        "  loss.backward()\n",
        "\n",
        "  # 5 optimizer\n",
        "  Optimizer.step()\n",
        "\n",
        "  model_1.eval()\n",
        "\n",
        "  ### Testing\n",
        "\n",
        "  model_1.eval()\n",
        "  with torch.inference_mode():\n",
        "    test_pred = model_1(x_test)\n",
        "    test_loss = loss_fn(test_pred, y_test)\n",
        "\n",
        "  ## print\n",
        "  if epoch % 10 == 0 :\n",
        "    print(f\"Epoch : {epoch} | Loss : {loss} | Test_loss:{test_loss}\")\n"
      ],
      "metadata": {
        "colab": {
          "base_uri": "https://localhost:8080/"
        },
        "id": "QkwDlvi0QEe_",
        "outputId": "0c4c827c-a110-4068-b597-e1a4c9403034"
      },
      "execution_count": 49,
      "outputs": [
        {
          "output_type": "stream",
          "name": "stdout",
          "text": [
            "Epoch : 0 | Loss : 0.5551779866218567 | Test_loss:0.5739762187004089\n",
            "Epoch : 10 | Loss : 0.439968079328537 | Test_loss:0.4392664134502411\n",
            "Epoch : 20 | Loss : 0.3247582018375397 | Test_loss:0.30455657839775085\n",
            "Epoch : 30 | Loss : 0.20954833924770355 | Test_loss:0.16984669864177704\n",
            "Epoch : 40 | Loss : 0.09433845430612564 | Test_loss:0.03513690456748009\n",
            "Epoch : 50 | Loss : 0.023886388167738914 | Test_loss:0.04784907028079033\n",
            "Epoch : 60 | Loss : 0.019956795498728752 | Test_loss:0.045803118497133255\n",
            "Epoch : 70 | Loss : 0.016517987474799156 | Test_loss:0.037530567497015\n",
            "Epoch : 80 | Loss : 0.013089174404740334 | Test_loss:0.02994490973651409\n",
            "Epoch : 90 | Loss : 0.009653178043663502 | Test_loss:0.02167237363755703\n",
            "Epoch : 100 | Loss : 0.006215683650225401 | Test_loss:0.014086711220443249\n",
            "Epoch : 110 | Loss : 0.00278724217787385 | Test_loss:0.005814164876937866\n",
            "Epoch : 120 | Loss : 0.0012645035749301314 | Test_loss:0.013801801018416882\n",
            "Epoch : 130 | Loss : 0.0012645035749301314 | Test_loss:0.013801801018416882\n",
            "Epoch : 140 | Loss : 0.0012645035749301314 | Test_loss:0.013801801018416882\n",
            "Epoch : 150 | Loss : 0.0012645035749301314 | Test_loss:0.013801801018416882\n",
            "Epoch : 160 | Loss : 0.0012645035749301314 | Test_loss:0.013801801018416882\n",
            "Epoch : 170 | Loss : 0.0012645035749301314 | Test_loss:0.013801801018416882\n",
            "Epoch : 180 | Loss : 0.0012645035749301314 | Test_loss:0.013801801018416882\n",
            "Epoch : 190 | Loss : 0.0012645035749301314 | Test_loss:0.013801801018416882\n"
          ]
        }
      ]
    },
    {
      "cell_type": "code",
      "source": [
        "model_1.state_dict()"
      ],
      "metadata": {
        "colab": {
          "base_uri": "https://localhost:8080/"
        },
        "id": "fwU2fR2MRkYF",
        "outputId": "0d64359d-b9e0-4a53-dbdc-3ada3e4a080a"
      },
      "execution_count": 50,
      "outputs": [
        {
          "output_type": "execute_result",
          "data": {
            "text/plain": [
              "OrderedDict([('linear_layer.weight', tensor([[0.6968]], device='cuda:0')),\n",
              "             ('linear_layer.bias', tensor([0.3025], device='cuda:0'))])"
            ]
          },
          "metadata": {},
          "execution_count": 50
        }
      ]
    },
    {
      "cell_type": "code",
      "source": [
        "weight, bias"
      ],
      "metadata": {
        "colab": {
          "base_uri": "https://localhost:8080/"
        },
        "id": "GlK-2bbXUYwr",
        "outputId": "4012970b-4907-4ded-8792-c7bb7eb9f1b6"
      },
      "execution_count": 51,
      "outputs": [
        {
          "output_type": "execute_result",
          "data": {
            "text/plain": [
              "(0.7, 0.3)"
            ]
          },
          "metadata": {},
          "execution_count": 51
        }
      ]
    },
    {
      "cell_type": "markdown",
      "source": [
        "##Making prediction and evaluvating model"
      ],
      "metadata": {
        "id": "UYg05Vpp676V"
      }
    },
    {
      "cell_type": "code",
      "source": [
        "# Turn model into evaluation mode\n",
        "model_1.eval()\n",
        "\n",
        "# Make prediction on the test data\n",
        "with torch.inference_mode():\n",
        "  y_preds = model_1(x_test)\n",
        "y_preds"
      ],
      "metadata": {
        "colab": {
          "base_uri": "https://localhost:8080/"
        },
        "id": "V9TFV4RJ67oe",
        "outputId": "dece82c4-0ea1-43fd-b7d9-cf7b66d227c8"
      },
      "execution_count": 56,
      "outputs": [
        {
          "output_type": "execute_result",
          "data": {
            "text/plain": [
              "tensor([[0.8600],\n",
              "        [0.8739],\n",
              "        [0.8878],\n",
              "        [0.9018],\n",
              "        [0.9157],\n",
              "        [0.9296],\n",
              "        [0.9436],\n",
              "        [0.9575],\n",
              "        [0.9714],\n",
              "        [0.9854]], device='cuda:0')"
            ]
          },
          "metadata": {},
          "execution_count": 56
        }
      ]
    },
    {
      "cell_type": "code",
      "source": [
        "plot_predictions(prediction = y_preds.cpu())"
      ],
      "metadata": {
        "colab": {
          "base_uri": "https://localhost:8080/",
          "height": 458
        },
        "id": "5aU624Uq6474",
        "outputId": "4eb91ba1-cba7-4021-c8cb-f6717059f88d"
      },
      "execution_count": 61,
      "outputs": [
        {
          "output_type": "display_data",
          "data": {
            "text/plain": [
              "<Figure size 1000x600 with 1 Axes>"
            ],
            "image/png": "[encoded data removed]"
          },
          "metadata": {}
        }
      ]
    },
    {
      "cell_type": "markdown",
      "source": [
        "## Saving and loading"
      ],
      "metadata": {
        "id": "A6f1kcpf83Zk"
      }
    },
    {
      "cell_type": "code",
      "source": [
        "import matplotlib.pyplot as plt\n",
        "\n",
        "#derectry\n",
        "model_path = Path(\"MODELS\")\n",
        "model_path.mkdir(parents=True, exist_ok=True)\n",
        "\n",
        "#save path\n",
        "model_name = \"test1.pth\"\n",
        "model_save_path = model_path / model_name\n",
        "\n",
        "#save\n",
        "torch.save( obj = model_1.state_dict(),\n",
        "            f = model_save_path )"
      ],
      "metadata": {
        "id": "tulJGvl486fj"
      },
      "execution_count": 65,
      "outputs": []
    },
    {
      "cell_type": "code",
      "source": [
        "loaded_model_1 = LinearRegressionModelV2()\n",
        "loaded_model_1.load_state_dict(torch.load(f=model_save_path))\n",
        "\n",
        "# put the loaded module to device\n",
        "loaded_model_1.to(device)\n"
      ],
      "metadata": {
        "colab": {
          "base_uri": "https://localhost:8080/"
        },
        "id": "4UObn4Ds-Ayg",
        "outputId": "4849e95b-75ea-4171-b7f6-6f5b785b8b78"
      },
      "execution_count": 70,
      "outputs": [
        {
          "output_type": "execute_result",
          "data": {
            "text/plain": [
              "LinearRegressionModelV2(\n",
              "  (linear_layer): Linear(in_features=1, out_features=1, bias=True)\n",
              ")"
            ]
          },
          "metadata": {},
          "execution_count": 70
        }
      ]
    },
    {
      "cell_type": "code",
      "source": [
        "loaded_model_1.state_dict()"
      ],
      "metadata": {
        "colab": {
          "base_uri": "https://localhost:8080/"
        },
        "id": "rfOC-m2cDcoo",
        "outputId": "76042530-a2fb-4df3-b8c9-654da1cc97f7"
      },
      "execution_count": 74,
      "outputs": [
        {
          "output_type": "execute_result",
          "data": {
            "text/plain": [
              "OrderedDict([('linear_layer.weight', tensor([[0.6968]], device='cuda:0')),\n",
              "             ('linear_layer.bias', tensor([0.3025], device='cuda:0'))])"
            ]
          },
          "metadata": {},
          "execution_count": 74
        }
      ]
    },
    {
      "cell_type": "code",
      "source": [
        "# Evaluvate loaded model\n",
        "loaded_model_1.eval()\n",
        "with torch.inference_mode():\n",
        "  loaded_mode_preds = model_1(x_test)\n",
        "loaded_mode_preds == y_preds"
      ],
      "metadata": {
        "colab": {
          "base_uri": "https://localhost:8080/"
        },
        "id": "AKx2tjk5B1LP",
        "outputId": "41ce67b3-3a58-42ed-930f-226e4e6825a0"
      },
      "execution_count": 73,
      "outputs": [
        {
          "output_type": "execute_result",
          "data": {
            "text/plain": [
              "tensor([[True],\n",
              "        [True],\n",
              "        [True],\n",
              "        [True],\n",
              "        [True],\n",
              "        [True],\n",
              "        [True],\n",
              "        [True],\n",
              "        [True],\n",
              "        [True]], device='cuda:0')"
            ]
          },
          "metadata": {},
          "execution_count": 73
        }
      ]
    },
    {
      "cell_type": "code",
      "source": [],
      "metadata": {
        "id": "yYTiLWiMDGfx"
      },
      "execution_count": null,
      "outputs": []
    }
  ]
}