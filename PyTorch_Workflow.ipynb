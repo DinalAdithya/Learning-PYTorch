{
  "nbformat": 4,
  "nbformat_minor": 0,
  "metadata": {
    "colab": {
      "provenance": [],
      "authorship_tag": "ABX9TyPNRJELFviQvdcEgJEhVw6S",
      "include_colab_link": true
    },
    "kernelspec": {
      "name": "python3",
      "display_name": "Python 3"
    },
    "language_info": {
      "name": "python"
    }
  },
  "cells": [
    {
      "cell_type": "markdown",
      "metadata": {
        "id": "view-in-github",
        "colab_type": "text"
      },
      "source": [
        "<a href=\"https://colab.research.google.com/github/DinalAdithya/Learning-PYTorch/blob/main/PyTorch_Workflow.ipynb\" target=\"_parent\"><img src=\"https://colab.research.google.com/assets/colab-badge.svg\" alt=\"Open In Colab\"/></a>"
      ]
    },
    {
      "cell_type": "code",
      "execution_count": 1,
      "metadata": {
        "id": "IcGSObed4yPr"
      },
      "outputs": [],
      "source": [
        "# PyTorch Workflow\n",
        "topics = {1: \"Data (prepare and load)\",\n",
        "          2: \"Build model\",\n",
        "          3: \"Fitting the model to data (tranning)\",\n",
        "          4: \"Making prediction and evaluvating model(inference)\",\n",
        "          5: \"Saving and loading model\",\n",
        "          6: \"Putting it all together\"}\n"
      ]
    },
    {
      "cell_type": "code",
      "source": [
        "import torch\n",
        "from torch import nn # nn contains all of pytorch's building blocks for neural networks\n",
        "import numpy as np\n",
        "import matplotlib.pyplot as plt\n",
        "\n",
        "torch.__version__"
      ],
      "metadata": {
        "colab": {
          "base_uri": "https://localhost:8080/",
          "height": 35
        },
        "id": "Dpdh5rBxO2aF",
        "outputId": "8c455eff-a130-4d20-d824-d09610deaebd"
      },
      "execution_count": 2,
      "outputs": [
        {
          "output_type": "execute_result",
          "data": {
            "text/plain": [
              "'2.1.0+cu121'"
            ],
            "application/vnd.google.colaboratory.intrinsic+json": {
              "type": "string"
            }
          },
          "metadata": {},
          "execution_count": 2
        }
      ]
    },
    {
      "cell_type": "markdown",
      "source": [
        "#Data (prepare and load)\n",
        "\n",
        "Machine learning inlude 2 parts\n",
        "\n",
        "1.   Get data into a numerical representation.\n",
        "2.   Buil a model to learn patterns in taht numerical representation\n",
        "\n"
      ],
      "metadata": {
        "id": "Jgk41udVR4y1"
      }
    },
    {
      "cell_type": "code",
      "source": [
        "# create known parameters\n",
        "weight = 0.7\n",
        "bias   = 0.3\n",
        "\n",
        "# Create\n",
        "start = 0\n",
        "end = 1\n",
        "step = 0.02\n",
        "x = torch.arange(start, end, step).unsqueeze( dim=1 )\n",
        "y = weight * x + bias\n",
        "\n",
        "x[:10], y[:10]"
      ],
      "metadata": {
        "colab": {
          "base_uri": "https://localhost:8080/"
        },
        "id": "VsYLvKqvRoqq",
        "outputId": "731638d9-d323-4f8c-dd87-bafa373e0c32"
      },
      "execution_count": 3,
      "outputs": [
        {
          "output_type": "execute_result",
          "data": {
            "text/plain": [
              "(tensor([[0.0000],\n",
              "         [0.0200],\n",
              "         [0.0400],\n",
              "         [0.0600],\n",
              "         [0.0800],\n",
              "         [0.1000],\n",
              "         [0.1200],\n",
              "         [0.1400],\n",
              "         [0.1600],\n",
              "         [0.1800]]),\n",
              " tensor([[0.3000],\n",
              "         [0.3140],\n",
              "         [0.3280],\n",
              "         [0.3420],\n",
              "         [0.3560],\n",
              "         [0.3700],\n",
              "         [0.3840],\n",
              "         [0.3980],\n",
              "         [0.4120],\n",
              "         [0.4260]]))"
            ]
          },
          "metadata": {},
          "execution_count": 3
        }
      ]
    },
    {
      "cell_type": "code",
      "source": [
        "len(x),len(y)"
      ],
      "metadata": {
        "colab": {
          "base_uri": "https://localhost:8080/"
        },
        "id": "hK2F8ogyV0js",
        "outputId": "0267695f-f5ed-425c-c5f0-46ffe6f1faf9"
      },
      "execution_count": 4,
      "outputs": [
        {
          "output_type": "execute_result",
          "data": {
            "text/plain": [
              "(50, 50)"
            ]
          },
          "metadata": {},
          "execution_count": 4
        }
      ]
    },
    {
      "cell_type": "markdown",
      "source": [
        "## Spliting data into traning and test sets (one of the most importent consept)"
      ],
      "metadata": {
        "id": "3Kv64KvH89BJ"
      }
    },
    {
      "cell_type": "code",
      "source": [
        "# Create a traning/test split\n",
        "\n",
        "train_split = int(0.8 *len(x))\n",
        "train_split"
      ],
      "metadata": {
        "id": "TguJoXWdV3Jm",
        "colab": {
          "base_uri": "https://localhost:8080/"
        },
        "outputId": "9f6de8dd-78e3-4a6a-adf0-022de8860ff6"
      },
      "execution_count": 5,
      "outputs": [
        {
          "output_type": "execute_result",
          "data": {
            "text/plain": [
              "40"
            ]
          },
          "metadata": {},
          "execution_count": 5
        }
      ]
    },
    {
      "cell_type": "code",
      "source": [
        "x_train, y_train = x[:train_split], y[:train_split]\n",
        "x_test, y_test = x[train_split:], y[train_split:]\n",
        "\n",
        "len(x_train), len(y_train), len(x_test), len(y_test)"
      ],
      "metadata": {
        "colab": {
          "base_uri": "https://localhost:8080/"
        },
        "id": "bHErMUMG_Oly",
        "outputId": "b17c7afc-1be9-473b-bc24-652c4cd28aa0"
      },
      "execution_count": 6,
      "outputs": [
        {
          "output_type": "execute_result",
          "data": {
            "text/plain": [
              "(40, 40, 10, 10)"
            ]
          },
          "metadata": {},
          "execution_count": 6
        }
      ]
    },
    {
      "cell_type": "markdown",
      "source": [
        "### Visualize our data"
      ],
      "metadata": {
        "id": "Y8Y-HCOIB1WZ"
      }
    },
    {
      "cell_type": "code",
      "source": [
        "def plot_predictions(train_data = x_train,\n",
        "                     train_labels = y_train,\n",
        "                     test_data = x_test,\n",
        "                     test_labels = y_test,\n",
        "                     prediction = None):\n",
        "  \"\"\"\n",
        "  plots training data, test data and compares predictions.\n",
        "\n",
        "  \"\"\"\n",
        "\n",
        "  plt.figure(figsize=(10, 6))\n",
        "\n",
        "  # Plot training data in blue\n",
        "  plt.scatter(train_data, train_labels, c = \"b\", s= 4, label=\"Training data\")\n",
        "\n",
        "  #plot test data in yellow\n",
        "  plt.scatter(test_data, test_labels, c = \"y\", s = 4, label=\"Training data\")\n",
        "\n",
        "  # Are there prediction?\n",
        "  if prediction is not None:\n",
        "    # Plot the predictions if they exist\n",
        "    plt.scatter(test_data, prediction, c = \"r\", s = 4, label = \"Predictions\")\n",
        "\n",
        "  # show the legend ( Show lables)\n",
        "  plt.legend( prop = {\"size\" : 14} )\n",
        "\n",
        "plot_predictions()"
      ],
      "metadata": {
        "colab": {
          "base_uri": "https://localhost:8080/",
          "height": 402
        },
        "id": "P6eMeVoOB7ho",
        "outputId": "74897f54-376e-47d7-a875-b46a01c5ae51"
      },
      "execution_count": 7,
      "outputs": [
        {
          "output_type": "display_data",
          "data": {
            "text/plain": [
              "<Figure size 1000x600 with 1 Axes>"
            ],
            "image/png": "[encoded data removed]"
          },
          "metadata": {}
        }
      ]
    },
    {
      "cell_type": "markdown",
      "source": [
        "# Build Model"
      ],
      "metadata": {
        "id": "0aspsQ8ILRym"
      }
    },
    {
      "cell_type": "code",
      "source": [
        "import torch\n",
        "from torch import nn\n",
        "\n",
        "# Create linear regresion model class\n",
        "\n",
        "class LinearRegressionModel(nn.Module):\n",
        "  # allmost everything in pytorch inheret from nn.module\n",
        "\n",
        "  def __init__(self):\n",
        "    super().__init__()\n",
        "\n",
        "    # initialize model parameters\n",
        "    self.weights = nn.Parameter(torch.randn( 1, #start ith random weights(this value wil change as the model learn)\n",
        "                                             requires_grad=True,\n",
        "                                             dtype=torch.float))\n",
        "    self.bias = nn.Parameter(torch.randn( 1,\n",
        "                                          requires_grad=True,\n",
        "                                          dtype=torch.float))\n",
        "\n",
        "  # Forward method to define the computation in the model\n",
        "  def forward(self, x: torch.Tensor) -> torch.Tensor: # <- 'x' is input data\n",
        "    return self.weights * x + self.bias  # this is the linear regression formula\n",
        "\n"
      ],
      "metadata": {
        "id": "z5ylXYGqLNYH"
      },
      "execution_count": 8,
      "outputs": []
    },
    {
      "cell_type": "markdown",
      "source": [
        "# Fitting the model to data"
      ],
      "metadata": {
        "id": "hk9oj5p8223_"
      }
    },
    {
      "cell_type": "code",
      "source": [
        "# Content of the model\n",
        "\n",
        "## create a random seed (becouse these values are random if we didnt use seed every time the values will be diference)\n",
        "torch.manual_seed(42)\n",
        "\n",
        "## create intence of the model ( this is a subclass of nn.module )\n",
        "model_0 = LinearRegressionModel()\n",
        "\n",
        "## check out parameters\n",
        "params = list(model_0.parameters())\n",
        "print(params)\n"
      ],
      "metadata": {
        "colab": {
          "base_uri": "https://localhost:8080/"
        },
        "id": "1p-x0yRD5hL3",
        "outputId": "36b83fd1-348f-4d9b-e00e-48dbbc98767e"
      },
      "execution_count": 9,
      "outputs": [
        {
          "output_type": "stream",
          "name": "stdout",
          "text": [
            "[Parameter containing:\n",
            "tensor([0.3367], requires_grad=True), Parameter containing:\n",
            "tensor([0.1288], requires_grad=True)]\n"
          ]
        }
      ]
    },
    {
      "cell_type": "code",
      "source": [
        "# list named parameters\n",
        "model_0.state_dict()"
      ],
      "metadata": {
        "colab": {
          "base_uri": "https://localhost:8080/"
        },
        "id": "_eJZzGQ60cuO",
        "outputId": "953a76ec-0553-4823-8194-e4dccd3758bb"
      },
      "execution_count": 10,
      "outputs": [
        {
          "output_type": "execute_result",
          "data": {
            "text/plain": [
              "OrderedDict([('weights', tensor([0.3367])), ('bias', tensor([0.1288]))])"
            ]
          },
          "metadata": {},
          "execution_count": 10
        }
      ]
    },
    {
      "cell_type": "code",
      "source": [
        "print(f\"Ideal values of weight :\", weight,\"and bias :\", bias)\n",
        "# we need to get the move above random values to as close as these values\n",
        "# most caces we dont know what even is the ideal values are"
      ],
      "metadata": {
        "colab": {
          "base_uri": "https://localhost:8080/"
        },
        "id": "s_0Izk4F052Z",
        "outputId": "66d409ff-f855-4b2c-d492-f93340e39b09"
      },
      "execution_count": 11,
      "outputs": [
        {
          "output_type": "stream",
          "name": "stdout",
          "text": [
            "Ideal values of weight : 0.7 and bias : 0.3\n"
          ]
        }
      ]
    },
    {
      "cell_type": "markdown",
      "source": [
        "## Extra\n"
      ],
      "metadata": {
        "id": "MRLdd5rNmlvk"
      }
    },
    {
      "cell_type": "markdown",
      "source": [
        "1. randn use becouse we need random numbers from normal distribution\n",
        "2. if we use rand it will give us uniform distribution we dont use it here\n",
        "3. choise between \"randn\" & \"rand\" depend on the spesicfic requirment of the model\n",
        "\n"
      ],
      "metadata": {
        "id": "5PXI49eRlgsG"
      }
    },
    {
      "cell_type": "code",
      "source": [
        "# with out manual_seed()\n",
        "torch.randn(1) , torch.randn(1) # this is defferent each time"
      ],
      "metadata": {
        "colab": {
          "base_uri": "https://localhost:8080/"
        },
        "id": "CqjJiZN5j3IU",
        "outputId": "2808651e-b50a-42cd-bded-b8ffb682c8af"
      },
      "execution_count": 12,
      "outputs": [
        {
          "output_type": "execute_result",
          "data": {
            "text/plain": [
              "(tensor([0.2345]), tensor([0.2303]))"
            ]
          },
          "metadata": {},
          "execution_count": 12
        }
      ]
    },
    {
      "cell_type": "code",
      "source": [
        "torch.manual_seed(42)\n",
        "torch.randn(1)"
      ],
      "metadata": {
        "colab": {
          "base_uri": "https://localhost:8080/"
        },
        "id": "EP8Po6ePlzoF",
        "outputId": "a78f69e5-5866-4a55-ef59-3f39ef48202a"
      },
      "execution_count": 13,
      "outputs": [
        {
          "output_type": "execute_result",
          "data": {
            "text/plain": [
              "tensor([0.3367])"
            ]
          },
          "metadata": {},
          "execution_count": 13
        }
      ]
    },
    {
      "cell_type": "code",
      "source": [
        "torch.manual_seed(42) # but this is not different each time its the same\n",
        "torch.randn(1)"
      ],
      "metadata": {
        "colab": {
          "base_uri": "https://localhost:8080/"
        },
        "id": "6Opbyg7DmECM",
        "outputId": "455f99ea-cfd4-477e-cdaa-09efb0a3981c"
      },
      "execution_count": 14,
      "outputs": [
        {
          "output_type": "execute_result",
          "data": {
            "text/plain": [
              "tensor([0.3367])"
            ]
          },
          "metadata": {},
          "execution_count": 14
        }
      ]
    },
    {
      "cell_type": "code",
      "source": [
        "torch.manual_seed(40) # acoding to the menual seed number\n",
        "torch.randn(1)"
      ],
      "metadata": {
        "colab": {
          "base_uri": "https://localhost:8080/"
        },
        "id": "inRZkerDmLtN",
        "outputId": "a98e9c2b-91f3-493d-9f5e-8647036807e7"
      },
      "execution_count": 15,
      "outputs": [
        {
          "output_type": "execute_result",
          "data": {
            "text/plain": [
              "tensor([0.9307])"
            ]
          },
          "metadata": {},
          "execution_count": 15
        }
      ]
    },
    {
      "cell_type": "markdown",
      "source": [
        "# Making prediction and evaluvating model\n",
        "\n",
        "\n",
        "1.   using torch.inference_mode() inference mode disables unnessesry thing for the prediction\n",
        "2. we can do the same with torch.no_grad() but mostly use inference_mode()\n",
        "\n"
      ],
      "metadata": {
        "id": "qEHVCFow28_4"
      }
    },
    {
      "cell_type": "code",
      "source": [
        "# make the prediction with model\n",
        "with torch.inference_mode(): # infreence is word for predictions that use in pytorch\n",
        "  y_preds = model_0(x_test)\n",
        "y_preds\n",
        "\n"
      ],
      "metadata": {
        "colab": {
          "base_uri": "https://localhost:8080/"
        },
        "id": "ThROf9cZ27xb",
        "outputId": "3a4e3856-b586-4231-b09d-bb1a5d5fb864"
      },
      "execution_count": 16,
      "outputs": [
        {
          "output_type": "execute_result",
          "data": {
            "text/plain": [
              "tensor([[0.3982],\n",
              "        [0.4049],\n",
              "        [0.4116],\n",
              "        [0.4184],\n",
              "        [0.4251],\n",
              "        [0.4318],\n",
              "        [0.4386],\n",
              "        [0.4453],\n",
              "        [0.4520],\n",
              "        [0.4588]])"
            ]
          },
          "metadata": {},
          "execution_count": 16
        }
      ]
    },
    {
      "cell_type": "code",
      "source": [
        "plot_predictions( prediction = y_preds )"
      ],
      "metadata": {
        "colab": {
          "base_uri": "https://localhost:8080/",
          "height": 402
        },
        "id": "O32f4XfG4qdq",
        "outputId": "91e254f5-2d94-4ad0-8268-d4aa38eda3a6"
      },
      "execution_count": 17,
      "outputs": [
        {
          "output_type": "display_data",
          "data": {
            "text/plain": [
              "<Figure size 1000x600 with 1 Axes>"
            ],
            "image/png": "[encoded data removed]"
          },
          "metadata": {}
        }
      ]
    },
    {
      "cell_type": "markdown",
      "source": [
        "## Train Model\n",
        "1. Model should move from **unknown** parameters to **known** parameters\n",
        "\n",
        "2. From poor represntation of the data to better representation\n",
        "\n",
        "\n",
        "*Note: loss less function may call as cost or criterion function*\n",
        "\n",
        "\n",
        "\n",
        "---\n",
        "\n",
        "Things need to be train:\n",
        "\n",
        "***Less function*** :  how worng your out put to ideal output\n",
        "\n",
        "***Optimizer*** : Adjusts the model's parameters to imporve loss function\n",
        "\n",
        "1.   lr(lerning rate) - the lr is a hyper parameter that defines how big/small the optimizer changes the parameters\n",
        "\n",
        "2.   params - model parameter you'd like to optimize [ params = model_0.parameter() ]\n",
        "\n",
        "\n",
        "\n",
        "\n",
        "---\n",
        "\n",
        "\n",
        "\n",
        "For pytorch we need :\n",
        "\n",
        "*   A training loop\n",
        "*   A testing loop\n",
        "\n"
      ],
      "metadata": {
        "id": "8PSnTLHasQ1A"
      }
    },
    {
      "cell_type": "code",
      "source": [
        "# check out models parameters [ parameter is a value model sets it self ]\n",
        "model_0.state_dict()"
      ],
      "metadata": {
        "colab": {
          "base_uri": "https://localhost:8080/"
        },
        "id": "kMG1svPly2GU",
        "outputId": "418d08a8-b08a-40c8-9adf-ae56a21b8eec"
      },
      "execution_count": 18,
      "outputs": [
        {
          "output_type": "execute_result",
          "data": {
            "text/plain": [
              "OrderedDict([('weights', tensor([0.3367])), ('bias', tensor([0.1288]))])"
            ]
          },
          "metadata": {},
          "execution_count": 18
        }
      ]
    },
    {
      "cell_type": "code",
      "source": [
        "import torch\n",
        "from torch import nn\n",
        "\n",
        "# Setup a loss function\n",
        "loss_fn = nn.L1Loss()\n",
        "\n",
        "# Setup an optimizer\n",
        "optimizer = torch.optim.SGD(params = model_0.parameters(),\n",
        "                            lr = 0.01) # lr = lerning rate -> possibly the most important hyperparameter you can set\n"
      ],
      "metadata": {
        "id": "x626a91X4_AT"
      },
      "execution_count": 20,
      "outputs": []
    },
    {
      "cell_type": "markdown",
      "source": [
        "### Building a training loop (and a testin loop)\n",
        "\n"
      ],
      "metadata": {
        "id": "XUyPS9mv19UN"
      }
    },
    {
      "cell_type": "code",
      "source": [],
      "metadata": {
        "id": "xHJFExIG11ze"
      },
      "execution_count": null,
      "outputs": []
    }
  ]
}